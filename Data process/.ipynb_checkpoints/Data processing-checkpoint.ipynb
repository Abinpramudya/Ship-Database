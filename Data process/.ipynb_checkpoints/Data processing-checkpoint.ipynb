{
 "cells": [
  {
   "cell_type": "code",
   "execution_count": 106,
   "id": "3429cbc5",
   "metadata": {},
   "outputs": [],
   "source": [
    "import os\n",
    "import pandas as pd\n",
    "import yaml\n",
    "import csv"
   ]
  },
  {
   "cell_type": "code",
   "execution_count": 107,
   "id": "cf080fc0",
   "metadata": {},
   "outputs": [],
   "source": [
    "# Get the current working directory\n",
    "cwd = os.getcwd()\n",
    "project_dir = os.path.abspath(os.path.join(cwd, \"../\"))"
   ]
  },
  {
   "cell_type": "code",
   "execution_count": 108,
   "id": "49b6bdb8",
   "metadata": {},
   "outputs": [],
   "source": [
    "#config read\n",
    "config = os.path.join(cwd, 'data config.yaml')\n",
    "\n",
    "with open(config, 'r') as config_file:\n",
    "    config = yaml.safe_load(config_file)\n",
    "\n",
    "vessel_type = config['vessel_type']\n",
    "class_type = config['class']"
   ]
  },
  {
   "cell_type": "code",
   "execution_count": 109,
   "id": "0be615f7",
   "metadata": {},
   "outputs": [],
   "source": [
    "# Directory file csv\n",
    "write_path= os.path.join(cwd,class_type,\"/output\")\n",
    "read_path = os.path.join(project_dir,\"ship data scrapping/output\",class_type, vessel_type)"
   ]
  },
  {
   "cell_type": "code",
   "execution_count": 110,
   "id": "7a1f807a",
   "metadata": {},
   "outputs": [],
   "source": [
    "# Define the fieldnames for the CSV file\n",
    "fieldnames = ['NAME', 'REGISTER', 'IMO', 'TYPE', 'LOA', 'LPP', 'B', 'H', 'T', 'GT', 'NT', 'DWT', 'Link']"
   ]
  },
  {
   "cell_type": "code",
   "execution_count": 111,
   "id": "8f4e588b",
   "metadata": {},
   "outputs": [],
   "source": [
    "# Merge CSV files\n",
    "output_file = os.path.join(write_path, '{}.csv'.format(vessel_type))\n",
    "\n",
    "# Create the directory if it doesn't exist\n",
    "os.makedirs(write_path, exist_ok=True)\n",
    "\n",
    "with open(output_file, 'w', newline='') as outfile:\n",
    "    writer = csv.DictWriter(outfile, fieldnames=fieldnames)\n",
    "    writer.writeheader()\n",
    "\n",
    "    # Loop through each CSV file in the directory\n",
    "    for filename in os.listdir(read_path):\n",
    "        if filename.endswith('.csv'):\n",
    "            file_path = os.path.join(read_path, filename)\n",
    "\n",
    "            # Skip the first row (header) for all files except the first one\n",
    "            skip_header = False\n",
    "\n",
    "            with open(file_path, 'r') as infile:\n",
    "                reader = csv.DictReader(infile)\n",
    "                for row in reader:\n",
    "                    if not skip_header:\n",
    "                        skip_header = True\n",
    "                        continue\n",
    "                    writer.writerow(row)"
   ]
  },
  {
   "cell_type": "code",
   "execution_count": null,
   "id": "0d2c62d4",
   "metadata": {},
   "outputs": [],
   "source": []
  }
 ],
 "metadata": {
  "kernelspec": {
   "display_name": "Python 3 (ipykernel)",
   "language": "python",
   "name": "python3"
  },
  "language_info": {
   "codemirror_mode": {
    "name": "ipython",
    "version": 3
   },
   "file_extension": ".py",
   "mimetype": "text/x-python",
   "name": "python",
   "nbconvert_exporter": "python",
   "pygments_lexer": "ipython3",
   "version": "3.8.0"
  }
 },
 "nbformat": 4,
 "nbformat_minor": 5
}
