{
 "cells": [
  {
   "cell_type": "code",
   "execution_count": 1,
   "id": "20c14e7a",
   "metadata": {},
   "outputs": [],
   "source": [
    "import os\n",
    "import time\n",
    "import csv\n",
    "import re\n",
    "import yaml\n",
    "import inspect\n",
    "from tqdm import tqdm\n",
    "from selenium import webdriver\n",
    "from selenium.webdriver.common.by import By\n",
    "from selenium.webdriver.common.keys import Keys\n",
    "from selenium.webdriver.support import expected_conditions as EC\n",
    "from selenium.common.exceptions import NoSuchElementException\n",
    "from selenium.webdriver.chrome.options import Options\n",
    "from selenium.webdriver.support.ui import WebDriverWait\n",
    "from selenium.webdriver.common.action_chains import ActionChains"
   ]
  },
  {
   "cell_type": "code",
   "execution_count": 2,
   "id": "cff25879",
   "metadata": {},
   "outputs": [],
   "source": [
    "# Get the current working directory\n",
    "current_dir = os.getcwd()\n",
    "\n",
    "# Move up a couple of folders\n",
    "project_dir = os.path.abspath(os.path.join(current_dir, \"../../\"))"
   ]
  },
  {
   "cell_type": "code",
   "execution_count": 3,
   "id": "9d8ba8ef",
   "metadata": {},
   "outputs": [],
   "source": [
    "# Define the path to your YAML file\n",
    "yaml_file = os.path.abspath(os.path.join(current_dir, \"../../config.yaml\"))\n",
    "\n",
    "# Read the YAML file\n",
    "with open(yaml_file, 'r') as file:\n",
    "    config = yaml.safe_load(file)\n",
    "\n",
    "# Access the values from the YAML file\n",
    "vessel_type = config['vessel_type']\n",
    "class_type = config['class']\n",
    "base = config['base']\n",
    "quota = str(config['quota'])"
   ]
  },
  {
   "cell_type": "code",
   "execution_count": 4,
   "id": "7d1e726c",
   "metadata": {},
   "outputs": [],
   "source": [
    "#edit sesuai kebutuhan\n",
    "num = base + 1\n",
    "filenum = str(num)"
   ]
  },
  {
   "cell_type": "code",
   "execution_count": 5,
   "id": "f396cef8",
   "metadata": {},
   "outputs": [],
   "source": [
    "# Directory file csv\n",
    "read_path = os.path.join(project_dir,\"input/class\",class_type,vessel_type,quota,\"split_{}.csv\".format(filenum))\n",
    "write_path = os.path.join(project_dir,\"output\",class_type, vessel_type,\"{}.csv\".format(filenum))"
   ]
  },
  {
   "cell_type": "code",
   "execution_count": 6,
   "id": "eb649e6a",
   "metadata": {},
   "outputs": [
    {
     "name": "stdout",
     "output_type": "stream",
     "text": [
      "C:\\Users\\abinp\\Documents\\ITS\\side projects\\new\\ship data scrapping\\input/class\\bv\\general cargo\\100\\split_1.csv\n",
      "C:\\Users\\abinp\\Documents\\ITS\\side projects\\new\\ship data scrapping\\output\\bv\\general cargo\\1.csv\n"
     ]
    }
   ],
   "source": [
    "print(read_path)\n",
    "print(write_path)"
   ]
  },
  {
   "cell_type": "code",
   "execution_count": 7,
   "id": "7e83200d",
   "metadata": {},
   "outputs": [
    {
     "name": "stdout",
     "output_type": "stream",
     "text": [
      "CSV read file is found, continuing...\n",
      "CSV write file  is found, continuing...\n"
     ]
    }
   ],
   "source": [
    "# Check if input file exists\n",
    "if os.path.exists(read_path):\n",
    "    print(f\"CSV read file is found, continuing...\")\n",
    "    \n",
    "else:\n",
    "    print(f\"CSV read file is not found\")\n",
    "    print('exiting....')\n",
    "    \n",
    "# Check if output file exists and create it if necessary\n",
    "if os.path.exists(write_path):\n",
    "    print(f\"CSV write file  is found, continuing...\")\n",
    "else:\n",
    "    print(f\"CSV write file is not found, creating one...\")\n",
    "    os.makedirs(os.path.dirname(write_path), exist_ok=True) # Create output directory if it doesn't exist\n",
    "    with open(write_path, 'w', newline='') as f:\n",
    "        writer = csv.writer(f)"
   ]
  },
  {
   "cell_type": "code",
   "execution_count": 8,
   "id": "bdae249c",
   "metadata": {},
   "outputs": [],
   "source": [
    "def search(IMO):\n",
    "    driver.get(\"https://marine-offshore.bureauveritas.com/bv-fleet/#/bv-fleet/\")\n",
    "    actions = ActionChains(driver)\n",
    "    \n",
    "    try:\n",
    "        # Cookie button\n",
    "        cookie_button = WebDriverWait(driver, 5).until(EC.element_to_be_clickable((By.XPATH, '/html/body/div[1]/div/div/div[2]/div[3]/div[2]/button')))\n",
    "        driver.execute_script(\"arguments[0].click();\", cookie_button)\n",
    "    except Exception as e:\n",
    "        pass\n",
    "    \n",
    "    # Search bar\n",
    "    search_field = WebDriverWait(driver, 5).until(EC.presence_of_element_located((By.XPATH, '/html/body/div[2]/div/main/div/div/div[2]/div/app-root/div/app-ship-basic-search/div/div/form/fieldset/div[1]/div/div/div[1]/input')))\n",
    "    search_field.send_keys(IMO)\n",
    "    \n",
    "    # Search button\n",
    "    search_button = WebDriverWait(driver, 3).until(EC.element_to_be_clickable((By.XPATH, '/html/body/div[2]/div/main/div/div/div[2]/div/app-root/div/app-ship-basic-search/div/div/form/fieldset/div[2]/div[1]/div/button')))\n",
    "    driver.execute_script(\"arguments[0].click();\", search_button)\n",
    "\n",
    "    # Ships button\n",
    "    ship_button = WebDriverWait(driver, 5).until(EC.element_to_be_clickable((By.XPATH, '/html/body/div[2]/div/main/div/div/div[2]/div/app-root/div/app-ship-basic-search/div/div/div[2]/ul/li/div/div[1]/a[1]')))\n",
    "    driver.execute_script(\"arguments[0].click();\", ship_button)\n",
    "\n"
   ]
  },
  {
   "cell_type": "code",
   "execution_count": 9,
   "id": "f382a9bf",
   "metadata": {},
   "outputs": [],
   "source": [
    "def extract_numeric_value(text):\n",
    "    # Use regex to remove letters and keep digits and specific non-numeric characters\n",
    "    cleaned_text = re.sub(r'[^0-9()\\[\\]{}.,;:<>]', '', text)\n",
    "    \n",
    "    # Use regex to extract the numeric value from the cleaned text\n",
    "    match = re.search(r'\\d+\\.?\\d*', cleaned_text)\n",
    "    if match:\n",
    "        return match.group()\n",
    "    else:\n",
    "        return None"
   ]
  },
  {
   "cell_type": "code",
   "execution_count": 16,
   "id": "df65218b",
   "metadata": {},
   "outputs": [],
   "source": [
    "def find_xpath_by_text1(driver, target_text):\n",
    "    base_row_xpath = \"/html/body/app-popup/div/div[2]/div[2]/app-ship-details/div/div/table[1]/tbody/tr[NUMBER]/td[1]\"\n",
    "    \n",
    "    for number in range(2, 42, 2):  # Iterate from 2 to 40 (inclusive), with a step of 2\n",
    "        row_xpath = base_row_xpath.replace(\"NUMBER\", str(number))\n",
    "        \n",
    "        # Use WebDriverWait to wait for the element to be present and visible\n",
    "        try:\n",
    "            element = WebDriverWait(driver, 10).until(EC.visibility_of_element_located((By.XPATH, str(row_xpath))))\n",
    "            \n",
    "            if target_text in element.text:\n",
    "                # If the target_text is found in the row, get the corresponding content xpath\n",
    "                content_xpath = row_xpath.replace(\"/td[1]\", \"/td[2]\")\n",
    "                return content_xpath\n",
    "        except:\n",
    "            pass\n",
    "\n",
    "    # Return None if the target_text is not found after 20 attempts\n",
    "    return None\n"
   ]
  },
  {
   "cell_type": "code",
   "execution_count": 17,
   "id": "94a1d644",
   "metadata": {},
   "outputs": [],
   "source": [
    "def find_xpath_by_text2(driver, target_text):\n",
    "    base_row_xpath = \"/html/body/app-popup/div/div[2]/div[2]/app-ship-details/div/div/table[3]/tbody/tr[NUMBER]/td[1]\"\n",
    "    number = 2\n",
    "    global debug\n",
    "    while True:\n",
    "        row_xpath = base_row_xpath.replace(\"NUMBER\", str(number))\n",
    "        \n",
    "        # Use WebDriverWait to wait for the element to be present and visible\n",
    "        try:\n",
    "            element = WebDriverWait(driver, 10).until(EC.visibility_of_element_located((By.XPATH, str(row_xpath))))\n",
    "            if target_text in element.text:\n",
    "                # If the target_text is found in the row, get the corresponding content xpath\n",
    "                content_xpath = row_xpath.replace(\"/td[1]\", \"/td[2]\")\n",
    "                return content_xpath\n",
    "        except:\n",
    "            break\n",
    "\n",
    "        number += 2\n",
    "\n",
    "    # Return None if the target_text is not found\n",
    "    return None"
   ]
  },
  {
   "cell_type": "code",
   "execution_count": 18,
   "id": "0e069f24",
   "metadata": {},
   "outputs": [],
   "source": [
    "def shipdata():\n",
    "    global LOA, LPP, B, H, T\n",
    "    global DWT, NT, GT, LT\n",
    "    global NAME, REGISTER, IMO, vessel_type\n",
    "    global link\n",
    "    \n",
    "    \n",
    "    wait = WebDriverWait(driver, 5) # Maximum wait time of 10 seconds\n",
    "    \n",
    "    target_text =\"Ship Name:\"\n",
    "    result_xpath = find_xpath_by_text1(driver,target_text)\n",
    "    NAME = wait.until(EC.visibility_of_element_located((By.XPATH,'{}'.format(result_xpath))))\n",
    "    \n",
    "    target_text =\"Register Number:\"\n",
    "    result_xpath = find_xpath_by_text1(driver,target_text)\n",
    "    REGISTER = wait.until(EC.visibility_of_element_located((By.XPATH,'{}'.format(result_xpath))))    \n",
    "    \n",
    "    try:\n",
    "        target_text =\"IMO Number:\"\n",
    "        result_xpath = find_xpath_by_text1(driver,target_text)\n",
    "        IMO = wait.until(EC.visibility_of_element_located((By.XPATH,'{}'.format(result_xpath))))   \n",
    "    \n",
    "    except:\n",
    "        IMO =\"-\"\n",
    "    \n",
    "    target_text =\"Type & service:\"\n",
    "    result_xpath = find_xpath_by_text1(driver,target_text)\n",
    "    vessel_type = wait.until(EC.visibility_of_element_located((By.XPATH,'{}'.format(result_xpath))))   \n",
    "    \n",
    "    \n",
    "    # Principal dimension\n",
    "    target_text =\"Overall Length:\"\n",
    "    result_xpath = find_xpath_by_text2(driver,target_text)\n",
    "    print(result_xpath)\n",
    "    LOA_text = wait.until(EC.visibility_of_element_located((By.XPATH,'{}'.format(result_xpath))))\n",
    "    LOA = extract_numeric_value(LOA_text.text)\n",
    "    \n",
    "    target_text =\"LPP:\"\n",
    "    result_xpath = find_xpath_by_text2(driver,target_text)\n",
    "    LPP_text = wait.until(EC.visibility_of_element_located((By.XPATH,'{}'.format(result_xpath))))\n",
    "    LPP = extract_numeric_value(LPP_text.text)\n",
    "    \n",
    "    \n",
    "    target_text =\"Breadth:\"\n",
    "    result_xpath = find_xpath_by_text2(driver,target_text)\n",
    "    B_text = wait.until(EC.visibility_of_element_located((By.XPATH,'{}'.format(result_xpath))))\n",
    "    B = extract_numeric_value(B_text.text)\n",
    "    \n",
    "    try:\n",
    "        target_text =\"Depth:\"\n",
    "        result_xpath = find_xpath_by_text2(driver,target_text)\n",
    "        H_text = wait.until(EC.visibility_of_element_located((By.XPATH,'{}'.format(result_xpath))))\n",
    "        H = extract_numeric_value(H_text.text)\n",
    "    except:\n",
    "        H = '-'\n",
    "    \n",
    "    target_text =\"Draught:\"\n",
    "    result_xpath = find_xpath_by_text2(driver,target_text) \n",
    "    T_text = wait.until(EC.visibility_of_element_located((By.XPATH,'{}'.format(result_xpath))))\n",
    "    T = extract_numeric_value(T_text.text)\n",
    "    \n",
    "    # Ship tonnage\n",
    "    try:\n",
    "        target_text =\"Gross Tonnage 69:\"\n",
    "        result_xpath = find_xpath_by_text2(driver,target_text)     \n",
    "        GT_text = wait.until(EC.visibility_of_element_located((By.XPATH,'{}'.format(result_xpath))))\n",
    "        GT = extract_numeric_value(GT_text.text)\n",
    "    except:\n",
    "        GT = '-'\n",
    "    \n",
    "    try:\n",
    "        target_text =\"Net Tonnage 69:\"\n",
    "        result_xpath = find_xpath_by_text2(driver,target_text)  \n",
    "        NT_text = wait.until(EC.visibility_of_element_located((By.XPATH,'{}'.format(result_xpath))))\n",
    "        NT = extract_numeric_value(NT_text.text)\n",
    "    except:\n",
    "        NT = '-'\n",
    "        \n",
    "    try:\n",
    "        target_text =\"Deadweight:\"\n",
    "        result_xpath = find_xpath_by_text2(driver,target_text)\n",
    "        DWT_text = wait.until(EC.visibility_of_element_located((By.XPATH,'{}'.format(result_xpath))))\n",
    "        DWT = extract_numeric_value(DWT_text.text)\n",
    "    except:\n",
    "        DWT = '-'\n",
    "\n",
    "    link = 'https://www.vesselfinder.com/vessels/details/{}'.format(IMO.text)\n",
    "\n",
    "#     # Print statements for extracted data\n",
    "#     print(\"Ship Name:\", NAME.text)\n",
    "#     print(\"Register Number:\", REGISTER.text)\n",
    "#     print(\"IMO Number:\", IMO.text)\n",
    "#     print(\"Type & Service:\", vessel_type.text)\n",
    "#     print(\"Overall Length:\", LOA)\n",
    "#     print(\"LPP:\", LPP)\n",
    "#     print(\"Breadth:\", B)\n",
    "#     print(\"Depth:\", H)\n",
    "#     print(\"Draught:\", T)\n",
    "#     print(\"Gross Tonnage:\", GT)\n",
    "#     print(\"Net Tonnage:\", NT)\n",
    "#     print(\"Deadweight:\", DWT)\n"
   ]
  },
  {
   "cell_type": "code",
   "execution_count": 19,
   "id": "8fa9b190",
   "metadata": {},
   "outputs": [],
   "source": [
    "# Define the fieldnames for the CSV file\n",
    "fieldnames = ['NAME', 'REGISTER', 'IMO', 'TYPE', 'LOA', 'LPP', 'B', 'H', 'T',  'GT', 'NT', 'DWT', 'Link']"
   ]
  },
  {
   "cell_type": "code",
   "execution_count": 20,
   "id": "9909c10a",
   "metadata": {},
   "outputs": [
    {
     "name": "stderr",
     "output_type": "stream",
     "text": [
      "\n",
      "Processing IMOs:   5%|██                                        | 5/101 [1:49:24<35:00:47, 1312.99s/it, Ships Found =4]\u001b[A\n",
      "\n",
      "Processing IMOs:   1%|▍                                               | 1/101 [00:00<00:00, 504.00it/s, Ships Found =0]\u001b[A"
     ]
    },
    {
     "ename": "TimeoutException",
     "evalue": "Message: \nStacktrace:\nBacktrace:\n\tGetHandleVerifier [0x0066A813+48355]\n\t(No symbol) [0x005FC4B1]\n\t(No symbol) [0x00505358]\n\t(No symbol) [0x005309A5]\n\t(No symbol) [0x00530B3B]\n\t(No symbol) [0x0055E232]\n\t(No symbol) [0x0054A784]\n\t(No symbol) [0x0055C922]\n\t(No symbol) [0x0054A536]\n\t(No symbol) [0x005282DC]\n\t(No symbol) [0x005293DD]\n\tGetHandleVerifier [0x008CAABD+2539405]\n\tGetHandleVerifier [0x0090A78F+2800735]\n\tGetHandleVerifier [0x0090456C+2775612]\n\tGetHandleVerifier [0x006F51E0+616112]\n\t(No symbol) [0x00605F8C]\n\t(No symbol) [0x00602328]\n\t(No symbol) [0x0060240B]\n\t(No symbol) [0x005F4FF7]\n\tBaseThreadInitThunk [0x75D27D59+25]\n\tRtlInitializeExceptionChain [0x7749B79B+107]\n\tRtlClearBits [0x7749B71F+191]\n",
     "output_type": "error",
     "traceback": [
      "\u001b[1;31m---------------------------------------------------------------------------\u001b[0m",
      "\u001b[1;31mTimeoutException\u001b[0m                          Traceback (most recent call last)",
      "Cell \u001b[1;32mIn[20], line 32\u001b[0m\n\u001b[0;32m     28\u001b[0m progress_bar\u001b[38;5;241m.\u001b[39mset_postfix({\u001b[38;5;124m'\u001b[39m\u001b[38;5;124mShips Found \u001b[39m\u001b[38;5;124m'\u001b[39m: ship_count})\n\u001b[0;32m     31\u001b[0m search(IMO)\n\u001b[1;32m---> 32\u001b[0m \u001b[43mshipdata\u001b[49m\u001b[43m(\u001b[49m\u001b[43m)\u001b[49m\n\u001b[0;32m     33\u001b[0m ship_count \u001b[38;5;241m+\u001b[39m\u001b[38;5;241m=\u001b[39m \u001b[38;5;241m1\u001b[39m\n\u001b[0;32m     37\u001b[0m details_dict \u001b[38;5;241m=\u001b[39m {\n\u001b[0;32m     38\u001b[0m     \u001b[38;5;124m'\u001b[39m\u001b[38;5;124mNAME\u001b[39m\u001b[38;5;124m'\u001b[39m: NAME\u001b[38;5;241m.\u001b[39mtext, \u001b[38;5;124m'\u001b[39m\u001b[38;5;124mREGISTER\u001b[39m\u001b[38;5;124m'\u001b[39m: REGISTER\u001b[38;5;241m.\u001b[39mtext, \u001b[38;5;124m'\u001b[39m\u001b[38;5;124mIMO\u001b[39m\u001b[38;5;124m'\u001b[39m: IMO\u001b[38;5;241m.\u001b[39mtext,\n\u001b[0;32m     39\u001b[0m     \u001b[38;5;124m'\u001b[39m\u001b[38;5;124mTYPE\u001b[39m\u001b[38;5;124m'\u001b[39m: vessel_type\u001b[38;5;241m.\u001b[39mtext, \u001b[38;5;124m'\u001b[39m\u001b[38;5;124mLOA\u001b[39m\u001b[38;5;124m'\u001b[39m: LOA, \u001b[38;5;124m'\u001b[39m\u001b[38;5;124mLPP\u001b[39m\u001b[38;5;124m'\u001b[39m: LPP,\n\u001b[0;32m     40\u001b[0m     \u001b[38;5;124m'\u001b[39m\u001b[38;5;124mB\u001b[39m\u001b[38;5;124m'\u001b[39m: B, \u001b[38;5;124m'\u001b[39m\u001b[38;5;124mH\u001b[39m\u001b[38;5;124m'\u001b[39m: H, \u001b[38;5;124m'\u001b[39m\u001b[38;5;124mT\u001b[39m\u001b[38;5;124m'\u001b[39m: T, \u001b[38;5;124m'\u001b[39m\u001b[38;5;124mGT\u001b[39m\u001b[38;5;124m'\u001b[39m: GT,\n\u001b[0;32m     41\u001b[0m     \u001b[38;5;124m'\u001b[39m\u001b[38;5;124mNT\u001b[39m\u001b[38;5;124m'\u001b[39m: NT, \u001b[38;5;124m'\u001b[39m\u001b[38;5;124mDWT\u001b[39m\u001b[38;5;124m'\u001b[39m: DWT, \u001b[38;5;124m'\u001b[39m\u001b[38;5;124mLink\u001b[39m\u001b[38;5;124m'\u001b[39m: link\n\u001b[0;32m     42\u001b[0m }\n",
      "Cell \u001b[1;32mIn[18], line 12\u001b[0m, in \u001b[0;36mshipdata\u001b[1;34m()\u001b[0m\n\u001b[0;32m     10\u001b[0m target_text \u001b[38;5;241m=\u001b[39m\u001b[38;5;124m\"\u001b[39m\u001b[38;5;124mShip Name:\u001b[39m\u001b[38;5;124m\"\u001b[39m\n\u001b[0;32m     11\u001b[0m result_xpath \u001b[38;5;241m=\u001b[39m find_xpath_by_text1(driver,target_text)\n\u001b[1;32m---> 12\u001b[0m NAME \u001b[38;5;241m=\u001b[39m \u001b[43mwait\u001b[49m\u001b[38;5;241;43m.\u001b[39;49m\u001b[43muntil\u001b[49m\u001b[43m(\u001b[49m\u001b[43mEC\u001b[49m\u001b[38;5;241;43m.\u001b[39;49m\u001b[43mvisibility_of_element_located\u001b[49m\u001b[43m(\u001b[49m\u001b[43m(\u001b[49m\u001b[43mBy\u001b[49m\u001b[38;5;241;43m.\u001b[39;49m\u001b[43mXPATH\u001b[49m\u001b[43m,\u001b[49m\u001b[38;5;124;43m'\u001b[39;49m\u001b[38;5;132;43;01m{}\u001b[39;49;00m\u001b[38;5;124;43m'\u001b[39;49m\u001b[38;5;241;43m.\u001b[39;49m\u001b[43mformat\u001b[49m\u001b[43m(\u001b[49m\u001b[43mresult_xpath\u001b[49m\u001b[43m)\u001b[49m\u001b[43m)\u001b[49m\u001b[43m)\u001b[49m\u001b[43m)\u001b[49m\n\u001b[0;32m     14\u001b[0m target_text \u001b[38;5;241m=\u001b[39m\u001b[38;5;124m\"\u001b[39m\u001b[38;5;124mRegister Number:\u001b[39m\u001b[38;5;124m\"\u001b[39m\n\u001b[0;32m     15\u001b[0m result_xpath \u001b[38;5;241m=\u001b[39m find_xpath_by_text1(driver,target_text)\n",
      "File \u001b[1;32mc:\\users\\abinp\\appdata\\local\\programs\\python\\python38\\lib\\site-packages\\selenium\\webdriver\\support\\wait.py:95\u001b[0m, in \u001b[0;36mWebDriverWait.until\u001b[1;34m(self, method, message)\u001b[0m\n\u001b[0;32m     93\u001b[0m     \u001b[38;5;28;01mif\u001b[39;00m time\u001b[38;5;241m.\u001b[39mmonotonic() \u001b[38;5;241m>\u001b[39m end_time:\n\u001b[0;32m     94\u001b[0m         \u001b[38;5;28;01mbreak\u001b[39;00m\n\u001b[1;32m---> 95\u001b[0m \u001b[38;5;28;01mraise\u001b[39;00m TimeoutException(message, screen, stacktrace)\n",
      "\u001b[1;31mTimeoutException\u001b[0m: Message: \nStacktrace:\nBacktrace:\n\tGetHandleVerifier [0x0066A813+48355]\n\t(No symbol) [0x005FC4B1]\n\t(No symbol) [0x00505358]\n\t(No symbol) [0x005309A5]\n\t(No symbol) [0x00530B3B]\n\t(No symbol) [0x0055E232]\n\t(No symbol) [0x0054A784]\n\t(No symbol) [0x0055C922]\n\t(No symbol) [0x0054A536]\n\t(No symbol) [0x005282DC]\n\t(No symbol) [0x005293DD]\n\tGetHandleVerifier [0x008CAABD+2539405]\n\tGetHandleVerifier [0x0090A78F+2800735]\n\tGetHandleVerifier [0x0090456C+2775612]\n\tGetHandleVerifier [0x006F51E0+616112]\n\t(No symbol) [0x00605F8C]\n\t(No symbol) [0x00602328]\n\t(No symbol) [0x0060240B]\n\t(No symbol) [0x005F4FF7]\n\tBaseThreadInitThunk [0x75D27D59+25]\n\tRtlInitializeExceptionChain [0x7749B79B+107]\n\tRtlClearBits [0x7749B71F+191]\n"
     ]
    }
   ],
   "source": [
    "# Set up the webdriver\n",
    "driver = webdriver.Chrome()\n",
    "\n",
    "# Counters for ships found and total IMOs\n",
    "ship_count = 0\n",
    "total_imo = 0\n",
    "\n",
    "# Open the input file to get the total number of IMOs\n",
    "with open(read_path, newline='') as csvfile:\n",
    "    reader = csv.reader(csvfile)\n",
    "    total_imo = sum(1 for _ in reader)\n",
    "\n",
    "# Open the CSV file for writing\n",
    "with open(write_path, mode='w', newline='') as details_file:\n",
    "    writer = csv.DictWriter(details_file, fieldnames=fieldnames)\n",
    "    writer.writeheader()\n",
    "\n",
    "    # Create a progress bar\n",
    "    progress_bar = tqdm(total=total_imo, desc='Processing IMOs')\n",
    "\n",
    "    # Open the input file and loop through each vessel name\n",
    "    with open(read_path, newline='') as csvfile:\n",
    "        reader = csv.reader(csvfile)\n",
    "        next(reader, None)\n",
    "        for row in reader:\n",
    "            IMO = row[0]\n",
    "            progress_bar.update(1)\n",
    "            progress_bar.set_postfix({'Ships Found ': ship_count})\n",
    "            \n",
    "         \n",
    "            search(IMO)\n",
    "            shipdata()\n",
    "            ship_count += 1\n",
    "                \n",
    "\n",
    "\n",
    "            details_dict = {\n",
    "                'NAME': NAME.text, 'REGISTER': REGISTER.text, 'IMO': IMO.text,\n",
    "                'TYPE': vessel_type.text, 'LOA': LOA, 'LPP': LPP,\n",
    "                'B': B, 'H': H, 'T': T, 'GT': GT,\n",
    "                'NT': NT, 'DWT': DWT, 'Link': link\n",
    "            }\n",
    "            writer.writerow(details_dict)\n",
    "\n",
    "\n",
    "    # Close the progress bar\n",
    "    progress_bar.close()\n",
    "\n",
    "# Close the webdriver\n",
    "driver.quit()\n",
    "\n",
    "# Display the total number of ships found\n",
    "print('Total Ships Found:', ship_count)"
   ]
  },
  {
   "cell_type": "code",
   "execution_count": 21,
   "id": "28b6d08e",
   "metadata": {},
   "outputs": [
    {
     "ename": "TimeoutException",
     "evalue": "Message: \nStacktrace:\nBacktrace:\n\tGetHandleVerifier [0x0066A813+48355]\n\t(No symbol) [0x005FC4B1]\n\t(No symbol) [0x00505358]\n\t(No symbol) [0x005309A5]\n\t(No symbol) [0x00530B3B]\n\t(No symbol) [0x0055E232]\n\t(No symbol) [0x0054A784]\n\t(No symbol) [0x0055C922]\n\t(No symbol) [0x0054A536]\n\t(No symbol) [0x005282DC]\n\t(No symbol) [0x005293DD]\n\tGetHandleVerifier [0x008CAABD+2539405]\n\tGetHandleVerifier [0x0090A78F+2800735]\n\tGetHandleVerifier [0x0090456C+2775612]\n\tGetHandleVerifier [0x006F51E0+616112]\n\t(No symbol) [0x00605F8C]\n\t(No symbol) [0x00602328]\n\t(No symbol) [0x0060240B]\n\t(No symbol) [0x005F4FF7]\n\tBaseThreadInitThunk [0x75D27D59+25]\n\tRtlInitializeExceptionChain [0x7749B79B+107]\n\tRtlClearBits [0x7749B71F+191]\n",
     "output_type": "error",
     "traceback": [
      "\u001b[1;31m---------------------------------------------------------------------------\u001b[0m",
      "\u001b[1;31mTimeoutException\u001b[0m                          Traceback (most recent call last)",
      "Cell \u001b[1;32mIn[21], line 8\u001b[0m\n\u001b[0;32m      5\u001b[0m IMO \u001b[38;5;241m=\u001b[39m \u001b[38;5;124m'\u001b[39m\u001b[38;5;124m8857083\u001b[39m\u001b[38;5;124m'\u001b[39m\n\u001b[0;32m      7\u001b[0m search(IMO)\n\u001b[1;32m----> 8\u001b[0m \u001b[43mshipdata\u001b[49m\u001b[43m(\u001b[49m\u001b[43m)\u001b[49m\n",
      "Cell \u001b[1;32mIn[18], line 12\u001b[0m, in \u001b[0;36mshipdata\u001b[1;34m()\u001b[0m\n\u001b[0;32m     10\u001b[0m target_text \u001b[38;5;241m=\u001b[39m\u001b[38;5;124m\"\u001b[39m\u001b[38;5;124mShip Name:\u001b[39m\u001b[38;5;124m\"\u001b[39m\n\u001b[0;32m     11\u001b[0m result_xpath \u001b[38;5;241m=\u001b[39m find_xpath_by_text1(driver,target_text)\n\u001b[1;32m---> 12\u001b[0m NAME \u001b[38;5;241m=\u001b[39m \u001b[43mwait\u001b[49m\u001b[38;5;241;43m.\u001b[39;49m\u001b[43muntil\u001b[49m\u001b[43m(\u001b[49m\u001b[43mEC\u001b[49m\u001b[38;5;241;43m.\u001b[39;49m\u001b[43mvisibility_of_element_located\u001b[49m\u001b[43m(\u001b[49m\u001b[43m(\u001b[49m\u001b[43mBy\u001b[49m\u001b[38;5;241;43m.\u001b[39;49m\u001b[43mXPATH\u001b[49m\u001b[43m,\u001b[49m\u001b[38;5;124;43m'\u001b[39;49m\u001b[38;5;132;43;01m{}\u001b[39;49;00m\u001b[38;5;124;43m'\u001b[39;49m\u001b[38;5;241;43m.\u001b[39;49m\u001b[43mformat\u001b[49m\u001b[43m(\u001b[49m\u001b[43mresult_xpath\u001b[49m\u001b[43m)\u001b[49m\u001b[43m)\u001b[49m\u001b[43m)\u001b[49m\u001b[43m)\u001b[49m\n\u001b[0;32m     14\u001b[0m target_text \u001b[38;5;241m=\u001b[39m\u001b[38;5;124m\"\u001b[39m\u001b[38;5;124mRegister Number:\u001b[39m\u001b[38;5;124m\"\u001b[39m\n\u001b[0;32m     15\u001b[0m result_xpath \u001b[38;5;241m=\u001b[39m find_xpath_by_text1(driver,target_text)\n",
      "File \u001b[1;32mc:\\users\\abinp\\appdata\\local\\programs\\python\\python38\\lib\\site-packages\\selenium\\webdriver\\support\\wait.py:95\u001b[0m, in \u001b[0;36mWebDriverWait.until\u001b[1;34m(self, method, message)\u001b[0m\n\u001b[0;32m     93\u001b[0m     \u001b[38;5;28;01mif\u001b[39;00m time\u001b[38;5;241m.\u001b[39mmonotonic() \u001b[38;5;241m>\u001b[39m end_time:\n\u001b[0;32m     94\u001b[0m         \u001b[38;5;28;01mbreak\u001b[39;00m\n\u001b[1;32m---> 95\u001b[0m \u001b[38;5;28;01mraise\u001b[39;00m TimeoutException(message, screen, stacktrace)\n",
      "\u001b[1;31mTimeoutException\u001b[0m: Message: \nStacktrace:\nBacktrace:\n\tGetHandleVerifier [0x0066A813+48355]\n\t(No symbol) [0x005FC4B1]\n\t(No symbol) [0x00505358]\n\t(No symbol) [0x005309A5]\n\t(No symbol) [0x00530B3B]\n\t(No symbol) [0x0055E232]\n\t(No symbol) [0x0054A784]\n\t(No symbol) [0x0055C922]\n\t(No symbol) [0x0054A536]\n\t(No symbol) [0x005282DC]\n\t(No symbol) [0x005293DD]\n\tGetHandleVerifier [0x008CAABD+2539405]\n\tGetHandleVerifier [0x0090A78F+2800735]\n\tGetHandleVerifier [0x0090456C+2775612]\n\tGetHandleVerifier [0x006F51E0+616112]\n\t(No symbol) [0x00605F8C]\n\t(No symbol) [0x00602328]\n\t(No symbol) [0x0060240B]\n\t(No symbol) [0x005F4FF7]\n\tBaseThreadInitThunk [0x75D27D59+25]\n\tRtlInitializeExceptionChain [0x7749B79B+107]\n\tRtlClearBits [0x7749B71F+191]\n"
     ]
    }
   ],
   "source": [
    "# Set up the webdriver\n",
    "driver = webdriver.Chrome()\n",
    "\n",
    "\n",
    "IMO = '8857083'\n",
    "\n",
    "search(IMO)\n",
    "shipdata()"
   ]
  },
  {
   "cell_type": "code",
   "execution_count": null,
   "id": "b1df8bfb",
   "metadata": {},
   "outputs": [],
   "source": []
  }
 ],
 "metadata": {
  "kernelspec": {
   "display_name": "Python 3 (ipykernel)",
   "language": "python",
   "name": "python3"
  },
  "language_info": {
   "codemirror_mode": {
    "name": "ipython",
    "version": 3
   },
   "file_extension": ".py",
   "mimetype": "text/x-python",
   "name": "python",
   "nbconvert_exporter": "python",
   "pygments_lexer": "ipython3",
   "version": "3.8.0"
  }
 },
 "nbformat": 4,
 "nbformat_minor": 5
}
