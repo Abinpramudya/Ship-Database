{
 "cells": [
  {
   "cell_type": "code",
   "execution_count": 52,
   "id": "124c262c",
   "metadata": {},
   "outputs": [],
   "source": [
    "import os\n",
    "import re\n",
    "import csv\n",
    "from selenium import webdriver\n",
    "from selenium.webdriver.common.by import By\n",
    "from selenium.webdriver.support.ui import WebDriverWait\n",
    "from selenium.webdriver.support import expected_conditions as EC\n",
    "from selenium.common.exceptions import NoSuchElementException\n",
    "from selenium.webdriver.chrome.options import Options"
   ]
  },
  {
   "cell_type": "code",
   "execution_count": 53,
   "id": "68e80ac4",
   "metadata": {},
   "outputs": [],
   "source": [
    "#user setup area\n",
    "DWT_limit = 3000 #change this for the cap (multiplier of 1000)\n",
    "vessel_type = 401 #401 bulk carrier , 402 general cargo , 403 container , 6 all tanker \n",
    "minYear = '1985'\n",
    "maxYear = '2022'"
   ]
  },
  {
   "cell_type": "code",
   "execution_count": 54,
   "id": "792beb21",
   "metadata": {},
   "outputs": [],
   "source": [
    "filename = 'bulkcarrier.csv'\n",
    "directory ='C:/Users/abinp/Documents/ITS/side projects/new/imo scrapping/output/'\n",
    "csv_write = '{}{}'.format(directory,filename)"
   ]
  },
  {
   "cell_type": "code",
   "execution_count": 55,
   "id": "e154cc24",
   "metadata": {},
   "outputs": [
    {
     "name": "stdout",
     "output_type": "stream",
     "text": [
      " Volume in drive C has no label.\n",
      " Volume Serial Number is A071-85E6\n",
      "\n",
      " Directory of C:\\Users\\abinp\\Documents\\ITS\\side projects\\new\\imo scrapping\\scripts\n",
      "\n",
      "24/04/2023  17:17    <DIR>          .\n",
      "20/04/2023  20:05    <DIR>          ..\n",
      "21/04/2023  10:27    <DIR>          .ipynb_checkpoints\n",
      "23/04/2023  00:28             2.800 csv splitter.ipynb\n",
      "24/04/2023  17:17             7.228 Imo kapal.ipynb\n",
      "21/04/2023  10:31             9.694 Nama.ipynb\n",
      "21/04/2023  10:27           483.404 Nama_ngapal 4.ipynb\n",
      "               4 File(s)        503.126 bytes\n",
      "               3 Dir(s)  24.345.640.960 bytes free\n"
     ]
    }
   ],
   "source": [
    "%ls\n",
    "link =''\n",
    "vessel_names = []\n",
    "minDW = -1000\n",
    "maxDW = 0"
   ]
  },
  {
   "cell_type": "code",
   "execution_count": 56,
   "id": "7ff9e865",
   "metadata": {},
   "outputs": [
    {
     "name": "stdout",
     "output_type": "stream",
     "text": [
      "https://www.vesselfinder.com/vessels?type=401&minDW=0&maxDW=1000&minYear=1985&maxYear=2022&dir=1&sort=4\n"
     ]
    }
   ],
   "source": [
    "def changelink(min,max):\n",
    "    global minDW , maxDW , link\n",
    "    minDW = min + 1000\n",
    "    maxDW = max + 1000\n",
    "    link = \"https://www.vesselfinder.com/vessels?type={}&minDW={}&maxDW={}&minYear={}&maxYear={}&dir=1&sort=4\".format(vessel_type,minDW,maxDW,minYear,maxYear)   \n",
    "changelink(minDW,maxDW)\n",
    "print(link)"
   ]
  },
  {
   "cell_type": "code",
   "execution_count": 57,
   "id": "93b37e61",
   "metadata": {},
   "outputs": [],
   "source": [
    "# create webdriver instance using options\n",
    "driver = webdriver.Chrome(executable_path=r\"chromedriver\")\n",
    "\n",
    "# navigate to the link\n",
    "driver.get(link)"
   ]
  },
  {
   "cell_type": "code",
   "execution_count": 58,
   "id": "62b1479b",
   "metadata": {
    "scrolled": false
   },
   "outputs": [
    {
     "name": "stdout",
     "output_type": "stream",
     "text": [
      "changing range |  min dw :1000   max dw: 2000\n",
      "changing range |  min dw :2000   max dw: 3000\n",
      "reaching end of range\n"
     ]
    }
   ],
   "source": [
    "while True:\n",
    "    kelas = driver.find_elements(By.CLASS_NAME, \"ship-link\")\n",
    "    for element in kelas:\n",
    "        link = element.get_attribute(\"href\")\n",
    "        number = re.findall(r'\\d+', link)[0]\n",
    "        vessel_names.append(number)\n",
    "    try:\n",
    "        next_page = driver.find_element(By.CLASS_NAME, \"pagination-next\")\n",
    "        if not next_page.is_enabled():\n",
    "            print(\"Out of pages\")\n",
    "            break\n",
    "        next_page.click()\n",
    "        \n",
    "    except NoSuchElementException:\n",
    "        if maxDW == DWT_limit:\n",
    "            print(\"reaching end of range\")\n",
    "            break\n",
    "        else:\n",
    "            changelink(minDW,maxDW)\n",
    "            print(\"changing range |  min dw :{}   max dw: {}\".format(minDW,maxDW))\n",
    "            driver = webdriver.Chrome(executable_path=r\"chromedriver\")\n",
    "            driver.get(link)\n",
    "            continue"
   ]
  },
  {
   "cell_type": "code",
   "execution_count": 59,
   "id": "69a06d1e",
   "metadata": {},
   "outputs": [
    {
     "name": "stdout",
     "output_type": "stream",
     "text": [
      "Removing duplicates: 8689929\n"
     ]
    }
   ],
   "source": [
    "duplicates = []\n",
    "for name in vessel_names:\n",
    "    if vessel_names.count(name) > 1:\n",
    "        duplicates.append(name)\n",
    "\n",
    "duplicates = list(set(duplicates))\n",
    "\n",
    "for name in duplicates:\n",
    "    print(\"Removing duplicates:\", name)\n",
    "    \n",
    "#clear duplicate\n",
    "clear_list = list(set(vessel_names))\n",
    "vessel_names = clear_list"
   ]
  },
  {
   "cell_type": "code",
   "execution_count": 60,
   "id": "81237715",
   "metadata": {
    "scrolled": true
   },
   "outputs": [
    {
     "name": "stdout",
     "output_type": "stream",
     "text": [
      "['8742252', '9588653', '9573282', '9562398', '9314741', '9173159', '9173147', '9352884', '9563847', '9874349', '9885099', '9826990', '9356775', '9281138', '9259575', '9596636', '9549308', '9157179', '9333498', '9555450', '9363211', '9563316', '9298430', '8924850', '9348144', '8806022', '9363261', '9884356', '3560752', '8593259', '9262364', '9330018', '8842167', '9818802', '9874351', '9880104', '8807765', '8896883', '9281413', '9568639', '9558139', '9332092', '9386902', '9885104', '9880099', '9523433', '9342578', '9340518', '8689917', '8689929', '9560819', '9885116', '9291937', '8943648', '9573294', '9291925', '9396256', '9298428', '9603843', '9571777', '9561980', '8943650', '8807753', '9560807', '8863604', '9186998', '8593285', '9555448', '8842480', '9402897', '9508445', '9350331', '9561124', '9327126', '3560764', '9818395', '9558127', '9297917', '9376189', '9571789', '9352286', '8593546', '8919582', '9852236', '8919570', '9376177']\n"
     ]
    }
   ],
   "source": [
    "print(vessel_names)"
   ]
  },
  {
   "cell_type": "code",
   "execution_count": 51,
   "id": "cdfa2bb2",
   "metadata": {},
   "outputs": [
    {
     "data": {
      "text/plain": [
       "86"
      ]
     },
     "execution_count": 51,
     "metadata": {},
     "output_type": "execute_result"
    }
   ],
   "source": [
    "len(vessel_names)"
   ]
  },
  {
   "cell_type": "code",
   "execution_count": 11,
   "id": "038e5b20",
   "metadata": {},
   "outputs": [],
   "source": [
    "# assume the list of names is stored in a variable called \"vessel_names\"\n",
    "\n",
    "# open a new CSV file for writing\n",
    "with open(csv_write, 'w', newline='') as csvfile:\n",
    "    # create a CSV writer object\n",
    "    writer = csv.writer(csvfile)\n",
    "    \n",
    "    # write the header row (optional)\n",
    "    writer.writerow(['IMO'])\n",
    "\n",
    "    # write each name and its corresponding minDW and maxDW values to a new row in the CSV file\n",
    "    for i in range(0, len(vessel_names)):\n",
    "        name = vessel_names[i]\n",
    "        writer.writerow([name])\n"
   ]
  },
  {
   "cell_type": "code",
   "execution_count": null,
   "id": "06306e18",
   "metadata": {},
   "outputs": [],
   "source": []
  }
 ],
 "metadata": {
  "kernelspec": {
   "display_name": "Python 3 (ipykernel)",
   "language": "python",
   "name": "python3"
  },
  "language_info": {
   "codemirror_mode": {
    "name": "ipython",
    "version": 3
   },
   "file_extension": ".py",
   "mimetype": "text/x-python",
   "name": "python",
   "nbconvert_exporter": "python",
   "pygments_lexer": "ipython3",
   "version": "3.11.3"
  }
 },
 "nbformat": 4,
 "nbformat_minor": 5
}
