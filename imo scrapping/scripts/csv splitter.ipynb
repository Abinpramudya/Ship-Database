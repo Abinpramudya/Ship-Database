{
 "cells": [
  {
   "cell_type": "code",
   "execution_count": 49,
   "id": "9dc34cdd",
   "metadata": {},
   "outputs": [],
   "source": [
    "import pandas as pd\n",
    "import os\n",
    "import yaml"
   ]
  },
  {
   "cell_type": "code",
   "execution_count": 50,
   "id": "bdf7ec05",
   "metadata": {},
   "outputs": [],
   "source": [
    "# Get the current working directory\n",
    "current_dir = os.getcwd()\n",
    "\n",
    "# Move up a couple of folders\n",
    "project_dir = os.path.abspath(os.path.join(current_dir, \"../../\"))"
   ]
  },
  {
   "cell_type": "code",
   "execution_count": 51,
   "id": "64c42b9f",
   "metadata": {
    "scrolled": true
   },
   "outputs": [],
   "source": [
    "# Define the path to your YAML file\n",
    "yaml_file = os.path.abspath(os.path.join(current_dir, \"../../ship data scrapping/config.yaml\"))\n",
    "\n",
    "# Read the YAML file\n",
    "with open(yaml_file, 'r') as file:\n",
    "    config = yaml.safe_load(file)\n",
    "\n",
    "# Access the values from the YAML file\n",
    "class_type=config['class']\n",
    "vessel_type = config['vessel_type']\n",
    "lines_per_file = config['quota']"
   ]
  },
  {
   "cell_type": "code",
   "execution_count": 52,
   "id": "6bd44a0f",
   "metadata": {},
   "outputs": [
    {
     "name": "stdout",
     "output_type": "stream",
     "text": [
      "general cargo\n"
     ]
    }
   ],
   "source": [
    "print(vessel_type)"
   ]
  },
  {
   "cell_type": "code",
   "execution_count": 53,
   "id": "32335e9c",
   "metadata": {},
   "outputs": [],
   "source": [
    "file_name = '{}.csv'.format(vessel_type)\n",
    "output_folder = vessel_type"
   ]
  },
  {
   "cell_type": "code",
   "execution_count": 54,
   "id": "8f61e1d4",
   "metadata": {},
   "outputs": [],
   "source": [
    "# Set path to original CSV file\n",
    "csv_file = 'C:/Users/abinp/Documents/ITS/side projects/new/imo scrapping/output/class/{}/{}'.format(class_type,file_name)\n",
    "\n",
    "# Set path to output folder for split files\n",
    "output_folder = 'C:/Users/abinp/Documents/ITS/side projects/new/ship data scrapping/input/class/{}/{}/{}'.format(class_type,output_folder,lines_per_file)\n",
    "\n",
    "# Create output folder if it doesn't exist\n",
    "if not os.path.exists(output_folder):\n",
    "    os.makedirs(output_folder)"
   ]
  },
  {
   "cell_type": "code",
   "execution_count": 55,
   "id": "d915fae1",
   "metadata": {},
   "outputs": [],
   "source": [
    "# Read original CSV file into a pandas DataFrame\n",
    "df = pd.read_csv(csv_file)"
   ]
  },
  {
   "cell_type": "code",
   "execution_count": 56,
   "id": "8ef53ad2",
   "metadata": {},
   "outputs": [
    {
     "name": "stdout",
     "output_type": "stream",
     "text": [
      "csv have been splitted !\n"
     ]
    }
   ],
   "source": [
    "# Split DataFrame into smaller DataFrames with number of lines equal to lines_per_file\n",
    "split_dfs = [df[i:i+lines_per_file] for i in range(0, len(df), lines_per_file)]\n",
    "\n",
    "# Write each split DataFrame to a separate CSV file\n",
    "for i, split_df in enumerate(split_dfs):\n",
    "    split_file_path = os.path.join(output_folder, f'split_{i+1}.csv')\n",
    "    split_df.to_csv(split_file_path, index=False)\n",
    "    \n",
    "print('csv have been splitted !')"
   ]
  },
  {
   "cell_type": "code",
   "execution_count": null,
   "id": "12b13543",
   "metadata": {},
   "outputs": [],
   "source": []
  }
 ],
 "metadata": {
  "kernelspec": {
   "display_name": "Python 3 (ipykernel)",
   "language": "python",
   "name": "python3"
  },
  "language_info": {
   "codemirror_mode": {
    "name": "ipython",
    "version": 3
   },
   "file_extension": ".py",
   "mimetype": "text/x-python",
   "name": "python",
   "nbconvert_exporter": "python",
   "pygments_lexer": "ipython3",
   "version": "3.8.0"
  }
 },
 "nbformat": 4,
 "nbformat_minor": 5
}
