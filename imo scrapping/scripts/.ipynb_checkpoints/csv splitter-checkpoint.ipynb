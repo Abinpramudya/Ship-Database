{
 "cells": [
  {
   "cell_type": "code",
   "execution_count": 1,
   "id": "9dc34cdd",
   "metadata": {},
   "outputs": [],
   "source": [
    "import pandas as pd\n",
    "import os"
   ]
  },
  {
   "cell_type": "code",
   "execution_count": 2,
   "id": "32335e9c",
   "metadata": {},
   "outputs": [],
   "source": [
    "file_name = 'generalcargo.csv'\n",
    "output_folder = 'general cargo'"
   ]
  },
  {
   "cell_type": "code",
   "execution_count": 3,
   "id": "8f61e1d4",
   "metadata": {},
   "outputs": [],
   "source": [
    "# Set path to original CSV file\n",
    "csv_file = 'C:/Users/abinp/Documents/ITS/side projects/new/imo scrapping/output{}'.format(file_name)\n",
    "\n",
    "# Set path to output folder for split files\n",
    "output_folder = 'C:/Users/abinp/Documents/ITS/side projects/data scrapping/phase 1/outputs/split/{}'.format(output_folder)\n",
    "\n",
    "# Create output folder if it doesn't exist\n",
    "if not os.path.exists(output_folder):\n",
    "    os.makedirs(output_folder)"
   ]
  },
  {
   "cell_type": "code",
   "execution_count": 4,
   "id": "9a931927",
   "metadata": {},
   "outputs": [],
   "source": [
    "# Set number of lines per split file\n",
    "lines_per_file = 2000"
   ]
  },
  {
   "cell_type": "code",
   "execution_count": 5,
   "id": "d915fae1",
   "metadata": {},
   "outputs": [],
   "source": [
    "# Read original CSV file into a pandas DataFrame\n",
    "df = pd.read_csv(csv_file)"
   ]
  },
  {
   "cell_type": "code",
   "execution_count": 6,
   "id": "8ef53ad2",
   "metadata": {},
   "outputs": [],
   "source": [
    "# Split DataFrame into smaller DataFrames with number of lines equal to lines_per_file\n",
    "split_dfs = [df[i:i+lines_per_file] for i in range(0, len(df), lines_per_file)]\n",
    "\n",
    "# Write each split DataFrame to a separate CSV file\n",
    "for i, split_df in enumerate(split_dfs):\n",
    "    split_file_path = os.path.join(output_folder, f'split_{i+1}.csv')\n",
    "    split_df.to_csv(split_file_path, index=False)\n",
    "    \n",
    "print('csv have been splitted !')"
   ]
  },
  {
   "cell_type": "code",
   "execution_count": null,
   "id": "12b13543",
   "metadata": {},
   "outputs": [],
   "source": []
  }
 ],
 "metadata": {
  "kernelspec": {
   "display_name": "Python 3 (ipykernel)",
   "language": "python",
   "name": "python3"
  },
  "language_info": {
   "codemirror_mode": {
    "name": "ipython",
    "version": 3
   },
   "file_extension": ".py",
   "mimetype": "text/x-python",
   "name": "python",
   "nbconvert_exporter": "python",
   "pygments_lexer": "ipython3",
   "version": "3.11.3"
  }
 },
 "nbformat": 4,
 "nbformat_minor": 5
}
