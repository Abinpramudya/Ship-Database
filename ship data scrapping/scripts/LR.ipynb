{
 "cells": [
  {
   "cell_type": "code",
   "execution_count": 8,
   "id": "7ba6b7ce",
   "metadata": {},
   "outputs": [],
   "source": [
    "import os\n",
    "import time\n",
    "import csv\n",
    "import re\n",
    "from selenium import webdriver\n",
    "from selenium.webdriver.common.by import By\n",
    "from selenium.webdriver.common.keys import Keys\n",
    "from selenium.webdriver.support import expected_conditions as EC\n",
    "from selenium.common.exceptions import NoSuchElementException\n",
    "from selenium.webdriver.chrome.options import Options\n",
    "from selenium.webdriver.support.ui import WebDriverWait\n",
    "from selenium.webdriver.common.action_chains import ActionChains"
   ]
  },
  {
   "cell_type": "code",
   "execution_count": 9,
   "id": "6d47f08c",
   "metadata": {},
   "outputs": [],
   "source": [
    "#edit sesuai kebutuhan\n",
    "vessel_type = 'bulk carrier'\n",
    "filenum = '1'\n",
    "kelas = 'LR'"
   ]
  },
  {
   "cell_type": "code",
   "execution_count": 10,
   "id": "1e80b231",
   "metadata": {},
   "outputs": [],
   "source": [
    "#directory file csv\n",
    "read_path = 'C:/Users/abinp/Documents/ITS/side projects/new/ship data scrapping/input/{}/split_{}.csv'.format(vessel_type,filenum)\n",
    "write_path = 'C:/Users/abinp/Documents/ITS/side projects/new/ship data scrapping/output/{}/{}/{}.csv'.format(kelas,vessel_type,filenum)"
   ]
  },
  {
   "cell_type": "code",
   "execution_count": 11,
   "id": "26d412fb",
   "metadata": {},
   "outputs": [
    {
     "name": "stdout",
     "output_type": "stream",
     "text": [
      "CSV read file is found, continuing...\n",
      "CSV write file  is found, continuing...\n"
     ]
    }
   ],
   "source": [
    "# Check if input file exists\n",
    "if os.path.exists(read_path):\n",
    "    print(f\"CSV read file is found, continuing...\")\n",
    "else:\n",
    "    print(f\"CSV read file is not found\")\n",
    "    print('exiting....')\n",
    "    \n",
    "# Check if output file exists and create it if necessary\n",
    "if os.path.exists(write_path):\n",
    "    print(f\"CSV write file  is found, continuing...\")\n",
    "else:\n",
    "    print(f\"CSV write file is not found, creating one...\")\n",
    "    os.makedirs(os.path.dirname(write_path), exist_ok=True) # Create output directory if it doesn't exist\n",
    "    with open(write_path, 'w', newline='') as f:\n",
    "        writer = csv.writer(f)"
   ]
  },
  {
   "cell_type": "code",
   "execution_count": 12,
   "id": "50ecae82",
   "metadata": {},
   "outputs": [],
   "source": [
    "# Define the fieldnames for the CSV file\n",
    "fieldnames = ['NAME', 'REGISTER', 'IMO', 'TYPE', 'LOA', 'LPP', 'B', 'H', 'T',  'GT', 'NT', 'DWT', 'Link']"
   ]
  },
  {
   "cell_type": "code",
   "execution_count": 42,
   "id": "025f7f54",
   "metadata": {},
   "outputs": [],
   "source": [
    "def search(IMO):\n",
    "    driver.get(\"https://www.lr.org/en/lrofships/\")\n",
    "    \n",
    "    try:\n",
    "        # Wait for cookie button to appear\n",
    "        cookie_button = WebDriverWait(driver, 5).until(EC.visibility_of_element_located((By.XPATH , '/html/body/div[4]/div[3]/div/div/div[2]/div/div/button')))\n",
    "        actions = ActionChains(driver)\n",
    "        actions.move_to_element(cookie_button)\n",
    "        actions.click().perform()\n",
    "    except:\n",
    "        pass\n",
    "    \n",
    "    #search bar\n",
    "    search_field = WebDriverWait(driver, 10).until(EC.presence_of_element_located((By.XPATH, '/html/body/main/div[2]/div[3]/div/div[2]/div/div/div/div[2]/div[1]/div[1]/input')))\n",
    "    search_field.send_keys(IMO)\n",
    "\n",
    "    # search button\n",
    "    search_button = WebDriverWait(driver, 10).until(EC.presence_of_element_located((By.XPATH, '/html/body/main/div[2]/div[3]/div/div[2]/div/div/div/div[2]/div[1]/button')))\n",
    "    actions = ActionChains(driver)\n",
    "    actions.move_to_element(search_button)\n",
    "    actions.click().perform()\n",
    "    \n",
    "    #ships button\n",
    "    ship_button = WebDriverWait(driver, 10).until(EC.presence_of_element_located((By.XPATH, '    /html/body/main/div[2]/div[3]/div/div[2]/div/div/div/div[3]/div[2]/div[1]/div/table/tr[2]/td[8]/a')))\n",
    "    actions = ActionChains(driver)\n",
    "    actions.move_to_element(ship_button)\n",
    "    actions.click().perform()\n",
    "    \n",
    "    # Scroll down to the bottom of the web page\n",
    "    TnC = WebDriverWait(driver, 10).until(EC.presence_of_element_located((By.XPATH, '/html/body/app/div/main/div/accept-terms-and-conditions/cd-actions/div/div/button[1]')))\n",
    "    for i in range(5):\n",
    "        actions.send_keys(Keys.PAGE_DOWN).perform()\n",
    "        time.sleep(1)\n",
    "\n",
    "    #terms and condition button\n",
    "    TnC_button = WebDriverWait(driver, 10).until(EC.presence_of_element_located((By.XPATH, '/html/body/app/div/main/div/accept-terms-and-conditions/cd-actions/div/div/button[2]')))\n",
    "    actions = ActionChains(driver)\n",
    "    actions.move_to_element(ship_button)\n",
    "    actions.click().perform() \n"
   ]
  },
  {
   "cell_type": "code",
   "execution_count": 44,
   "id": "bc9fae24",
   "metadata": {},
   "outputs": [
    {
     "ename": "TimeoutException",
     "evalue": "Message: \nStacktrace:\nBacktrace:\n\tGetHandleVerifier [0x0063DCE3+50899]\n\t(No symbol) [0x005CE111]\n\t(No symbol) [0x004D5588]\n\t(No symbol) [0x005008F9]\n\t(No symbol) [0x00500AFB]\n\t(No symbol) [0x0052F902]\n\t(No symbol) [0x0051B944]\n\t(No symbol) [0x0052E01C]\n\t(No symbol) [0x0051B6F6]\n\t(No symbol) [0x004F7708]\n\t(No symbol) [0x004F886D]\n\tGetHandleVerifier [0x008A3EAE+2566302]\n\tGetHandleVerifier [0x008D92B1+2784417]\n\tGetHandleVerifier [0x008D327C+2759788]\n\tGetHandleVerifier [0x006D5740+672048]\n\t(No symbol) [0x005D8872]\n\t(No symbol) [0x005D41C8]\n\t(No symbol) [0x005D42AB]\n\t(No symbol) [0x005C71B7]\n\tBaseThreadInitThunk [0x76B17D69+25]\n\tRtlInitializeExceptionChain [0x7793B74B+107]\n\tRtlClearBits [0x7793B6CF+191]\n",
     "output_type": "error",
     "traceback": [
      "\u001b[1;31m---------------------------------------------------------------------------\u001b[0m",
      "\u001b[1;31mTimeoutException\u001b[0m                          Traceback (most recent call last)",
      "Cell \u001b[1;32mIn[44], line 5\u001b[0m\n\u001b[0;32m      2\u001b[0m driver \u001b[38;5;241m=\u001b[39m webdriver\u001b[38;5;241m.\u001b[39mChrome()\n\u001b[0;32m      4\u001b[0m IMO \u001b[38;5;241m=\u001b[39m \u001b[38;5;124m'\u001b[39m\u001b[38;5;124m9938511\u001b[39m\u001b[38;5;124m'\u001b[39m\n\u001b[1;32m----> 5\u001b[0m \u001b[43msearch\u001b[49m\u001b[43m(\u001b[49m\u001b[43mIMO\u001b[49m\u001b[43m)\u001b[49m\n",
      "Cell \u001b[1;32mIn[42], line 30\u001b[0m, in \u001b[0;36msearch\u001b[1;34m(IMO)\u001b[0m\n\u001b[0;32m     27\u001b[0m actions\u001b[38;5;241m.\u001b[39mclick()\u001b[38;5;241m.\u001b[39mperform()\n\u001b[0;32m     29\u001b[0m \u001b[38;5;66;03m# Scroll down to the bottom of the web page\u001b[39;00m\n\u001b[1;32m---> 30\u001b[0m TnC \u001b[38;5;241m=\u001b[39m \u001b[43mWebDriverWait\u001b[49m\u001b[43m(\u001b[49m\u001b[43mdriver\u001b[49m\u001b[43m,\u001b[49m\u001b[43m \u001b[49m\u001b[38;5;241;43m10\u001b[39;49m\u001b[43m)\u001b[49m\u001b[38;5;241;43m.\u001b[39;49m\u001b[43muntil\u001b[49m\u001b[43m(\u001b[49m\u001b[43mEC\u001b[49m\u001b[38;5;241;43m.\u001b[39;49m\u001b[43mpresence_of_element_located\u001b[49m\u001b[43m(\u001b[49m\u001b[43m(\u001b[49m\u001b[43mBy\u001b[49m\u001b[38;5;241;43m.\u001b[39;49m\u001b[43mXPATH\u001b[49m\u001b[43m,\u001b[49m\u001b[43m \u001b[49m\u001b[38;5;124;43m'\u001b[39;49m\u001b[38;5;124;43m/html/body/app/div/main/div/accept-terms-and-conditions/cd-actions/div/div/button[1]\u001b[39;49m\u001b[38;5;124;43m'\u001b[39;49m\u001b[43m)\u001b[49m\u001b[43m)\u001b[49m\u001b[43m)\u001b[49m\n\u001b[0;32m     31\u001b[0m \u001b[38;5;28;01mfor\u001b[39;00m i \u001b[38;5;129;01min\u001b[39;00m \u001b[38;5;28mrange\u001b[39m(\u001b[38;5;241m5\u001b[39m):\n\u001b[0;32m     32\u001b[0m     actions\u001b[38;5;241m.\u001b[39msend_keys(Keys\u001b[38;5;241m.\u001b[39mPAGE_DOWN)\u001b[38;5;241m.\u001b[39mperform()\n",
      "File \u001b[1;32m~\\AppData\\Local\\Programs\\Python\\Python311\\Lib\\site-packages\\selenium\\webdriver\\support\\wait.py:95\u001b[0m, in \u001b[0;36mWebDriverWait.until\u001b[1;34m(self, method, message)\u001b[0m\n\u001b[0;32m     93\u001b[0m     \u001b[38;5;28;01mif\u001b[39;00m time\u001b[38;5;241m.\u001b[39mmonotonic() \u001b[38;5;241m>\u001b[39m end_time:\n\u001b[0;32m     94\u001b[0m         \u001b[38;5;28;01mbreak\u001b[39;00m\n\u001b[1;32m---> 95\u001b[0m \u001b[38;5;28;01mraise\u001b[39;00m TimeoutException(message, screen, stacktrace)\n",
      "\u001b[1;31mTimeoutException\u001b[0m: Message: \nStacktrace:\nBacktrace:\n\tGetHandleVerifier [0x0063DCE3+50899]\n\t(No symbol) [0x005CE111]\n\t(No symbol) [0x004D5588]\n\t(No symbol) [0x005008F9]\n\t(No symbol) [0x00500AFB]\n\t(No symbol) [0x0052F902]\n\t(No symbol) [0x0051B944]\n\t(No symbol) [0x0052E01C]\n\t(No symbol) [0x0051B6F6]\n\t(No symbol) [0x004F7708]\n\t(No symbol) [0x004F886D]\n\tGetHandleVerifier [0x008A3EAE+2566302]\n\tGetHandleVerifier [0x008D92B1+2784417]\n\tGetHandleVerifier [0x008D327C+2759788]\n\tGetHandleVerifier [0x006D5740+672048]\n\t(No symbol) [0x005D8872]\n\t(No symbol) [0x005D41C8]\n\t(No symbol) [0x005D42AB]\n\t(No symbol) [0x005C71B7]\n\tBaseThreadInitThunk [0x76B17D69+25]\n\tRtlInitializeExceptionChain [0x7793B74B+107]\n\tRtlClearBits [0x7793B6CF+191]\n"
     ]
    }
   ],
   "source": [
    "# Set up the webdriver\n",
    "driver = webdriver.Chrome()\n",
    "\n",
    "IMO = '9938511'\n",
    "search(IMO)"
   ]
  },
  {
   "cell_type": "code",
   "execution_count": null,
   "id": "bebd72a1",
   "metadata": {},
   "outputs": [],
   "source": []
  }
 ],
 "metadata": {
  "kernelspec": {
   "display_name": "Python 3 (ipykernel)",
   "language": "python",
   "name": "python3"
  },
  "language_info": {
   "codemirror_mode": {
    "name": "ipython",
    "version": 3
   },
   "file_extension": ".py",
   "mimetype": "text/x-python",
   "name": "python",
   "nbconvert_exporter": "python",
   "pygments_lexer": "ipython3",
   "version": "3.11.3"
  }
 },
 "nbformat": 4,
 "nbformat_minor": 5
}
