{
 "cells": [
  {
   "cell_type": "code",
   "execution_count": 41,
   "id": "26af198b",
   "metadata": {},
   "outputs": [],
   "source": [
    "import os\n",
    "import pandas as pd\n",
    "import yaml\n",
    "import csv"
   ]
  },
  {
   "cell_type": "code",
   "execution_count": 42,
   "id": "3268b6af",
   "metadata": {},
   "outputs": [],
   "source": [
    "# Get the current working directory\n",
    "cwd = os.getcwd()\n",
    "project_dir = os.path.abspath(os.path.join(cwd, \"../\"))"
   ]
  },
  {
   "cell_type": "code",
   "execution_count": 43,
   "id": "63012f01",
   "metadata": {},
   "outputs": [],
   "source": [
    "# Get the current working directory\n",
    "cwd = os.getcwd()\n",
    "project_dir = os.path.abspath(os.path.join(cwd, \"../\"))"
   ]
  },
  {
   "cell_type": "code",
   "execution_count": 44,
   "id": "9e92c734",
   "metadata": {},
   "outputs": [],
   "source": [
    "# Construct the file and directory paths\n",
    "config = os.path.join(cwd, 'data config.yaml')\n",
    "write_path = os.path.join(cwd, 'output')"
   ]
  },
  {
   "cell_type": "code",
   "execution_count": 45,
   "id": "c1fa826d",
   "metadata": {},
   "outputs": [
    {
     "name": "stdout",
     "output_type": "stream",
     "text": [
      "bv\n"
     ]
    }
   ],
   "source": [
    "#config file read\n",
    "with open(config, 'r') as config_file:\n",
    "    config = yaml.safe_load(config_file)\n",
    "\n",
    "vessel_type = config['vessel_type']\n",
    "class_type = config['class']\n",
    "print(class_type)"
   ]
  },
  {
   "cell_type": "code",
   "execution_count": 46,
   "id": "2f357399",
   "metadata": {},
   "outputs": [
    {
     "name": "stdout",
     "output_type": "stream",
     "text": [
      "read: C:\\Users\\abinp\\Documents\\ITS\\side projects\\new\\Data process/output/bv\\bulk carrier.csv\n",
      "write: C:\\Users\\abinp\\Documents\\ITS\\side projects\\new\\imo scrapping/output/class/bv/bulk carrier.csv\n"
     ]
    }
   ],
   "source": [
    "# Directory file csv\n",
    "read_path = os.path.join(project_dir,\"Data process/output/\",class_type,\"{}.csv\".format(vessel_type))\n",
    "write_path= os.path.join(project_dir,\"imo scrapping/output/class/{}/\".format(class_type),\"{}.csv\".format(vessel_type))\n",
    "\n",
    "print(\"read:\",read_path) #hasil scrapping\n",
    "print(\"write:\",write_path) #pure imo"
   ]
  },
  {
   "cell_type": "code",
   "execution_count": 47,
   "id": "a2700984",
   "metadata": {},
   "outputs": [],
   "source": [
    "def extract_imo_column(read_path, write_path):\n",
    "    # Check if the write_path directory exists, if not, create it\n",
    "    write_dir = os.path.dirname(write_path)\n",
    "    if not os.path.exists(write_dir):\n",
    "        os.makedirs(write_dir)\n",
    "\n",
    "    # Check if the write_path CSV file exists, if not, create it with the 'IMO' column header\n",
    "    if not os.path.exists(write_path):\n",
    "        with open(write_path, 'w', newline='') as file:\n",
    "            writer = pd.DataFrame(columns=['IMO']).to_csv(file, index=False)\n",
    "\n",
    "    # Read the CSV file from the read_path using the 'latin-1' encoding\n",
    "    df = pd.read_csv(read_path, encoding='latin-1')\n",
    "\n",
    "    # Extract the 'IMO' column from the DataFrame\n",
    "    imo_column = df['IMO']\n",
    "\n",
    "    # Write the 'IMO' column to the CSV file at the write_path\n",
    "    with open(write_path, 'a', newline='') as file:\n",
    "        imo_column.to_csv(file, header=False, index=False)\n",
    "\n",
    "    # Print the number of IMOs written to the file\n",
    "    print(f\"Number of IMO records written: {len(imo_column)}\")"
   ]
  },
  {
   "cell_type": "code",
   "execution_count": 48,
   "id": "2b2d8a79",
   "metadata": {},
   "outputs": [
    {
     "name": "stdout",
     "output_type": "stream",
     "text": [
      "Number of IMO records written: 1162\n"
     ]
    }
   ],
   "source": [
    "extract_imo_column(read_path, write_path)\n"
   ]
  },
  {
   "cell_type": "code",
   "execution_count": null,
   "id": "3fada07f",
   "metadata": {},
   "outputs": [],
   "source": []
  }
 ],
 "metadata": {
  "kernelspec": {
   "display_name": "Python 3 (ipykernel)",
   "language": "python",
   "name": "python3"
  },
  "language_info": {
   "codemirror_mode": {
    "name": "ipython",
    "version": 3
   },
   "file_extension": ".py",
   "mimetype": "text/x-python",
   "name": "python",
   "nbconvert_exporter": "python",
   "pygments_lexer": "ipython3",
   "version": "3.8.0"
  }
 },
 "nbformat": 4,
 "nbformat_minor": 5
}
