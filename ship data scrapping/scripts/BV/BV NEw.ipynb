{
 "cells": [
  {
   "cell_type": "code",
   "execution_count": 1,
   "id": "20c14e7a",
   "metadata": {},
   "outputs": [],
   "source": [
    "import os\n",
    "import time\n",
    "import csv\n",
    "import re\n",
    "import yaml\n",
    "import inspect\n",
    "from tqdm import tqdm\n",
    "from selenium import webdriver\n",
    "from selenium.webdriver.common.by import By\n",
    "from selenium.webdriver.common.keys import Keys\n",
    "from selenium.webdriver.support import expected_conditions as EC\n",
    "from selenium.common.exceptions import NoSuchElementException\n",
    "from selenium.webdriver.chrome.options import Options\n",
    "from selenium.webdriver.support.ui import WebDriverWait\n",
    "from selenium.webdriver.common.action_chains import ActionChains"
   ]
  },
  {
   "cell_type": "code",
   "execution_count": 2,
   "id": "cff25879",
   "metadata": {},
   "outputs": [],
   "source": [
    "# Get the current working directory\n",
    "current_dir = os.getcwd()\n",
    "\n",
    "# Move up a couple of folders\n",
    "project_dir = os.path.abspath(os.path.join(current_dir, \"../../\"))"
   ]
  },
  {
   "cell_type": "code",
   "execution_count": 3,
   "id": "9d8ba8ef",
   "metadata": {},
   "outputs": [],
   "source": [
    "# Define the path to your YAML file\n",
    "yaml_file = os.path.abspath(os.path.join(current_dir, \"../../config.yaml\"))\n",
    "\n",
    "# Read the YAML file\n",
    "with open(yaml_file, 'r') as file:\n",
    "    config = yaml.safe_load(file)\n",
    "\n",
    "# Access the values from the YAML file\n",
    "vessel_type = config['vessel_type']\n",
    "class_type = config['class']\n",
    "base = config['base']\n",
    "quota = str(config['quota'])"
   ]
  },
  {
   "cell_type": "code",
   "execution_count": 4,
   "id": "7d1e726c",
   "metadata": {},
   "outputs": [],
   "source": [
    "#edit sesuai kebutuhan\n",
    "num = base + 1\n",
    "filenum = str(num)"
   ]
  },
  {
   "cell_type": "code",
   "execution_count": 5,
   "id": "f396cef8",
   "metadata": {},
   "outputs": [],
   "source": [
    "# Directory file csv\n",
    "read_path = os.path.join(project_dir,\"input\",vessel_type,quota,\"split_{}.csv\".format(filenum))\n",
    "write_path = os.path.join(project_dir,\"output\",class_type, vessel_type,\"{}.csv\".format(filenum))"
   ]
  },
  {
   "cell_type": "code",
   "execution_count": 6,
   "id": "eb649e6a",
   "metadata": {},
   "outputs": [
    {
     "name": "stdout",
     "output_type": "stream",
     "text": [
      "C:\\Users\\abinp\\Documents\\ITS\\side projects\\new\\ship data scrapping\\input\\tanker\\2500\\split_1.csv\n",
      "C:\\Users\\abinp\\Documents\\ITS\\side projects\\new\\ship data scrapping\\output\\bv\\tanker\\1.csv\n"
     ]
    }
   ],
   "source": [
    "print(read_path)\n",
    "print(write_path)"
   ]
  },
  {
   "cell_type": "code",
   "execution_count": 7,
   "id": "7e83200d",
   "metadata": {},
   "outputs": [
    {
     "name": "stdout",
     "output_type": "stream",
     "text": [
      "CSV read file is found, continuing...\n",
      "CSV write file  is found, continuing...\n"
     ]
    }
   ],
   "source": [
    "# Check if input file exists\n",
    "if os.path.exists(read_path):\n",
    "    print(f\"CSV read file is found, continuing...\")\n",
    "else:\n",
    "    print(f\"CSV read file is not found\")\n",
    "    print('exiting....')\n",
    "    \n",
    "# Check if output file exists and create it if necessary\n",
    "if os.path.exists(write_path):\n",
    "    print(f\"CSV write file  is found, continuing...\")\n",
    "else:\n",
    "    print(f\"CSV write file is not found, creating one...\")\n",
    "    os.makedirs(os.path.dirname(write_path), exist_ok=True) # Create output directory if it doesn't exist\n",
    "    with open(write_path, 'w', newline='') as f:\n",
    "        writer = csv.writer(f)"
   ]
  },
  {
   "cell_type": "code",
   "execution_count": 8,
   "id": "bdae249c",
   "metadata": {},
   "outputs": [],
   "source": [
    "def search(IMO):\n",
    "    driver.get(\"https://marine-offshore.bureauveritas.com/bv-fleet/#/bv-fleet/\")\n",
    "    try:\n",
    "        #cookie button\n",
    "        cookie_button = WebDriverWait(driver, 3).until(EC.presence_of_element_located((By.XPATH, '/html/body/div[1]/div/div/div[2]/div[3]/div[1]/button[1]')))\n",
    "        actions = ActionChains(driver)\n",
    "\n",
    "        actions.move_to_element(cookie_button)\n",
    "        actions.click().perform()\n",
    "\n",
    "    except:\n",
    "        pass\n",
    "    \n",
    "    #search bar\n",
    "    search_field = WebDriverWait(driver, 10).until(EC.presence_of_element_located((By.XPATH, '/html/body/div[2]/div/main/div/div/div[2]/div/app-root/div/app-ship-basic-search/div/div/form/fieldset/div[1]/div/div/div[1]/input')))\n",
    "    search_field.send_keys(IMO)\n",
    "\n",
    "    # search button\n",
    "    search_button = WebDriverWait(driver, 10).until(EC.presence_of_element_located((By.XPATH, '/html/body/div[2]/div/main/div/div/div[2]/div/app-root/div/app-ship-basic-search/div/div/form/fieldset/div[2]/div[1]/div/button')))\n",
    "    actions = ActionChains(driver)\n",
    "    actions.move_to_element(search_button)\n",
    "    actions.click().perform()\n",
    "\n",
    "    #ships button\n",
    "    ship_button = WebDriverWait(driver, 10).until(EC.presence_of_element_located((By.XPATH, '/html/body/div[2]/div/main/div/div/div[2]/div/app-root/div/app-ship-basic-search/div/div/div[2]/ul/li/div/div[1]/a[1]')))\n",
    "    actions = ActionChains(driver)\n",
    "    actions.move_to_element(ship_button)\n",
    "    actions.click().perform()\n"
   ]
  },
  {
   "cell_type": "code",
   "execution_count": 9,
   "id": "0e069f24",
   "metadata": {},
   "outputs": [],
   "source": [
    "def shipdata():\n",
    "    global LOA , LPP , B , H , T\n",
    "    global DWT , NT , GT , LT\n",
    "    global NAME , REGISTER , IMO , vessel_type\n",
    "    global link\n",
    "    \n",
    "    time.sleep(3)\n",
    "    \n",
    "    NAME = driver.find_element(By.XPATH,'/html/body/app-popup/div/div[2]/div[2]/app-ship-details/div/div/table[1]/tbody/tr[6]/td[2]')\n",
    "    REGISTER = driver.find_element(By.XPATH,'/html/body/app-popup/div/div[2]/div[2]/app-ship-details/div/div/table[1]/tbody/tr[2]/td[2]')\n",
    "    IMO = driver.find_element(By.XPATH,'/html/body/app-popup/div/div[2]/div[2]/app-ship-details/div/div/table[1]/tbody/tr[4]/td[2]')\n",
    "    vessel_type = driver.find_element(By.XPATH,'/html/body/app-popup/div/div[2]/div[2]/app-ship-details/div/div/table[1]/tbody/tr[10]/td[2]')\n",
    "    \n",
    "    #principal dimension\n",
    "    LOA = driver.find_element(By.XPATH,'/html/body/app-popup/div/div[2]/div[2]/app-ship-details/div/div/table[3]/tbody/tr[8]/td[2]')\n",
    "    LPP = driver.find_element(By.XPATH,'/html/body/app-popup/div/div[2]/div[2]/app-ship-details/div/div/table[3]/tbody/tr[10]/td[2]')\n",
    "    B = driver.find_element(By.XPATH,'/html/body/app-popup/div/div[2]/div[2]/app-ship-details/div/div/table[3]/tbody/tr[12]/td[2]')\n",
    "    H = driver.find_element(By.XPATH,'/html/body/app-popup/div/div[2]/div[2]/app-ship-details/div/div/table[3]/tbody/tr[14]/td[2]')\n",
    "    T = driver.find_element(By.XPATH,'/html/body/app-popup/div/div[2]/div[2]/app-ship-details/div/div/table[3]/tbody/tr[16]/td[2]')\n",
    "    \n",
    "    #ship tonnage\n",
    "    GT = driver.find_element(By.XPATH,'/html/body/app-popup/div/div[2]/div[2]/app-ship-details/div/div/table[3]/tbody/tr[2]/td[2]')\n",
    "    NT = driver.find_element(By.XPATH,'/html/body/app-popup/div/div[2]/div[2]/app-ship-details/div/div/table[3]/tbody/tr[4]/td[2]')\n",
    "    DWT = driver.find_element(By.XPATH,'/html/body/app-popup/div/div[2]/div[2]/app-ship-details/div/div/table[3]/tbody/tr[6]/td[2]')\n",
    "    \n",
    "    link = 'https://www.vesselfinder.com/vessels/details/{}'.format(IMO.text)"
   ]
  },
  {
   "cell_type": "code",
   "execution_count": 10,
   "id": "8fa9b190",
   "metadata": {},
   "outputs": [],
   "source": [
    "# Define the fieldnames for the CSV file\n",
    "fieldnames = ['NAME', 'REGISTER', 'IMO', 'TYPE', 'LOA', 'LPP', 'B', 'H', 'T',  'GT', 'NT', 'DWT', 'Link']"
   ]
  },
  {
   "cell_type": "code",
   "execution_count": 11,
   "id": "9909c10a",
   "metadata": {},
   "outputs": [
    {
     "name": "stderr",
     "output_type": "stream",
     "text": [
      "Processing IMOs: 100%|█████████████████████████████████████████| 2501/2501 [8:47:01<00:00, 12.64s/it, Ships Found =157]\n"
     ]
    },
    {
     "name": "stdout",
     "output_type": "stream",
     "text": [
      "Total Ships Found: 157\n"
     ]
    }
   ],
   "source": [
    "# Set up the webdriver\n",
    "driver = webdriver.Chrome()\n",
    "\n",
    "# Counters for ships found and total IMOs\n",
    "ship_count = 0\n",
    "total_imo = 0\n",
    "\n",
    "# Open the input file to get the total number of IMOs\n",
    "with open(read_path, newline='') as csvfile:\n",
    "    reader = csv.reader(csvfile)\n",
    "    total_imo = sum(1 for _ in reader)\n",
    "\n",
    "# Open the CSV file for writing\n",
    "with open(write_path, mode='w', newline='') as details_file:\n",
    "    writer = csv.DictWriter(details_file, fieldnames=fieldnames)\n",
    "    writer.writeheader()\n",
    "\n",
    "    # Create a progress bar\n",
    "    progress_bar = tqdm(total=total_imo, desc='Processing IMOs')\n",
    "\n",
    "    # Open the input file and loop through each vessel name\n",
    "    with open(read_path, newline='') as csvfile:\n",
    "        reader = csv.reader(csvfile)\n",
    "\n",
    "        for row in reader:\n",
    "            IMO = row[0]\n",
    "            progress_bar.update(1)\n",
    "            progress_bar.set_postfix({'Ships Found ': ship_count})\n",
    "            \n",
    "            try:\n",
    "                search(IMO)\n",
    "                shipdata()\n",
    "                ship_count += 1\n",
    "                \n",
    "            except:\n",
    "                continue\n",
    "\n",
    "            details_dict = {\n",
    "                'NAME': NAME.text, 'REGISTER': REGISTER.text, 'IMO': IMO.text,\n",
    "                'TYPE': vessel_type.text, 'LOA': LOA.text, 'LPP': LPP.text,\n",
    "                'B': B.text, 'H': H.text, 'T': T.text, 'GT': GT.text,\n",
    "                'NT': NT.text, 'DWT': DWT.text, 'Link': link\n",
    "            }\n",
    "            writer.writerow(details_dict)\n",
    "\n",
    "\n",
    "    # Close the progress bar\n",
    "    progress_bar.close()\n",
    "\n",
    "# Close the webdriver\n",
    "driver.quit()\n",
    "\n",
    "# Display the total number of ships found\n",
    "print('Total Ships Found:', ship_count)"
   ]
  },
  {
   "cell_type": "code",
   "execution_count": null,
   "id": "6746b2a8",
   "metadata": {},
   "outputs": [],
   "source": []
  }
 ],
 "metadata": {
  "kernelspec": {
   "display_name": "Python 3 (ipykernel)",
   "language": "python",
   "name": "python3"
  },
  "language_info": {
   "codemirror_mode": {
    "name": "ipython",
    "version": 3
   },
   "file_extension": ".py",
   "mimetype": "text/x-python",
   "name": "python",
   "nbconvert_exporter": "python",
   "pygments_lexer": "ipython3",
   "version": "3.8.0"
  }
 },
 "nbformat": 4,
 "nbformat_minor": 5
}
