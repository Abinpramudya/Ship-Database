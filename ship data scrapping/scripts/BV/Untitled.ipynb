{
 "cells": [
  {
   "cell_type": "code",
   "execution_count": 27,
   "id": "7881721f-2512-4392-868d-450847c369ac",
   "metadata": {},
   "outputs": [],
   "source": [
    "nama =\"abin\"\n",
    "jurusan = \"kedokteran\"\n",
    "semester = 3"
   ]
  },
  {
   "cell_type": "code",
   "execution_count": 39,
   "id": "cfda8c9c-fdeb-4d5b-ac9b-43653ea1efe6",
   "metadata": {},
   "outputs": [
    {
     "name": "stdout",
     "output_type": "stream",
     "text": [
      "halo\n",
      "halo\n"
     ]
    }
   ],
   "source": [
    "siklus = 10\n",
    "\n",
    "for i in range (2):\n",
    "    print(\"halo\")"
   ]
  },
  {
   "cell_type": "code",
   "execution_count": 31,
   "id": "871b9fe9-4db8-4bc4-9622-17f3a05b3737",
   "metadata": {},
   "outputs": [
    {
     "name": "stdout",
     "output_type": "stream",
     "text": [
      "abinpramudya\n"
     ]
    }
   ],
   "source": [
    "x = nama + \"pramudya\"\n",
    "print(x)"
   ]
  },
  {
   "cell_type": "code",
   "execution_count": 28,
   "id": "f7d01bda-e66f-4db5-9cf8-cfbb17475aa8",
   "metadata": {},
   "outputs": [
    {
     "name": "stdout",
     "output_type": "stream",
     "text": [
      "abin\n"
     ]
    }
   ],
   "source": [
    "try:\n",
    "    x = nama + 4\n",
    "except:\n",
    "    print(\"variable gaada\")"
   ]
  },
  {
   "cell_type": "code",
   "execution_count": 21,
   "id": "6f4e01f7-0170-4ee3-badf-acde4f5167a3",
   "metadata": {},
   "outputs": [],
   "source": [
    "if semester >=5:\n",
    "    print(\"bisa ambil bismar\")\n",
    "    "
   ]
  },
  {
   "cell_type": "code",
   "execution_count": 23,
   "id": "27e2b3f1-2f3b-410a-9ade-2df17bf90713",
   "metadata": {},
   "outputs": [],
   "source": [
    "if semester !=8:\n",
    "    print(\"belum boleh TA\")\n",
    "\n",
    "else:\n",
    "    print(\"boleh TA\")\n"
   ]
  }
 ],
 "metadata": {
  "kernelspec": {
   "display_name": "Python 3 (ipykernel)",
   "language": "python",
   "name": "python3"
  },
  "language_info": {
   "codemirror_mode": {
    "name": "ipython",
    "version": 3
   },
   "file_extension": ".py",
   "mimetype": "text/x-python",
   "name": "python",
   "nbconvert_exporter": "python",
   "pygments_lexer": "ipython3",
   "version": "3.10.9"
  }
 },
 "nbformat": 4,
 "nbformat_minor": 5
}
