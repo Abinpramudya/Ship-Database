{
 "cells": [
  {
   "cell_type": "code",
   "execution_count": 91,
   "id": "6235c82d",
   "metadata": {},
   "outputs": [],
   "source": [
    "import pandas as pd\n",
    "import os\n",
    "import yaml"
   ]
  },
  {
   "cell_type": "code",
   "execution_count": 96,
   "id": "58c2d891",
   "metadata": {},
   "outputs": [
    {
     "name": "stdout",
     "output_type": "stream",
     "text": [
      "C:\\Users\\abinp\\Documents\\ITS\\side projects\\new\\Data process\n"
     ]
    }
   ],
   "source": [
    "# Get the current working directory\n",
    "cwd = os.getcwd()\n",
    "project_dir = os.path.abspath(os.path.join(cwd, \"../\"))"
   ]
  },
  {
   "cell_type": "code",
   "execution_count": 93,
   "id": "4e03ccd4",
   "metadata": {},
   "outputs": [],
   "source": [
    "# Construct the file and directory paths\n",
    "config = os.path.join(cwd, 'data config.yaml')\n",
    "write_path = os.path.join(cwd, 'output')\n",
    "read_path = os.path.join(cwd, '..', 'imo scrapping', 'output')"
   ]
  },
  {
   "cell_type": "code",
   "execution_count": 94,
   "id": "3796d0ab",
   "metadata": {},
   "outputs": [],
   "source": [
    "#config file read\n",
    "with open(config, 'r') as config_file:\n",
    "    config = yaml.safe_load(config_file)\n",
    "\n",
    "vessel_type = config['vessel_type']\n",
    "class_type = config['class']"
   ]
  },
  {
   "cell_type": "code",
   "execution_count": 97,
   "id": "d2fd6ff1",
   "metadata": {},
   "outputs": [
    {
     "name": "stdout",
     "output_type": "stream",
     "text": [
      "C:/passanger.csv\n"
     ]
    }
   ],
   "source": [
    "# Directory file csv\n",
    "write_path= os.path.join(project_dir,\"imo scrapping/output\",\"{}.csv\".format(vessel_type))\n",
    "read_path = os.path.join(cwd,class_type,\"/{}.csv\".format(vessel_type))\n",
    "print(read_path)"
   ]
  },
  {
   "cell_type": "code",
   "execution_count": 76,
   "id": "72c0661c",
   "metadata": {},
   "outputs": [
    {
     "ename": "FileNotFoundError",
     "evalue": "[Errno 2] No such file or directory: 'C:/passanger.csv'",
     "output_type": "error",
     "traceback": [
      "\u001b[1;31m---------------------------------------------------------------------------\u001b[0m",
      "\u001b[1;31mFileNotFoundError\u001b[0m                         Traceback (most recent call last)",
      "Cell \u001b[1;32mIn[76], line 3\u001b[0m\n\u001b[0;32m      1\u001b[0m \u001b[38;5;66;03m# Read the file on the read path and retrieve the IMO numbers\u001b[39;00m\n\u001b[0;32m      2\u001b[0m imo_list_read \u001b[38;5;241m=\u001b[39m []\n\u001b[1;32m----> 3\u001b[0m \u001b[38;5;28;01mwith\u001b[39;00m \u001b[38;5;28;43mopen\u001b[39;49m\u001b[43m(\u001b[49m\u001b[43mread_path\u001b[49m\u001b[43m,\u001b[49m\u001b[43m \u001b[49m\u001b[38;5;124;43m'\u001b[39;49m\u001b[38;5;124;43mr\u001b[39;49m\u001b[38;5;124;43m'\u001b[39;49m\u001b[43m,\u001b[49m\u001b[43m \u001b[49m\u001b[43mnewline\u001b[49m\u001b[38;5;241;43m=\u001b[39;49m\u001b[38;5;124;43m'\u001b[39;49m\u001b[38;5;124;43m'\u001b[39;49m\u001b[43m)\u001b[49m \u001b[38;5;28;01mas\u001b[39;00m infile:\n\u001b[0;32m      4\u001b[0m     reader \u001b[38;5;241m=\u001b[39m csv\u001b[38;5;241m.\u001b[39mDictReader(infile)\n\u001b[0;32m      5\u001b[0m     \u001b[38;5;28;01mfor\u001b[39;00m row \u001b[38;5;129;01min\u001b[39;00m reader:\n",
      "File \u001b[1;32mc:\\users\\abinp\\appdata\\local\\programs\\python\\python38\\lib\\site-packages\\IPython\\core\\interactiveshell.py:284\u001b[0m, in \u001b[0;36m_modified_open\u001b[1;34m(file, *args, **kwargs)\u001b[0m\n\u001b[0;32m    277\u001b[0m \u001b[38;5;28;01mif\u001b[39;00m file \u001b[38;5;129;01min\u001b[39;00m {\u001b[38;5;241m0\u001b[39m, \u001b[38;5;241m1\u001b[39m, \u001b[38;5;241m2\u001b[39m}:\n\u001b[0;32m    278\u001b[0m     \u001b[38;5;28;01mraise\u001b[39;00m \u001b[38;5;167;01mValueError\u001b[39;00m(\n\u001b[0;32m    279\u001b[0m         \u001b[38;5;124mf\u001b[39m\u001b[38;5;124m\"\u001b[39m\u001b[38;5;124mIPython won\u001b[39m\u001b[38;5;124m'\u001b[39m\u001b[38;5;124mt let you open fd=\u001b[39m\u001b[38;5;132;01m{\u001b[39;00mfile\u001b[38;5;132;01m}\u001b[39;00m\u001b[38;5;124m by default \u001b[39m\u001b[38;5;124m\"\u001b[39m\n\u001b[0;32m    280\u001b[0m         \u001b[38;5;124m\"\u001b[39m\u001b[38;5;124mas it is likely to crash IPython. If you know what you are doing, \u001b[39m\u001b[38;5;124m\"\u001b[39m\n\u001b[0;32m    281\u001b[0m         \u001b[38;5;124m\"\u001b[39m\u001b[38;5;124myou can use builtins\u001b[39m\u001b[38;5;124m'\u001b[39m\u001b[38;5;124m open.\u001b[39m\u001b[38;5;124m\"\u001b[39m\n\u001b[0;32m    282\u001b[0m     )\n\u001b[1;32m--> 284\u001b[0m \u001b[38;5;28;01mreturn\u001b[39;00m \u001b[43mio_open\u001b[49m\u001b[43m(\u001b[49m\u001b[43mfile\u001b[49m\u001b[43m,\u001b[49m\u001b[43m \u001b[49m\u001b[38;5;241;43m*\u001b[39;49m\u001b[43margs\u001b[49m\u001b[43m,\u001b[49m\u001b[43m \u001b[49m\u001b[38;5;241;43m*\u001b[39;49m\u001b[38;5;241;43m*\u001b[39;49m\u001b[43mkwargs\u001b[49m\u001b[43m)\u001b[49m\n",
      "\u001b[1;31mFileNotFoundError\u001b[0m: [Errno 2] No such file or directory: 'C:/passanger.csv'"
     ]
    }
   ],
   "source": [
    "# Read the file on the read path and retrieve the IMO numbers\n",
    "imo_list_read = []\n",
    "with open(read_path, 'r', newline='') as infile:\n",
    "    reader = csv.DictReader(infile)\n",
    "    for row in reader:\n",
    "        imo_list_read.append(row['IMO'])\n",
    "\n",
    "# Read the file on the write path and remove similar IMO numbers\n",
    "imo_list_write = []\n",
    "with open(write_path, 'r', newline='') as infile:\n",
    "    reader = csv.reader(infile)\n",
    "    for row in reader:\n",
    "        imo_number = row[0]\n",
    "        if imo_number not in imo_list_read:\n",
    "            imo_list_write.append(imo_number)\n",
    "\n",
    "# Write the updated file with no similar IMO numbers and no empty lines\n",
    "with open(write_path, 'w', newline='') as outfile:\n",
    "    writer = csv.writer(outfile)\n",
    "    for imo_number in imo_list_write:\n",
    "        writer.writerow([imo_number])\n",
    "\n",
    "# Report the amount of IMO before and after the process\n",
    "before_count = len(imo_list_write) + len(imo_list_read)\n",
    "similar_count = len(imo_list_write)\n",
    "after_count = len(imo_list_read)\n",
    "\n",
    "print('vessel type :',vessel_type,'| class society :',class_type)\n",
    "print(\"Amount of IMO before comparison:\", before_count)\n",
    "print(\"Amount of similar IMO:\", after_count)\n",
    "print(\"Amount of IMO after the process:\", similar_count)"
   ]
  },
  {
   "cell_type": "code",
   "execution_count": null,
   "id": "faa6924b",
   "metadata": {},
   "outputs": [],
   "source": []
  }
 ],
 "metadata": {
  "kernelspec": {
   "display_name": "Python 3 (ipykernel)",
   "language": "python",
   "name": "python3"
  },
  "language_info": {
   "codemirror_mode": {
    "name": "ipython",
    "version": 3
   },
   "file_extension": ".py",
   "mimetype": "text/x-python",
   "name": "python",
   "nbconvert_exporter": "python",
   "pygments_lexer": "ipython3",
   "version": "3.8.0"
  }
 },
 "nbformat": 4,
 "nbformat_minor": 5
}
