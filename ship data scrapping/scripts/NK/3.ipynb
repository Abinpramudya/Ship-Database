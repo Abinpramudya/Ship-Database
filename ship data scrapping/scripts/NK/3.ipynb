{
 "cells": [
  {
   "cell_type": "code",
   "execution_count": 1,
   "id": "06d01831",
   "metadata": {},
   "outputs": [],
   "source": [
    "import os\n",
    "import time\n",
    "import csv\n",
    "import re\n",
    "import yaml\n",
    "import inspect\n",
    "from tqdm import tqdm\n",
    "from selenium import webdriver\n",
    "from selenium.webdriver.common.by import By\n",
    "from selenium.webdriver.common.keys import Keys\n",
    "from selenium.webdriver.support import expected_conditions as EC\n",
    "from selenium.common.exceptions import NoSuchElementException\n",
    "from selenium.webdriver.chrome.options import Options\n",
    "from selenium.webdriver.common.action_chains import ActionChains\n",
    "from selenium.webdriver.support.ui import WebDriverWait"
   ]
  },
  {
   "cell_type": "code",
   "execution_count": 2,
   "id": "73824875",
   "metadata": {},
   "outputs": [],
   "source": [
    "# Get the current working directory\n",
    "current_dir = os.getcwd()\n",
    "\n",
    "# Move up a couple of folders\n",
    "project_dir = os.path.abspath(os.path.join(current_dir, \"../../\"))"
   ]
  },
  {
   "cell_type": "code",
   "execution_count": 3,
   "id": "4cf18c5a",
   "metadata": {},
   "outputs": [],
   "source": [
    "# Define the path to your YAML file\n",
    "yaml_file = os.path.abspath(os.path.join(current_dir, \"../../config.yaml\"))\n",
    "\n",
    "# Read the YAML file\n",
    "with open(yaml_file, 'r') as file:\n",
    "    config = yaml.safe_load(file)\n",
    "\n",
    "# Access the values from the YAML file\n",
    "vessel_type = config['vessel_type']\n",
    "class_type = config['class']\n",
    "base = config['base']\n",
    "quota = str(config['quota'])"
   ]
  },
  {
   "cell_type": "code",
   "execution_count": 4,
   "id": "c05d380e",
   "metadata": {},
   "outputs": [],
   "source": [
    "#edit sesuai kebutuhan\n",
    "num = base + 3\n",
    "filenum = str(num)"
   ]
  },
  {
   "cell_type": "code",
   "execution_count": 5,
   "id": "0888a025",
   "metadata": {},
   "outputs": [],
   "source": [
    "# Directory file csv\n",
    "read_path = os.path.join(project_dir,\"input\",vessel_type,quota,\"split_{}.csv\".format(filenum))\n",
    "write_path = os.path.join(project_dir,\"output\",class_type, vessel_type,\"{}.csv\".format(filenum))"
   ]
  },
  {
   "cell_type": "code",
   "execution_count": 6,
   "id": "aec3eac4",
   "metadata": {},
   "outputs": [
    {
     "name": "stdout",
     "output_type": "stream",
     "text": [
      "C:\\Users\\abinp\\Documents\\ITS\\side projects\\new\\ship data scrapping\\input\\passanger\\1000\\split_3.csv\n",
      "C:\\Users\\abinp\\Documents\\ITS\\side projects\\new\\ship data scrapping\\output\\nk\\passanger\\3.csv\n"
     ]
    }
   ],
   "source": [
    "print(read_path)\n",
    "print(write_path)"
   ]
  },
  {
   "cell_type": "code",
   "execution_count": 7,
   "id": "925b12be",
   "metadata": {},
   "outputs": [
    {
     "name": "stdout",
     "output_type": "stream",
     "text": [
      "CSV read file is found, continuing...\n",
      "CSV write file is not found, creating one...\n"
     ]
    }
   ],
   "source": [
    "# Check if input file exists\n",
    "if os.path.exists(read_path):\n",
    "    print(f\"CSV read file is found, continuing...\")\n",
    "else:\n",
    "    print(f\"CSV read file is not found\")\n",
    "    print('exiting....')\n",
    "    \n",
    "# Check if output file exists and create it if necessary\n",
    "if os.path.exists(write_path):\n",
    "    print(f\"CSV write file  is found, continuing...\")\n",
    "else:\n",
    "    print(f\"CSV write file is not found, creating one...\")\n",
    "    os.makedirs(os.path.dirname(write_path), exist_ok=True) # Create output directory if it doesn't exist\n",
    "    with open(write_path, 'w', newline='') as f:\n",
    "        writer = csv.writer(f)"
   ]
  },
  {
   "cell_type": "code",
   "execution_count": 8,
   "id": "971d6011",
   "metadata": {},
   "outputs": [],
   "source": [
    "def search(IMO):\n",
    "    driver.get(\"https://www.classnk.com/register/regships/regships.aspx\")\n",
    "\n",
    "    search_field = WebDriverWait(driver, 5).until(EC.visibility_of_element_located((By.XPATH, '/html/body/div[2]/div/div/div/div[3]/div/form/div[3]/table/tbody/tr[2]/td/input')))\n",
    "    search_field.send_keys(IMO)\n",
    "\n",
    "    search_button = driver.find_element(By.XPATH, '/html/body/div[2]/div/div/div/div[3]/div/form/div[3]/p/a[1]')\n",
    "    search_button.click()\n",
    "    \n",
    "    ship_button = WebDriverWait(driver, 5).until(EC.visibility_of_element_located((By.XPATH, '/html/body/div[2]/div/div/div/div[3]/div/div[1]/div[2]/h3/a')))\n",
    "    ship_button.click()"
   ]
  },
  {
   "cell_type": "code",
   "execution_count": 9,
   "id": "34f83233",
   "metadata": {},
   "outputs": [],
   "source": [
    "def newtab():\n",
    "    # Close all other windows except the original window\n",
    "    original_window = driver.current_window_handle\n",
    "    all_window_handles = driver.window_handles\n",
    "    for window_handle in all_window_handles:\n",
    "        if window_handle != original_window:\n",
    "            driver.switch_to.window(window_handle)\n",
    "            driver.close()\n",
    "\n",
    "    # Switch back to the original window\n",
    "    driver.switch_to.window(original_window)\n",
    "\n",
    "    # Open a new tab with the desired URL\n",
    "    driver.execute_script(\"window.open('https://www.classnk.com/register/regships/one.aspx', '_blank');\")\n",
    "\n",
    "    # Switch to the new tab\n",
    "    time.sleep(0.5)\n",
    "    driver.switch_to.window(driver.window_handles[-1])"
   ]
  },
  {
   "cell_type": "code",
   "execution_count": 10,
   "id": "85429675",
   "metadata": {},
   "outputs": [],
   "source": [
    "def find_xpath_by_text(driver, target_text):\n",
    "    base_xpath = \"/html/body/div/div/div[1]/div[3]/table/tbody/tr[NUMBER]\"\n",
    "    number = 1\n",
    "    while True:\n",
    "        xpath = base_xpath.replace(\"NUMBER\", str(number))\n",
    "        try:\n",
    "            element = driver.find_element(By.XPATH, xpath)\n",
    "            if target_text in element.text:\n",
    "                return xpath\n",
    "        except NoSuchElementException:\n",
    "            # If the element is not found, stop the loop\n",
    "            break\n",
    "        number += 1\n",
    "    \n",
    "    # Return None if the target_text is not found\n",
    "    return None"
   ]
  },
  {
   "cell_type": "code",
   "execution_count": 11,
   "id": "92b4de31",
   "metadata": {},
   "outputs": [],
   "source": [
    "def shipdata():\n",
    "    global LOA, LPP, B, H, T\n",
    "    global DWT, NT, GT, LT\n",
    "    global NAME, REGISTER, IMO, vessel_type\n",
    "    global link\n",
    "    \n",
    "    wait = WebDriverWait(driver, 10) # Maximum wait time of 10 seconds\n",
    "    \n",
    "    target_text =\"Ship's Name\"\n",
    "    result_xpath = find_xpath_by_text(driver,target_text)\n",
    "    NAME = wait.until(EC.visibility_of_element_located((By.XPATH,'{}/td'.format(result_xpath))))\n",
    "    \n",
    "    target_text =\"Classification No.\"\n",
    "    result_xpath = find_xpath_by_text(driver,target_text)\n",
    "    REGISTER = wait.until(EC.visibility_of_element_located((By.XPATH,'{}/td'.format(result_xpath))))\n",
    "    \n",
    "    target_text =\"IMO No.\"\n",
    "    result_xpath = find_xpath_by_text(driver,target_text)\n",
    "    IMO = wait.until(EC.visibility_of_element_located((By.XPATH,'{}/td'.format(result_xpath))))\n",
    "    \n",
    "    target_text =\"Type of Ship -Purpose(intended service)\"\n",
    "    result_xpath = find_xpath_by_text(driver,target_text)\n",
    "    vessel_type = wait.until(EC.visibility_of_element_located((By.XPATH,'{}/td'.format(result_xpath))))\n",
    "    \n",
    "    \n",
    "    \n",
    "    #principal dimension\n",
    "    target_text =\"Overall Length (m)\"\n",
    "    result_xpath = find_xpath_by_text(driver,target_text)\n",
    "    LOA = wait.until(EC.visibility_of_element_located((By.XPATH,'{}/td'.format(result_xpath))))\n",
    "    \n",
    "    target_text =\"Summer Draught (m)\"\n",
    "    result_xpath = find_xpath_by_text(driver,target_text)   \n",
    "    T = wait.until(EC.visibility_of_element_located((By.XPATH,'{}/td'.format(result_xpath))))\n",
    "\n",
    "    target_text =\"Registered LxBxD (m)\"\n",
    "    result_xpath = find_xpath_by_text(driver,target_text)\n",
    "    dimensions = wait.until(EC.visibility_of_element_located((By.XPATH , '{}/td'.format(result_xpath))))\n",
    "    overall = str(dimensions.text)    \n",
    "    split = overall.split('x')\n",
    "    LPP, B, H = split\n",
    "    \n",
    "    #ship tonnage\n",
    "    target_text =\"Tonnage Gross (Registered)\"\n",
    "    result_xpath = find_xpath_by_text(driver,target_text)\n",
    "    GT = wait.until(EC.visibility_of_element_located((By.XPATH,'{}/td'.format(result_xpath))))\n",
    "\n",
    "    \n",
    "    target_text =\"Tonnage Net (Registered)\"\n",
    "    result_xpath = find_xpath_by_text(driver,target_text)\n",
    "    NT = wait.until(EC.visibility_of_element_located((By.XPATH,'{}/td'.format(result_xpath))))\n",
    "    \n",
    "    \n",
    "    target_text =\"Deadweight\"\n",
    "    result_xpath = find_xpath_by_text(driver,target_text)\n",
    "    DWT = wait.until(EC.visibility_of_element_located((By.XPATH,'{}/td'.format(result_xpath))))\n",
    "    \n",
    "    link = 'https://www.vesselfinder.com/vessels/details/{}'.format(IMO.text)\n",
    "    \n",
    "    # print variable names and value\n",
    "#     print('NAME:', NAME.text)\n",
    "#     print('REGISTER:', REGISTER.text)\n",
    "#     print('IMO:', IMO.text)\n",
    "#     print('VESSEL TYPE:', vessel_type.text)\n",
    "#     print('LOA:', LOA.text)\n",
    "#     print('LPP:', LPP)\n",
    "#     print('T:', T.text)\n",
    "#     print('B:', B)\n",
    "#     print('H:', H)\n",
    "#     print('GT:', GT.text)\n",
    "#     print('NT:', NT.text)\n",
    "#     print('DWT:', DWT.text)\n",
    "#     print('LINK:', link)"
   ]
  },
  {
   "cell_type": "code",
   "execution_count": 12,
   "id": "35db2a28",
   "metadata": {},
   "outputs": [],
   "source": [
    "# Define the fieldnames for the CSV file\n",
    "fieldnames = ['NAME', 'REGISTER', 'IMO', 'TYPE', 'LOA', 'LPP', 'B', 'H', 'T',  'GT', 'NT', 'DWT', 'Link']"
   ]
  },
  {
   "cell_type": "code",
   "execution_count": 13,
   "id": "0a33cdd4",
   "metadata": {},
   "outputs": [
    {
     "name": "stderr",
     "output_type": "stream",
     "text": [
      "Processing IMOs: 100%|███████████████████████████████████████████| 1001/1001 [1:13:53<00:00,  4.43s/it, Ships Found =0]\n"
     ]
    },
    {
     "name": "stdout",
     "output_type": "stream",
     "text": [
      "Total Ships Found: 0\n"
     ]
    }
   ],
   "source": [
    "# Set up the webdriver\n",
    "driver = webdriver.Chrome()\n",
    "\n",
    "# Counters for ships found and total IMOs\n",
    "ship_count = 0\n",
    "total_imo = 0\n",
    "\n",
    "# Open the input file to get the total number of IMOs\n",
    "with open(read_path, newline='') as csvfile:\n",
    "    reader = csv.reader(csvfile)\n",
    "    total_imo = sum(1 for _ in reader)\n",
    "\n",
    "# Open the CSV file for writing\n",
    "with open(write_path, mode='w', newline='') as details_file:\n",
    "    writer = csv.DictWriter(details_file, fieldnames=fieldnames)\n",
    "    writer.writeheader()\n",
    "\n",
    "    # Create a progress bar\n",
    "    progress_bar = tqdm(total=total_imo, desc='Processing IMOs')\n",
    "\n",
    "    # Open the input file and loop through each vessel name\n",
    "    with open(read_path, newline='') as csvfile:\n",
    "        reader = csv.reader(csvfile)\n",
    "\n",
    "        for row in reader:\n",
    "            IMO = row[0]\n",
    "            progress_bar.update(1)\n",
    "            progress_bar.set_postfix({'Ships Found ': ship_count})\n",
    "\n",
    "            try:\n",
    "                search(IMO)\n",
    "                newtab()\n",
    "                shipdata()\n",
    "                ship_count += 1\n",
    "                \n",
    "            except:\n",
    "                continue\n",
    "\n",
    "            details_dict = {\n",
    "                'NAME': NAME.text, 'REGISTER': REGISTER.text, 'IMO': IMO.text,\n",
    "                'TYPE': vessel_type.text, 'LOA': LOA.text, 'LPP': LPP,\n",
    "                'B': B, 'H': H, 'T': T.text, 'GT': GT.text,\n",
    "                'NT': NT.text, 'DWT': DWT.text, 'Link': link\n",
    "            }\n",
    "            \n",
    "\n",
    "\n",
    "    # Close the progress bar\n",
    "    progress_bar.close()\n",
    "\n",
    "# Close the webdriver\n",
    "driver.quit()\n",
    "\n",
    "# Display the total number of ships found\n",
    "print('Total Ships Found:', ship_count)"
   ]
  }
 ],
 "metadata": {
  "kernelspec": {
   "display_name": "Python 3 (ipykernel)",
   "language": "python",
   "name": "python3"
  },
  "language_info": {
   "codemirror_mode": {
    "name": "ipython",
    "version": 3
   },
   "file_extension": ".py",
   "mimetype": "text/x-python",
   "name": "python",
   "nbconvert_exporter": "python",
   "pygments_lexer": "ipython3",
   "version": "3.8.0"
  }
 },
 "nbformat": 4,
 "nbformat_minor": 5
}
