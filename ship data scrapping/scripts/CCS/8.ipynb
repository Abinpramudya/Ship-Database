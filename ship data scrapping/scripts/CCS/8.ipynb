{
 "cells": [
  {
   "cell_type": "code",
   "execution_count": 56,
   "id": "a98d803c",
   "metadata": {},
   "outputs": [],
   "source": [
    "import os\n",
    "import time\n",
    "import csv\n",
    "import re\n",
    "import yaml\n",
    "import inspect\n",
    "from tqdm import tqdm\n",
    "from selenium import webdriver\n",
    "from selenium.webdriver.common.by import By\n",
    "from selenium.webdriver.common.keys import Keys\n",
    "from selenium.webdriver.support import expected_conditions as EC\n",
    "from selenium.common.exceptions import NoSuchElementException\n",
    "from selenium.webdriver.chrome.options import Options"
   ]
  },
  {
   "cell_type": "code",
   "execution_count": 57,
   "id": "1efc29c5",
   "metadata": {},
   "outputs": [],
   "source": [
    "# Get the current working directory\n",
    "current_dir = os.getcwd()\n",
    "\n",
    "# Move up a couple of folders\n",
    "project_dir = os.path.abspath(os.path.join(current_dir, \"../../\"))"
   ]
  },
  {
   "cell_type": "code",
   "execution_count": 58,
   "id": "08d8bd1d",
   "metadata": {
    "scrolled": true
   },
   "outputs": [],
   "source": [
    "# Define the path to your YAML file\n",
    "yaml_file = os.path.abspath(os.path.join(current_dir, \"../../config.yaml\"))\n",
    "\n",
    "# Read the YAML file\n",
    "with open(yaml_file, 'r') as file:\n",
    "    config = yaml.safe_load(file)\n",
    "\n",
    "# Access the values from the YAML file\n",
    "vessel_type = config['vessel_type']\n",
    "class_type = config['class']\n",
    "base = config['base']"
   ]
  },
  {
   "cell_type": "code",
   "execution_count": 59,
   "id": "51411bd3",
   "metadata": {},
   "outputs": [],
   "source": [
    "#edit sesuai kebutuhan\n",
    "num = base + 8\n",
    "filenum = str(num)"
   ]
  },
  {
   "cell_type": "code",
   "execution_count": 60,
   "id": "50e3ad78",
   "metadata": {},
   "outputs": [],
   "source": [
    "# Directory file csv\n",
    "read_path = os.path.join(project_dir,\"input\", vessel_type,\"split_{}.csv\".format(filenum))\n",
    "write_path = os.path.join(project_dir,\"output\", class_type, vessel_type,\"{}.csv\".format(filenum))"
   ]
  },
  {
   "cell_type": "code",
   "execution_count": 61,
   "id": "b7c6859f",
   "metadata": {},
   "outputs": [
    {
     "name": "stdout",
     "output_type": "stream",
     "text": [
      "C:\\Users\\abinp\\Documents\\ITS\\side projects\\new\\ship data scrapping\\input\\tanker\\split_16.csv\n"
     ]
    }
   ],
   "source": [
    "print(read_path)"
   ]
  },
  {
   "cell_type": "code",
   "execution_count": 62,
   "id": "057493fe",
   "metadata": {},
   "outputs": [
    {
     "name": "stdout",
     "output_type": "stream",
     "text": [
      "CSV read file is found, continuing...\n",
      "CSV write file is not found, creating one...\n"
     ]
    }
   ],
   "source": [
    "# Check if input file exists\n",
    "if os.path.exists(read_path):\n",
    "    print(f\"CSV read file is found, continuing...\")\n",
    "else:\n",
    "    print(f\"CSV read file is not found\")\n",
    "    print('exiting....')\n",
    "    \n",
    "    \n",
    "# Check if output file exists and create it if necessary\n",
    "if os.path.exists(write_path):\n",
    "    print(f\"CSV write file  is found, continuing...\")\n",
    "    \n",
    "else:\n",
    "    print(f\"CSV write file is not found, creating one...\")\n",
    "    os.makedirs(os.path.dirname(write_path), exist_ok=True) # Create output directory if it doesn't exist\n",
    "    with open(write_path, 'w', newline='') as f:\n",
    "        writer = csv.writer(f)"
   ]
  },
  {
   "cell_type": "code",
   "execution_count": 63,
   "id": "da1c40dd",
   "metadata": {},
   "outputs": [],
   "source": [
    "def search(IMO):\n",
    "    link = 'https://www.ccs.org.cn/ccswzen/internationalShipsList?columnid=201900002000000123&imono={}'.format(IMO)\n",
    "    driver.get(link)\n",
    "    \n",
    "    search_button = driver.find_element(By.XPATH, '/html/body/div[4]/div[2]/div/div[1]/ul[3]/li[2]/input[1]')\n",
    "    search_button.click()\n",
    "\n",
    "    ship_button = driver.find_element(By.XPATH, '/html/body/div[4]/div[2]/div/div[2]/div[1]/table/tbody/tr/td[2]/button')\n",
    "    ship_button.click()\n",
    "\n",
    "    time.sleep(2)\n",
    "\n",
    "    iframe = driver.find_element(By.TAG_NAME, \"iframe\")\n",
    "    driver.switch_to.frame(iframe)\n"
   ]
  },
  {
   "cell_type": "code",
   "execution_count": 64,
   "id": "27157582",
   "metadata": {},
   "outputs": [],
   "source": [
    "#data mining di website\n",
    "def shipdata():\n",
    "    global LOA , LPP , B , H , T\n",
    "    global DWT , NT , GT , LT\n",
    "    global NAME , REGISTER , IMO , vessel_type\n",
    "    global link\n",
    "    \n",
    "    \n",
    "    NAME = driver.find_element(By.XPATH,'/html/body/div/div/div/table/tbody/tr[2]/td[1]/span')\n",
    "    REGISTER = driver.find_element(By.XPATH,'/html/body/div/div/div/table/tbody/tr[1]/td[1]/span')\n",
    "    IMO = driver.find_element(By.XPATH,'/html/body/div/div/div/table/tbody/tr[3]/td[1]/span')\n",
    "    vessel_type = driver.find_element(By.XPATH,'/html/body/div/div/div/table/tbody/tr[6]/td[1]/span')\n",
    "    \n",
    "    #principal dimension\n",
    "    LOA = driver.find_element(By.XPATH,'/html/body/div/div/div/table/tbody/tr[8]/td[2]/span')\n",
    "    LPP = driver.find_element(By.XPATH,'/html/body/div/div/div/table/tbody/tr[9]/td[1]/span')\n",
    "    B = driver.find_element(By.XPATH,'/html/body/div/div/div/table/tbody/tr[9]/td[2]/span')\n",
    "    H = driver.find_element(By.XPATH,'/html/body/div/div/div/table/tbody/tr[10]/td[1]/span')\n",
    "    T = driver.find_element(By.XPATH,'/html/body/div/div/div/table/tbody/tr[11]/td[1]/span')\n",
    "    \n",
    "    #ship tonnage\n",
    "    GT = driver.find_element(By.XPATH,'/html/body/div/div/div/table/tbody/tr[7]/td[1]/span')\n",
    "    NT = driver.find_element(By.XPATH,'/html/body/div/div/div/table/tbody/tr[7]/td[2]/span')\n",
    "    DWT = driver.find_element(By.XPATH,'/html/body/div/div/div/table/tbody/tr[8]/td[1]/span')\n",
    "    \n",
    "    link = 'https://www.ccs.org.cn/ccswzen/internationalShipsList?columnid=201900002000000123&imono={}'.format(IMO.text)\n",
    "    \n",
    "    # print variable names and value\n",
    "\n",
    "\n"
   ]
  },
  {
   "cell_type": "code",
   "execution_count": 65,
   "id": "a219104a",
   "metadata": {},
   "outputs": [],
   "source": [
    "# Define the fieldnames for the CSV file\n",
    "fieldnames = ['NAME', 'REGISTER', 'IMO', 'TYPE', 'LOA', 'LPP', 'B', 'H', 'T',  'GT', 'NT', 'DWT', 'Link']"
   ]
  },
  {
   "cell_type": "code",
   "execution_count": 66,
   "id": "1b4268bb",
   "metadata": {},
   "outputs": [
    {
     "name": "stderr",
     "output_type": "stream",
     "text": [
      "Processing IMOs: 100%|████████████████████████████████████████████| 1001/1001 [33:54<00:00,  2.03s/it, Ships Found =50]\n"
     ]
    },
    {
     "name": "stdout",
     "output_type": "stream",
     "text": [
      "Total Ships Found: 50\n"
     ]
    }
   ],
   "source": [
    "# Set up the webdriver\n",
    "driver = webdriver.Chrome()\n",
    "\n",
    "# Counters for ships found and total IMOs\n",
    "ship_count = 0\n",
    "total_imo = 0\n",
    "\n",
    "# Open the input file to get the total number of IMOs\n",
    "with open(read_path, newline='') as csvfile:\n",
    "    reader = csv.reader(csvfile)\n",
    "    total_imo = sum(1 for _ in reader)\n",
    "\n",
    "# Open the CSV file for writing\n",
    "with open(write_path, mode='w', newline='',encoding='utf-8') as details_file:\n",
    "    writer = csv.DictWriter(details_file, fieldnames=fieldnames)\n",
    "    writer.writeheader()\n",
    "\n",
    "    # Create a progress bar\n",
    "    progress_bar = tqdm(total=total_imo, desc='Processing IMOs')\n",
    "\n",
    "    # Open the input file and loop through each vessel name\n",
    "    with open(read_path, newline='') as csvfile:\n",
    "        reader = csv.reader(csvfile)\n",
    "\n",
    "        for row in reader:\n",
    "            IMO = row[0]\n",
    "            progress_bar.update(1)\n",
    "            progress_bar.set_postfix({'Ships Found ': ship_count})\n",
    "            try:\n",
    "                search(IMO)\n",
    "\n",
    "                shipdata()\n",
    "                ship_count += 1\n",
    "            except:\n",
    "                continue\n",
    "\n",
    "            details_dict = {\n",
    "                'NAME': NAME.text, 'REGISTER': REGISTER.text, 'IMO': IMO.text,\n",
    "                'TYPE': vessel_type.text, 'LOA': LOA.text, 'LPP': LPP.text,\n",
    "                'B': B.text, 'H': H.text, 'T': T.text, 'GT': GT.text,\n",
    "                'NT': NT.text, 'DWT': DWT.text, 'Link': link\n",
    "            }\n",
    "            writer.writerow(details_dict)\n",
    "\n",
    "\n",
    "\n",
    "    # Close the progress bar\n",
    "    progress_bar.close()\n",
    "\n",
    "# Close the webdriver\n",
    "driver.quit()\n",
    "\n",
    "# Display the total number of ships found\n",
    "print('Total Ships Found:', ship_count)"
   ]
  }
 ],
 "metadata": {
  "kernelspec": {
   "display_name": "Python 3 (ipykernel)",
   "language": "python",
   "name": "python3"
  },
  "language_info": {
   "codemirror_mode": {
    "name": "ipython",
    "version": 3
   },
   "file_extension": ".py",
   "mimetype": "text/x-python",
   "name": "python",
   "nbconvert_exporter": "python",
   "pygments_lexer": "ipython3",
   "version": "3.8.0"
  }
 },
 "nbformat": 4,
 "nbformat_minor": 5
}
