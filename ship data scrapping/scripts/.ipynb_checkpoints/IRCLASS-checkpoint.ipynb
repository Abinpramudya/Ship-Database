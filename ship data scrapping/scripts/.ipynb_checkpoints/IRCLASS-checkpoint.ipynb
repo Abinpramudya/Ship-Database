{
 "cells": [
  {
   "cell_type": "code",
   "execution_count": 1,
   "id": "e6b5bac5",
   "metadata": {},
   "outputs": [],
   "source": [
    "import os\n",
    "import time\n",
    "import csv\n",
    "import re\n",
    "from selenium import webdriver\n",
    "from selenium.webdriver.common.by import By\n",
    "from selenium.webdriver.common.keys import Keys\n",
    "from selenium.webdriver.support import expected_conditions as EC\n",
    "from selenium.common.exceptions import NoSuchElementException\n",
    "from selenium.webdriver.chrome.options import Options\n",
    "from selenium.webdriver.support.ui import WebDriverWait\n",
    "from selenium.webdriver.common.action_chains import ActionChains"
   ]
  },
  {
   "cell_type": "code",
   "execution_count": 2,
   "id": "6fbafc6c",
   "metadata": {},
   "outputs": [],
   "source": [
    "#edit sesuai kebutuhan\n",
    "vessel_type = 'bulk carrier'\n",
    "filenum = '1'\n",
    "kelas = ''"
   ]
  },
  {
   "cell_type": "code",
   "execution_count": 3,
   "id": "91c9910a",
   "metadata": {},
   "outputs": [],
   "source": [
    "#directory file csv\n",
    "read_path = 'C:/Users/abinp/Documents/ITS/side projects/new/ship data scrapping/input/{}/split_{}.csv'.format(vessel_type,filenum)\n",
    "write_path = 'C:/Users/abinp/Documents/ITS/side projects/new/ship data scrapping/output/{}/{}/{}.csv'.format(kelas,vessel_type,filenum)"
   ]
  },
  {
   "cell_type": "code",
   "execution_count": 4,
   "id": "62cd354f",
   "metadata": {},
   "outputs": [
    {
     "name": "stdout",
     "output_type": "stream",
     "text": [
      "CSV read file is found, continuing...\n",
      "CSV write file  is found, continuing...\n"
     ]
    }
   ],
   "source": [
    "# Check if input file exists\n",
    "if os.path.exists(read_path):\n",
    "    print(f\"CSV read file is found, continuing...\")\n",
    "else:\n",
    "    print(f\"CSV read file is not found\")\n",
    "    print('exiting....')\n",
    "    \n",
    "# Check if output file exists and create it if necessary\n",
    "if os.path.exists(write_path):\n",
    "    print(f\"CSV write file  is found, continuing...\")\n",
    "else:\n",
    "    print(f\"CSV write file is not found, creating one...\")\n",
    "    os.makedirs(os.path.dirname(write_path), exist_ok=True) # Create output directory if it doesn't exist\n",
    "    with open(write_path, 'w', newline='') as f:\n",
    "        writer = csv.writer(f)"
   ]
  },
  {
   "cell_type": "code",
   "execution_count": 12,
   "id": "089fd45d",
   "metadata": {},
   "outputs": [],
   "source": [
    "def searchdata(IMO):\n",
    "    search_field = WebDriverWait(driver, 5).until(EC.visibility_of_element_located((By.XPATH, '/html/body/div[3]/div[2]/form/div[1]/div[3]/div/div[2]/div[1]/div[1]/div/div/input')))\n",
    "    search_field.send_keys(IMO)\n",
    "\n",
    "    search_button = driver.find_element(By.XPATH, '/html/body/div[3]/div[2]/form/div[1]/div[3]/div/div[2]/div[1]/div[3]/div/button')\n",
    "    search_button.click()\n",
    "\n",
    "    link_kapal = WebDriverWait(driver, 5).until(EC.visibility_of_element_located((By.XPATH, '/html/body/div[3]/div[3]/div[1]/div[1]/div[2]/table/tbody/tr/td[3]/a')))\n",
    "    link_kapal.click()\n",
    "\n",
    "    data_kapal = WebDriverWait(driver, 5).until(EC.visibility_of_element_located((By.XPATH, '/html/body/div[3]/div[3]/div[1]/div[2]/div/div/div/div[2]/div/div[2]/div[1]/ul/li[3]/a')))\n",
    "    data_kapal.click()"
   ]
  },
  {
   "cell_type": "code",
   "execution_count": null,
   "id": "8fadc10f",
   "metadata": {},
   "outputs": [],
   "source": [
    "def shipdata():\n",
    "    global LOA, LPP, B, H, T\n",
    "    global DWT, NT, GT, LT\n",
    "    global NAME, REGISTER, IMO, vessel_type\n",
    "    global link\n",
    "    \n",
    "    wait = WebDriverWait(driver, 10) # Maximum wait time of 10 seconds\n",
    "    \n",
    "    NAME = wait.until(EC.visibility_of_element_located((By.XPATH,'/html/body/div/div/div[1]/div[3]/table/tbody/tr[8]/td')))\n",
    "    REGISTER = wait.until(EC.visibility_of_element_located((By.XPATH,'/html/body/div/div/div[1]/div[3]/table/tbody/tr[2]/td')))\n",
    "    IMO = wait.until(EC.visibility_of_element_located((By.XPATH,'/html/body/div/div/div[1]/div[3]/table/tbody/tr[3]/td')))\n",
    "    vessel_type = wait.until(EC.visibility_of_element_located((By.XPATH,'/html/body/div/div/div[1]/div[3]/table/tbody/tr[25]/td')))\n",
    "    \n",
    "    #principal dimension\n",
    "    LOA = wait.until(EC.visibility_of_element_located((By.XPATH,'/html/body/div/div/div[1]/div[3]/table/tbody/tr[45]/td')))\n",
    "    T = wait.until(EC.visibility_of_element_located((By.XPATH,'/html/body/div/div/div[1]/div[3]/table/tbody/tr[40]/td')))\n",
    "    \n",
    "    dimensions = wait.until(EC.visibility_of_element_located((By.XPATH , '/html/body/div/div/div[1]/div[3]/table/tbody/tr[44]/td')))\n",
    "    overall = str(dimensions.text)    \n",
    "    split = overall.split('x')\n",
    "    LPP, B, H = split\n",
    "    \n",
    "    #ship tonnage\n",
    "    GT = wait.until(EC.visibility_of_element_located((By.XPATH,'/html/body/div/div/div[1]/div[3]/table/tbody/tr[31]/td')))\n",
    "    NT = wait.until(EC.visibility_of_element_located((By.XPATH,'/html/body/div/div/div[1]/div[3]/table/tbody/tr[32]/td')))\n",
    "    DWT = wait.until(EC.visibility_of_element_located((By.XPATH,'/html/body/div/div/div[1]/div[3]/table/tbody/tr[37]/td')))\n",
    "    \n",
    "    link = 'https://www.vesselfinder.com/vessels/details/{}'.format(IMO.text)"
   ]
  },
  {
   "cell_type": "code",
   "execution_count": 21,
   "id": "bd29e3bc",
   "metadata": {},
   "outputs": [
    {
     "name": "stdout",
     "output_type": "stream",
     "text": [
      "DESH VISHAL\n",
      "162412\n",
      "112240\n",
      "321136.7 T\n",
      "42914 T\n",
      "364051\n",
      "333\n",
      "320\n",
      "60\n",
      "22.52\n",
      "30.50\n",
      "4552\n"
     ]
    }
   ],
   "source": [
    "# Set up the webdriver\n",
    "driver = webdriver.Chrome()\n",
    "\n",
    "driver.get(\"https://www.irclass.org/shipsearch\")\n",
    "\n",
    "IMO = '9371749'\n",
    "\n",
    "searchdata(IMO)\n",
    "\n",
    "wait = WebDriverWait(driver, 10) # Maximum wait time of 10 seconds\n",
    "\n",
    "NAME         = wait.until(EC.visibility_of_element_located((By.XPATH,'/html/body/div[3]/div[3]/div[1]/div[2]/div/div/div/div[2]/div/div[1]/div/div[1]')))\n",
    "GT           = wait.until(EC.visibility_of_element_located((By.XPATH,'/html/body/div[3]/div[3]/div[1]/div[2]/div/div/div/div[2]/div/div[2]/div[2]/div[3]/div/div/div/div/table/tbody/tr[1]/td[2]')))\n",
    "NT           = wait.until(EC.visibility_of_element_located((By.XPATH,'/html/body/div[3]/div[3]/div[1]/div[2]/div/div/div/div[2]/div/div[2]/div[2]/div[3]/div/div/div/div/table/tbody/tr[2]/td[2]')))\n",
    "DWT          = wait.until(EC.visibility_of_element_located((By.XPATH,'/html/body/div[3]/div[3]/div[1]/div[2]/div/div/div/div[2]/div/div[2]/div[2]/div[3]/div/div/div/div/table/tbody/tr[3]/td[2]')))\n",
    "LWT          = wait.until(EC.visibility_of_element_located((By.XPATH,'/html/body/div[3]/div[3]/div[1]/div[2]/div/div/div/div[2]/div/div[2]/div[2]/div[3]/div/div/div/div/table/tbody/tr[5]/td[2]')))\n",
    "Displacement = wait.until(EC.visibility_of_element_located((By.XPATH,'/html/body/div[3]/div[3]/div[1]/div[2]/div/div/div/div[2]/div/div[2]/div[2]/div[3]/div/div/div/div/table/tbody/tr[4]/td[2]')))\n",
    "LOA          = wait.until(EC.visibility_of_element_located((By.XPATH,'/html/body/div[3]/div[3]/div[1]/div[2]/div/div/div/div[2]/div/div[2]/div[2]/div[3]/div/div/div/div/table/tbody/tr[6]/td[2]')))\n",
    "LPP          = wait.until(EC.visibility_of_element_located((By.XPATH,'/html/body/div[3]/div[3]/div[1]/div[2]/div/div/div/div[2]/div/div[2]/div[2]/div[3]/div/div/div/div/table/tbody/tr[7]/td[2]')))\n",
    "B            = wait.until(EC.visibility_of_element_located((By.XPATH,'/html/body/div[3]/div[3]/div[1]/div[2]/div/div/div/div[2]/div/div[2]/div[2]/div[3]/div/div/div/div/table/tbody/tr[9]/td[2]')))\n",
    "T            = wait.until(EC.visibility_of_element_located((By.XPATH,'/html/body/div[3]/div[3]/div[1]/div[2]/div/div/div/div[2]/div/div[2]/div[2]/div[3]/div/div/div/div/table/tbody/tr[10]/td[2]')))\n",
    "H            = wait.until(EC.visibility_of_element_located((By.XPATH,'/html/body/div[3]/div[3]/div[1]/div[2]/div/div/div/div[2]/div/div[2]/div[2]/div[3]/div/div/div/div/table/tbody/tr[11]/td[2]')))\n",
    "FB           = wait.until(EC.visibility_of_element_located((By.XPATH,'/html/body/div[3]/div[3]/div[1]/div[2]/div/div/div/div[2]/div/div[2]/div[2]/div[3]/div/div/div/div/table/tbody/tr[12]/td[2]')))\n",
    "\n",
    "print(NAME.text)\n",
    "print(GT.text)\n",
    "print(NT.text)\n",
    "print(DWT.text)\n",
    "print(LWT.text)\n",
    "print(Displacement.text)\n",
    "print(LOA.text)\n",
    "print(LPP.text)\n",
    "print(B.text)\n",
    "print(T.text)\n",
    "print(H.text)\n",
    "print(FB.text)"
   ]
  },
  {
   "cell_type": "code",
   "execution_count": null,
   "id": "7f3e29be",
   "metadata": {},
   "outputs": [],
   "source": []
  }
 ],
 "metadata": {
  "kernelspec": {
   "display_name": "Python 3 (ipykernel)",
   "language": "python",
   "name": "python3"
  },
  "language_info": {
   "codemirror_mode": {
    "name": "ipython",
    "version": 3
   },
   "file_extension": ".py",
   "mimetype": "text/x-python",
   "name": "python",
   "nbconvert_exporter": "python",
   "pygments_lexer": "ipython3",
   "version": "3.11.3"
  }
 },
 "nbformat": 4,
 "nbformat_minor": 5
}
