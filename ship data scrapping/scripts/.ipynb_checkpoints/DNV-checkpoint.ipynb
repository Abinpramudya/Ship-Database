{
 "cells": [
  {
   "cell_type": "code",
   "execution_count": 1,
   "id": "1560b123",
   "metadata": {},
   "outputs": [],
   "source": [
    "import os\n",
    "import time\n",
    "import csv\n",
    "from selenium import webdriver\n",
    "from selenium.webdriver.common.by import By\n",
    "from selenium.webdriver.common.keys import Keys"
   ]
  },
  {
   "cell_type": "code",
   "execution_count": null,
   "id": "725c5566",
   "metadata": {},
   "outputs": [],
   "source": [
    "#edit sesuai kebutuhan\n",
    "vessel_type = ''\n",
    "filenum = ''"
   ]
  },
  {
   "cell_type": "code",
   "execution_count": null,
   "id": "f613955d",
   "metadata": {},
   "outputs": [],
   "source": [
    "#directory file\n"
   ]
  },
  {
   "cell_type": "code",
   "execution_count": 2,
   "id": "354006ce",
   "metadata": {},
   "outputs": [],
   "source": [
    "driver = webdriver.Chrome(executable_path=r\"chromedriver\")\n",
    "driver.get(\"https://vesselregister.dnv.com/vesselregister/\")"
   ]
  },
  {
   "cell_type": "code",
   "execution_count": 3,
   "id": "9d3b0b31",
   "metadata": {},
   "outputs": [
    {
     "name": "stdout",
     "output_type": "stream",
     "text": [
      "{'Name': 'PACIFIC UNITY', 'Loa': '361.801 m', 'Lbp': '354.876 m', 'Lload': '352.742 m', 'Bext': '65.057 m', 'B': '64.991 m', 'D': '30.406 m', 'Draught': '23.036 m', 'GT (ITC 69)': '204014', 'NT (ITC 69)': '66606', 'DWT': '399000', 'GT (PRE 69)': '', 'NT (PRE 69': '', 'Freeboard': 'I'}\n"
     ]
    }
   ],
   "source": [
    "# Set up the webdriver\n",
    "driver = webdriver.Chrome()\n",
    "\n",
    "# Define the fieldnames for the CSV file\n",
    "fieldnames = ['Name', 'Loa', 'Lbp', 'Lload', 'Bext', 'B', 'D', 'Draught', 'GT (ITC 69)', 'NT (ITC 69)', 'DWT', 'GT (PRE 69)', 'Freeboard']\n",
    "\n",
    "# Open the CSV file for writing\n",
    "with open('vessel_details.csv', mode='w', newline='') as details_file:\n",
    "    writer = csv.DictWriter(details_file, fieldnames=fieldnames)\n",
    "    writer.writeheader()\n",
    "\n",
    "    # Open the input file and loop through each vessel name\n",
    "    with open('names.csv', newline='') as csvfile:\n",
    "        reader = csv.reader(csvfile)\n",
    "        next(reader)  # skip the first row (header)\n",
    "        for row in reader:\n",
    "            vessel_name = row[0]\n",
    "            driver.get('https://vesselregister.dnv.com/vesselregister/')\n",
    "\n",
    "            # Input the vessel name into the search field and press enter\n",
    "            search_field = driver.find_element(By.CLASS_NAME, 'ant-input.search-field')\n",
    "            search_field.send_keys(vessel_name)\n",
    "            search_field.send_keys(Keys.RETURN)\n",
    "\n",
    "            # Wait for the search results to load and click on the first vessel\n",
    "            time.sleep(2)  # adjust this if necessary\n",
    "            try:\n",
    "                first_vessel = driver.find_element(By.XPATH, '/html/body/div[1]/section/main/div/div[3]/div[2]/div/div/div/div/div/table/tbody/tr[2]/td[1]/a')\n",
    "                first_vessel.click()\n",
    "            except:\n",
    "                print(f\"No vessel found on IMO : {vessel_name}\")\n",
    "                continue\n",
    "        \n",
    "            # Click the collapse/expand button to show the vessel size/dimensions\n",
    "            time.sleep(5)\n",
    "            dimensions_btn = driver.find_element(By.XPATH, '/html/body/div/section/main/div/div[2]/div[8]')\n",
    "            dimensions_btn.click()\n",
    "        \n",
    "            # Scrape the vessel information and store it in a dictionary\n",
    "            time.sleep(5)  # adjust this if necessary\n",
    "            vessel_info = driver.find_element(By.XPATH, '/html/body/div/section/main/div/div[2]/div[8]/div[2]/div/div/div').text\n",
    "            details_dict = {'Name': vessel_name}\n",
    "            dimension_values = driver.find_elements(By.XPATH, '/html/body/div/section/main/div/div[2]/div[8]/div[2]/div/div/div/div')\n",
    "            for dim_value in dimension_values:\n",
    "                dim_name, dim_val = dim_value.text.split(':')\n",
    "                dim_name = dim_name.strip()\n",
    "                dim_val = dim_val.strip()\n",
    "                if dim_name in fieldnames:\n",
    "                    details_dict[dim_name] = dim_val\n",
    "\n",
    "            # Write the details to the CSV file\n",
    "            writer.writerow(details_dict)\n",
    "\n",
    "# Close the webdriver\n",
    "driver.quit()\n"
   ]
  },
  {
   "cell_type": "code",
   "execution_count": null,
   "id": "8b91f53c",
   "metadata": {},
   "outputs": [],
   "source": []
  }
 ],
 "metadata": {
  "kernelspec": {
   "display_name": "Python 3 (ipykernel)",
   "language": "python",
   "name": "python3"
  },
  "language_info": {
   "codemirror_mode": {
    "name": "ipython",
    "version": 3
   },
   "file_extension": ".py",
   "mimetype": "text/x-python",
   "name": "python",
   "nbconvert_exporter": "python",
   "pygments_lexer": "ipython3",
   "version": "3.11.3"
  }
 },
 "nbformat": 4,
 "nbformat_minor": 5
}
