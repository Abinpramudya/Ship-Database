{
 "cells": [
  {
   "cell_type": "code",
   "execution_count": 21,
   "id": "06d01831",
   "metadata": {},
   "outputs": [],
   "source": [
    "import os\n",
    "import time\n",
    "import csv\n",
    "import re\n",
    "from selenium import webdriver\n",
    "from selenium.webdriver.common.by import By\n",
    "from selenium.webdriver.common.keys import Keys\n",
    "from selenium.webdriver.support import expected_conditions as EC\n",
    "from selenium.common.exceptions import NoSuchElementException\n",
    "from selenium.webdriver.chrome.options import Options\n",
    "from selenium.webdriver.common.action_chains import ActionChains\n",
    "from selenium.webdriver.support.ui import WebDriverWait"
   ]
  },
  {
   "cell_type": "code",
   "execution_count": 22,
   "id": "73824875",
   "metadata": {},
   "outputs": [],
   "source": [
    "#edit sesuai kebutuhan\n",
    "vessel_type = 'bulk carrier'\n",
    "filenum = '1'\n",
    "kelas = 'NK'"
   ]
  },
  {
   "cell_type": "code",
   "execution_count": 23,
   "id": "0888a025",
   "metadata": {},
   "outputs": [],
   "source": [
    "#directory file csv\n",
    "read_path = 'C:/Users/abinp/Documents/ITS/side projects/new/ship data scrapping/input/{}/split_{}.csv'.format(vessel_type,filenum)\n",
    "write_path = 'C:/Users/abinp/Documents/ITS/side projects/new/ship data scrapping/output/{}/{}/{}.csv'.format(kelas,vessel_type,filenum)"
   ]
  },
  {
   "cell_type": "code",
   "execution_count": 24,
   "id": "925b12be",
   "metadata": {},
   "outputs": [
    {
     "name": "stdout",
     "output_type": "stream",
     "text": [
      "CSV read file is not found\n",
      "exiting....\n",
      "CSV write file  is found, continuing...\n"
     ]
    }
   ],
   "source": [
    "# Check if input file exists\n",
    "if os.path.exists(read_path):\n",
    "    print(f\"CSV read file is found, continuing...\")\n",
    "else:\n",
    "    print(f\"CSV read file is not found\")\n",
    "    print('exiting....')\n",
    "    \n",
    "# Check if output file exists and create it if necessary\n",
    "if os.path.exists(write_path):\n",
    "    print(f\"CSV write file  is found, continuing...\")\n",
    "else:\n",
    "    print(f\"CSV write file is not found, creating one...\")\n",
    "    os.makedirs(os.path.dirname(write_path), exist_ok=True) # Create output directory if it doesn't exist\n",
    "    with open(write_path, 'w', newline='') as f:\n",
    "        writer = csv.writer(f)"
   ]
  },
  {
   "cell_type": "code",
   "execution_count": 25,
   "id": "971d6011",
   "metadata": {},
   "outputs": [],
   "source": [
    "def search(IMO):\n",
    "    driver.get(\"https://www.classnk.com/register/regships/regships.aspx\")\n",
    "\n",
    "    search_field = WebDriverWait(driver, 5).until(EC.visibility_of_element_located((By.XPATH, '/html/body/div[2]/div/div/div/div[3]/div/form/div[3]/table/tbody/tr[2]/td/input')))\n",
    "    search_field.send_keys(IMO)\n",
    "\n",
    "    search_button = driver.find_element(By.XPATH, '/html/body/div[2]/div/div/div/div[3]/div/form/div[3]/p/a[1]')\n",
    "    search_button.click()\n",
    "    \n",
    "    ship_button = WebDriverWait(driver, 5).until(EC.visibility_of_element_located((By.XPATH, '/html/body/div[2]/div/div/div/div[3]/div/div[1]/div[2]/h3/a')))\n",
    "    ship_button.click()"
   ]
  },
  {
   "cell_type": "code",
   "execution_count": 26,
   "id": "34f83233",
   "metadata": {},
   "outputs": [],
   "source": [
    "def newtab():\n",
    "    # Open a new tab with the desired URL\n",
    "    driver.execute_script(\"window.open('https://www.classnk.com/register/regships/one.aspx', '_blank');\")\n",
    "\n",
    "    # Switch to the new tab\n",
    "    time.sleep(3)\n",
    "    driver.switch_to.window(driver.window_handles[-1])"
   ]
  },
  {
   "cell_type": "code",
   "execution_count": 27,
   "id": "92b4de31",
   "metadata": {},
   "outputs": [],
   "source": [
    "def shipdata():\n",
    "    global LOA, LPP, B, H, T\n",
    "    global DWT, NT, GT, LT\n",
    "    global NAME, REGISTER, IMO, vessel_type\n",
    "    global link\n",
    "    \n",
    "    wait = WebDriverWait(driver, 10) # Maximum wait time of 10 seconds\n",
    "    \n",
    "    NAME = wait.until(EC.visibility_of_element_located((By.XPATH,'/html/body/div/div/div[1]/div[3]/table/tbody/tr[8]/td')))\n",
    "    REGISTER = wait.until(EC.visibility_of_element_located((By.XPATH,'/html/body/div/div/div[1]/div[3]/table/tbody/tr[2]/td')))\n",
    "    IMO = wait.until(EC.visibility_of_element_located((By.XPATH,'/html/body/div/div/div[1]/div[3]/table/tbody/tr[3]/td')))\n",
    "    vessel_type = wait.until(EC.visibility_of_element_located((By.XPATH,'/html/body/div/div/div[1]/div[3]/table/tbody/tr[25]/td')))\n",
    "    \n",
    "    #principal dimension\n",
    "    LOA = wait.until(EC.visibility_of_element_located((By.XPATH,'/html/body/div/div/div[1]/div[3]/table/tbody/tr[45]/td')))\n",
    "    T = wait.until(EC.visibility_of_element_located((By.XPATH,'/html/body/div/div/div[1]/div[3]/table/tbody/tr[40]/td')))\n",
    "    \n",
    "    dimensions = wait.until(EC.visibility_of_element_located((By.XPATH , '/html/body/div/div/div[1]/div[3]/table/tbody/tr[44]/td')))\n",
    "    overall = str(dimensions.text)    \n",
    "    split = overall.split('x')\n",
    "    LPP, B, H = split\n",
    "    \n",
    "    #ship tonnage\n",
    "    GT = wait.until(EC.visibility_of_element_located((By.XPATH,'/html/body/div/div/div[1]/div[3]/table/tbody/tr[31]/td')))\n",
    "    NT = wait.until(EC.visibility_of_element_located((By.XPATH,'/html/body/div/div/div[1]/div[3]/table/tbody/tr[32]/td')))\n",
    "    DWT = wait.until(EC.visibility_of_element_located((By.XPATH,'/html/body/div/div/div[1]/div[3]/table/tbody/tr[37]/td')))\n",
    "    \n",
    "    link = 'https://www.vesselfinder.com/vessels/details/{}'.format(IMO.text)\n",
    "    \n",
    "#     print variable names and value\n",
    "    print('NAME:', NAME.text)\n",
    "    print('REGISTER:', REGISTER.text)\n",
    "    print('IMO:', IMO.text)\n",
    "    print('VESSEL TYPE:', vessel_type.text)\n",
    "    print('LOA:', LOA.text)\n",
    "    print('LPP:', LPP)\n",
    "    print('T:', T.text)\n",
    "    print('B:', B)\n",
    "    print('H:', H)\n",
    "    print('GT:', GT.text)\n",
    "    print('NT:', NT.text)\n",
    "    print('DWT:', DWT.text)\n",
    "    print('LINK:', link)"
   ]
  },
  {
   "cell_type": "code",
   "execution_count": 28,
   "id": "35db2a28",
   "metadata": {},
   "outputs": [],
   "source": [
    "# Define the fieldnames for the CSV file\n",
    "fieldnames = ['NAME', 'REGISTER', 'IMO', 'TYPE', 'LOA', 'LPP', 'B', 'H', 'T',  'GT', 'NT', 'DWT', 'Link']"
   ]
  },
  {
   "cell_type": "code",
   "execution_count": 29,
   "id": "9303a453",
   "metadata": {},
   "outputs": [
    {
     "name": "stdout",
     "output_type": "stream",
     "text": [
      "NAME: LILA \n",
      "REGISTER: 032894\n",
      "IMO: 9278923\n",
      "VESSEL TYPE: Other than Oil Tanker\n",
      "LOA: 169.400 x 26.000 x 13.600 \n",
      "LPP: 169.400 \n",
      "T: 16.0 \n",
      "B:  26.000 \n",
      "H:  13.600 \n",
      "GT: -- \n",
      "NT: -- \n",
      "DWT: 4,020 \n",
      "LINK: https://www.vesselfinder.com/vessels/details/9278923\n",
      "yahalo\n"
     ]
    }
   ],
   "source": [
    "# Set up the webdriver\n",
    "driver = webdriver.Chrome()\n",
    "\n",
    "driver.get(\"https://www.classnk.com/register/regships/regships.aspx\")\n",
    "\n",
    "IMO = '9278923'\n",
    "search(IMO)\n",
    "newtab()\n",
    "shipdata()\n",
    "print('yahalo')"
   ]
  },
  {
   "cell_type": "code",
   "execution_count": 20,
   "id": "735a3eb3",
   "metadata": {},
   "outputs": [
    {
     "ename": "FileNotFoundError",
     "evalue": "[Errno 2] No such file or directory: 'C:/Users/abinp/Documents/ITS/side projects/new/ship data scrapping/input/bulk carrier/split_1.csv'",
     "output_type": "error",
     "traceback": [
      "\u001b[1;31m---------------------------------------------------------------------------\u001b[0m",
      "\u001b[1;31mFileNotFoundError\u001b[0m                         Traceback (most recent call last)",
      "Cell \u001b[1;32mIn[20], line 10\u001b[0m\n\u001b[0;32m      7\u001b[0m writer\u001b[38;5;241m.\u001b[39mwriteheader()\n\u001b[0;32m      9\u001b[0m \u001b[38;5;66;03m# Open the input file and loop through each vessel name\u001b[39;00m\n\u001b[1;32m---> 10\u001b[0m \u001b[38;5;28;01mwith\u001b[39;00m \u001b[38;5;28;43mopen\u001b[39;49m\u001b[43m(\u001b[49m\u001b[43mread_path\u001b[49m\u001b[43m,\u001b[49m\u001b[43m \u001b[49m\u001b[43mnewline\u001b[49m\u001b[38;5;241;43m=\u001b[39;49m\u001b[38;5;124;43m'\u001b[39;49m\u001b[38;5;124;43m'\u001b[39;49m\u001b[43m)\u001b[49m \u001b[38;5;28;01mas\u001b[39;00m csvfile:\n\u001b[0;32m     11\u001b[0m     reader \u001b[38;5;241m=\u001b[39m csv\u001b[38;5;241m.\u001b[39mreader(csvfile)        \n\u001b[0;32m     12\u001b[0m     \u001b[38;5;28;01mfor\u001b[39;00m row \u001b[38;5;129;01min\u001b[39;00m reader:\n",
      "File \u001b[1;32mc:\\users\\abinp\\appdata\\local\\programs\\python\\python38\\lib\\site-packages\\IPython\\core\\interactiveshell.py:284\u001b[0m, in \u001b[0;36m_modified_open\u001b[1;34m(file, *args, **kwargs)\u001b[0m\n\u001b[0;32m    277\u001b[0m \u001b[38;5;28;01mif\u001b[39;00m file \u001b[38;5;129;01min\u001b[39;00m {\u001b[38;5;241m0\u001b[39m, \u001b[38;5;241m1\u001b[39m, \u001b[38;5;241m2\u001b[39m}:\n\u001b[0;32m    278\u001b[0m     \u001b[38;5;28;01mraise\u001b[39;00m \u001b[38;5;167;01mValueError\u001b[39;00m(\n\u001b[0;32m    279\u001b[0m         \u001b[38;5;124mf\u001b[39m\u001b[38;5;124m\"\u001b[39m\u001b[38;5;124mIPython won\u001b[39m\u001b[38;5;124m'\u001b[39m\u001b[38;5;124mt let you open fd=\u001b[39m\u001b[38;5;132;01m{\u001b[39;00mfile\u001b[38;5;132;01m}\u001b[39;00m\u001b[38;5;124m by default \u001b[39m\u001b[38;5;124m\"\u001b[39m\n\u001b[0;32m    280\u001b[0m         \u001b[38;5;124m\"\u001b[39m\u001b[38;5;124mas it is likely to crash IPython. If you know what you are doing, \u001b[39m\u001b[38;5;124m\"\u001b[39m\n\u001b[0;32m    281\u001b[0m         \u001b[38;5;124m\"\u001b[39m\u001b[38;5;124myou can use builtins\u001b[39m\u001b[38;5;124m'\u001b[39m\u001b[38;5;124m open.\u001b[39m\u001b[38;5;124m\"\u001b[39m\n\u001b[0;32m    282\u001b[0m     )\n\u001b[1;32m--> 284\u001b[0m \u001b[38;5;28;01mreturn\u001b[39;00m \u001b[43mio_open\u001b[49m\u001b[43m(\u001b[49m\u001b[43mfile\u001b[49m\u001b[43m,\u001b[49m\u001b[43m \u001b[49m\u001b[38;5;241;43m*\u001b[39;49m\u001b[43margs\u001b[49m\u001b[43m,\u001b[49m\u001b[43m \u001b[49m\u001b[38;5;241;43m*\u001b[39;49m\u001b[38;5;241;43m*\u001b[39;49m\u001b[43mkwargs\u001b[49m\u001b[43m)\u001b[49m\n",
      "\u001b[1;31mFileNotFoundError\u001b[0m: [Errno 2] No such file or directory: 'C:/Users/abinp/Documents/ITS/side projects/new/ship data scrapping/input/bulk carrier/split_1.csv'"
     ]
    }
   ],
   "source": [
    "# Set up the webdriver\n",
    "driver = webdriver.Chrome()\n",
    "\n",
    "# Open the CSV file for writing\n",
    "with open(write_path, mode='w', newline='') as details_file:\n",
    "    writer = csv.DictWriter(details_file, fieldnames=fieldnames)\n",
    "    writer.writeheader()\n",
    "    \n",
    "    # Open the input file and loop through each vessel name\n",
    "    with open(read_path, newline='') as csvfile:\n",
    "        reader = csv.reader(csvfile)        \n",
    "        for row in reader:\n",
    "            IMO = row[0]\n",
    "            try:\n",
    "                search(IMO)\n",
    "                newtab()\n",
    "                shipdata()\n",
    "                print('ketemu IMO :',IMO.text)\n",
    "            except:\n",
    "                print('ga ketemu IMO :',IMO)\n",
    "                continue\n",
    "                \n",
    "                           \n",
    "            details_dict = {'NAME': NAME.text, 'REGISTER': REGISTER.text, 'IMO': IMO.text, 'TYPE':  vessel_type.text, 'LOA': LOA.text, 'LPP': LPP, 'B': B, 'H': H, 'T': T.text, 'GT': GT.text, 'NT': NT.text, 'DWT': DWT.text, 'Link': link}\n",
    "            writer.writerow(details_dict)\n"
   ]
  },
  {
   "cell_type": "code",
   "execution_count": null,
   "id": "d3a13efe",
   "metadata": {},
   "outputs": [],
   "source": [
    "# Set up the webdriver\n",
    "driver = webdriver.Chrome()\n",
    "\n",
    "driver.get(\"https://www.classnk.com/register/regships/regships.aspx\")\n",
    "\n",
    "IMO = '9317456'\n",
    "\n",
    "time.sleep(5)\n",
    "search_field = driver.find_element(By.XPATH, '/html/body/div[2]/div/div/div/div[3]/div/form/div[3]/table/tbody/tr[2]/td/input')\n",
    "search_field.send_keys(IMO)\n",
    "\n",
    "search_button = driver.find_element(By.XPATH, '/html/body/div[2]/div/div/div/div[3]/div/form/div[3]/p/a[1]')\n",
    "search_button.click()\n",
    "\n",
    "time.sleep(2)\n",
    "ship_button = driver.find_element(By.XPATH, '/html/body/div[2]/div/div/div/div[3]/div/div[1]/div[2]/h3/a')\n",
    "ship_button.click()\n",
    "\n",
    "# Open a new tab with the desired URL\n",
    "driver.execute_script(\"window.open('https://www.classnk.com/register/regships/one.aspx', '_blank');\")\n",
    "\n",
    "# Switch to the new tab\n",
    "driver.switch_to.window(driver.window_handles[-1])\n",
    "\n",
    "time.sleep(5)\n",
    "name = driver.find_element(By.XPATH, '/html/body/div/div/div[1]/div[3]/table/tbody/tr[8]/td')\n",
    "print(name.text)"
   ]
  }
 ],
 "metadata": {
  "kernelspec": {
   "display_name": "Python 3 (ipykernel)",
   "language": "python",
   "name": "python3"
  },
  "language_info": {
   "codemirror_mode": {
    "name": "ipython",
    "version": 3
   },
   "file_extension": ".py",
   "mimetype": "text/x-python",
   "name": "python",
   "nbconvert_exporter": "python",
   "pygments_lexer": "ipython3",
   "version": "3.8.0"
  }
 },
 "nbformat": 4,
 "nbformat_minor": 5
}
