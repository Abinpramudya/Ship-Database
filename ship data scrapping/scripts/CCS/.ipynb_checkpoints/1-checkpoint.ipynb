{
 "cells": [
  {
   "cell_type": "code",
   "execution_count": 16,
   "id": "a98d803c",
   "metadata": {},
   "outputs": [],
   "source": [
    "import os\n",
    "import time\n",
    "import csv\n",
    "import re\n",
    "from tqdm import tqdm\n",
    "from selenium import webdriver\n",
    "from selenium.webdriver.common.by import By\n",
    "from selenium.webdriver.common.keys import Keys\n",
    "from selenium.webdriver.support import expected_conditions as EC\n",
    "from selenium.common.exceptions import NoSuchElementException\n",
    "from selenium.webdriver.chrome.options import Options"
   ]
  },
  {
   "cell_type": "code",
   "execution_count": 17,
   "id": "51411bd3",
   "metadata": {},
   "outputs": [],
   "source": [
    "#edit sesuai kebutuhan\n",
    "vessel_type = 'bulk carrier'\n",
    "filenum = '2'\n",
    "kelas = 'CCS'"
   ]
  },
  {
   "cell_type": "code",
   "execution_count": 14,
   "id": "50e3ad78",
   "metadata": {},
   "outputs": [],
   "source": [
    "# Get the current working directory\n",
    "current_dir = os.getcwd()\n",
    "\n",
    "# Move up a couple of folders\n",
    "project_dir = os.path.abspath(os.path.join(current_dir, \"../../\"))\n",
    "\n",
    "# Directory file csv\n",
    "read_path = os.path.join(project_dir,\"input\", vessel_type,\"split_{}.csv\".format(filenum))\n",
    "write_path = os.path.join(project_dir,\"output\", kelas, vessel_type,\"{}.csv\".format(filenum))\n"
   ]
  },
  {
   "cell_type": "code",
   "execution_count": 15,
   "id": "b7c6859f",
   "metadata": {},
   "outputs": [
    {
     "name": "stdout",
     "output_type": "stream",
     "text": [
      "C:\\Users\\abinp\\Documents\\ITS\\side projects\\new\\ship data scrapping\\input\\bulk carrier\\split_2.csv\n"
     ]
    }
   ],
   "source": [
    "print(read_path)"
   ]
  },
  {
   "cell_type": "code",
   "execution_count": 12,
   "id": "057493fe",
   "metadata": {},
   "outputs": [
    {
     "name": "stdout",
     "output_type": "stream",
     "text": [
      "CSV read file is not found\n",
      "exiting....\n",
      "CSV write file is not found, creating one...\n"
     ]
    }
   ],
   "source": [
    "# Check if input file exists\n",
    "if os.path.exists(read_path):\n",
    "    print(f\"CSV read file is found, continuing...\")\n",
    "else:\n",
    "    print(f\"CSV read file is not found\")\n",
    "    print('exiting....')\n",
    "    \n",
    "    \n",
    "# Check if output file exists and create it if necessary\n",
    "if os.path.exists(write_path):\n",
    "    print(f\"CSV write file  is found, continuing...\")\n",
    "else:\n",
    "    print(f\"CSV write file is not found, creating one...\")\n",
    "    os.makedirs(os.path.dirname(write_path), exist_ok=True) # Create output directory if it doesn't exist\n",
    "    with open(write_path, 'w', newline='') as f:\n",
    "        writer = csv.writer(f)"
   ]
  },
  {
   "cell_type": "code",
   "execution_count": 24,
   "id": "c6861a08",
   "metadata": {},
   "outputs": [
    {
     "ename": "NoSuchWindowException",
     "evalue": "Message: no such window: target window already closed\nfrom unknown error: web view not found\n  (Session info: chrome=114.0.5735.199)\nStacktrace:\nBacktrace:\n\tGetHandleVerifier [0x0121A813+48355]\n\t(No symbol) [0x011AC4B1]\n\t(No symbol) [0x010B5358]\n\t(No symbol) [0x0109D293]\n\t(No symbol) [0x010FE37B]\n\t(No symbol) [0x0110C473]\n\t(No symbol) [0x010FA536]\n\t(No symbol) [0x010D82DC]\n\t(No symbol) [0x010D93DD]\n\tGetHandleVerifier [0x0147AABD+2539405]\n\tGetHandleVerifier [0x014BA78F+2800735]\n\tGetHandleVerifier [0x014B456C+2775612]\n\tGetHandleVerifier [0x012A51E0+616112]\n\t(No symbol) [0x011B5F8C]\n\t(No symbol) [0x011B2328]\n\t(No symbol) [0x011B240B]\n\t(No symbol) [0x011A4FF7]\n\tBaseThreadInitThunk [0x77217D59+25]\n\tRtlInitializeExceptionChain [0x77D5B74B+107]\n\tRtlClearBits [0x77D5B6CF+191]\n",
     "output_type": "error",
     "traceback": [
      "\u001b[1;31m---------------------------------------------------------------------------\u001b[0m",
      "\u001b[1;31mNoSuchWindowException\u001b[0m                     Traceback (most recent call last)",
      "Cell \u001b[1;32mIn[24], line 2\u001b[0m\n\u001b[0;32m      1\u001b[0m driver \u001b[38;5;241m=\u001b[39m webdriver\u001b[38;5;241m.\u001b[39mChrome(executable_path\u001b[38;5;241m=\u001b[39m\u001b[38;5;124mr\u001b[39m\u001b[38;5;124m\"\u001b[39m\u001b[38;5;124mchromedriver\u001b[39m\u001b[38;5;124m\"\u001b[39m)\n\u001b[1;32m----> 2\u001b[0m \u001b[43mdriver\u001b[49m\u001b[38;5;241;43m.\u001b[39;49m\u001b[43mget\u001b[49m\u001b[43m(\u001b[49m\u001b[38;5;124;43m\"\u001b[39;49m\u001b[38;5;124;43mhttps://www.ccs.org.cn/ccswzen/internationalShipsList?columnid=201900002000000123\u001b[39;49m\u001b[38;5;124;43m\"\u001b[39;49m\u001b[43m)\u001b[49m\n",
      "File \u001b[1;32m~\\AppData\\Local\\Programs\\Python\\Python311\\Lib\\site-packages\\selenium\\webdriver\\remote\\webdriver.py:449\u001b[0m, in \u001b[0;36mWebDriver.get\u001b[1;34m(self, url)\u001b[0m\n\u001b[0;32m    447\u001b[0m \u001b[38;5;28;01mdef\u001b[39;00m \u001b[38;5;21mget\u001b[39m(\u001b[38;5;28mself\u001b[39m, url: \u001b[38;5;28mstr\u001b[39m) \u001b[38;5;241m-\u001b[39m\u001b[38;5;241m>\u001b[39m \u001b[38;5;28;01mNone\u001b[39;00m:\n\u001b[0;32m    448\u001b[0m \u001b[38;5;250m    \u001b[39m\u001b[38;5;124;03m\"\"\"Loads a web page in the current browser session.\"\"\"\u001b[39;00m\n\u001b[1;32m--> 449\u001b[0m     \u001b[38;5;28;43mself\u001b[39;49m\u001b[38;5;241;43m.\u001b[39;49m\u001b[43mexecute\u001b[49m\u001b[43m(\u001b[49m\u001b[43mCommand\u001b[49m\u001b[38;5;241;43m.\u001b[39;49m\u001b[43mGET\u001b[49m\u001b[43m,\u001b[49m\u001b[43m \u001b[49m\u001b[43m{\u001b[49m\u001b[38;5;124;43m\"\u001b[39;49m\u001b[38;5;124;43murl\u001b[39;49m\u001b[38;5;124;43m\"\u001b[39;49m\u001b[43m:\u001b[49m\u001b[43m \u001b[49m\u001b[43murl\u001b[49m\u001b[43m}\u001b[49m\u001b[43m)\u001b[49m\n",
      "File \u001b[1;32m~\\AppData\\Local\\Programs\\Python\\Python311\\Lib\\site-packages\\selenium\\webdriver\\remote\\webdriver.py:440\u001b[0m, in \u001b[0;36mWebDriver.execute\u001b[1;34m(self, driver_command, params)\u001b[0m\n\u001b[0;32m    438\u001b[0m response \u001b[38;5;241m=\u001b[39m \u001b[38;5;28mself\u001b[39m\u001b[38;5;241m.\u001b[39mcommand_executor\u001b[38;5;241m.\u001b[39mexecute(driver_command, params)\n\u001b[0;32m    439\u001b[0m \u001b[38;5;28;01mif\u001b[39;00m response:\n\u001b[1;32m--> 440\u001b[0m     \u001b[38;5;28;43mself\u001b[39;49m\u001b[38;5;241;43m.\u001b[39;49m\u001b[43merror_handler\u001b[49m\u001b[38;5;241;43m.\u001b[39;49m\u001b[43mcheck_response\u001b[49m\u001b[43m(\u001b[49m\u001b[43mresponse\u001b[49m\u001b[43m)\u001b[49m\n\u001b[0;32m    441\u001b[0m     response[\u001b[38;5;124m\"\u001b[39m\u001b[38;5;124mvalue\u001b[39m\u001b[38;5;124m\"\u001b[39m] \u001b[38;5;241m=\u001b[39m \u001b[38;5;28mself\u001b[39m\u001b[38;5;241m.\u001b[39m_unwrap_value(response\u001b[38;5;241m.\u001b[39mget(\u001b[38;5;124m\"\u001b[39m\u001b[38;5;124mvalue\u001b[39m\u001b[38;5;124m\"\u001b[39m, \u001b[38;5;28;01mNone\u001b[39;00m))\n\u001b[0;32m    442\u001b[0m     \u001b[38;5;28;01mreturn\u001b[39;00m response\n",
      "File \u001b[1;32m~\\AppData\\Local\\Programs\\Python\\Python311\\Lib\\site-packages\\selenium\\webdriver\\remote\\errorhandler.py:245\u001b[0m, in \u001b[0;36mErrorHandler.check_response\u001b[1;34m(self, response)\u001b[0m\n\u001b[0;32m    243\u001b[0m         alert_text \u001b[38;5;241m=\u001b[39m value[\u001b[38;5;124m\"\u001b[39m\u001b[38;5;124malert\u001b[39m\u001b[38;5;124m\"\u001b[39m]\u001b[38;5;241m.\u001b[39mget(\u001b[38;5;124m\"\u001b[39m\u001b[38;5;124mtext\u001b[39m\u001b[38;5;124m\"\u001b[39m)\n\u001b[0;32m    244\u001b[0m     \u001b[38;5;28;01mraise\u001b[39;00m exception_class(message, screen, stacktrace, alert_text)  \u001b[38;5;66;03m# type: ignore[call-arg]  # mypy is not smart enough here\u001b[39;00m\n\u001b[1;32m--> 245\u001b[0m \u001b[38;5;28;01mraise\u001b[39;00m exception_class(message, screen, stacktrace)\n",
      "\u001b[1;31mNoSuchWindowException\u001b[0m: Message: no such window: target window already closed\nfrom unknown error: web view not found\n  (Session info: chrome=114.0.5735.199)\nStacktrace:\nBacktrace:\n\tGetHandleVerifier [0x0121A813+48355]\n\t(No symbol) [0x011AC4B1]\n\t(No symbol) [0x010B5358]\n\t(No symbol) [0x0109D293]\n\t(No symbol) [0x010FE37B]\n\t(No symbol) [0x0110C473]\n\t(No symbol) [0x010FA536]\n\t(No symbol) [0x010D82DC]\n\t(No symbol) [0x010D93DD]\n\tGetHandleVerifier [0x0147AABD+2539405]\n\tGetHandleVerifier [0x014BA78F+2800735]\n\tGetHandleVerifier [0x014B456C+2775612]\n\tGetHandleVerifier [0x012A51E0+616112]\n\t(No symbol) [0x011B5F8C]\n\t(No symbol) [0x011B2328]\n\t(No symbol) [0x011B240B]\n\t(No symbol) [0x011A4FF7]\n\tBaseThreadInitThunk [0x77217D59+25]\n\tRtlInitializeExceptionChain [0x77D5B74B+107]\n\tRtlClearBits [0x77D5B6CF+191]\n"
     ]
    }
   ],
   "source": [
    "driver = webdriver.Chrome(executable_path=r\"chromedriver\")\n",
    "driver.get(\"https://www.ccs.org.cn/ccswzen/internationalShipsList?columnid=201900002000000123\")"
   ]
  },
  {
   "cell_type": "code",
   "execution_count": null,
   "id": "da1c40dd",
   "metadata": {},
   "outputs": [],
   "source": [
    "def search(IMO):\n",
    "    link = 'https://www.ccs.org.cn/ccswzen/internationalShipsList?columnid=201900002000000123&imono={}'.format(IMO)\n",
    "    driver.get(link)\n",
    "    \n",
    "    search_button = driver.find_element(By.XPATH, '/html/body/div[4]/div[2]/div/div[1]/ul[3]/li[2]/input[1]')\n",
    "    search_button.click()\n",
    "\n",
    "    ship_button = driver.find_element(By.XPATH, '/html/body/div[4]/div[2]/div/div[2]/div[1]/table/tbody/tr/td[2]/button')\n",
    "    ship_button.click()\n",
    "\n",
    "    time.sleep(2)\n",
    "\n",
    "    iframe = driver.find_element(By.TAG_NAME, \"iframe\")\n",
    "    driver.switch_to.frame(iframe)\n"
   ]
  },
  {
   "cell_type": "code",
   "execution_count": null,
   "id": "27157582",
   "metadata": {},
   "outputs": [],
   "source": [
    "#data mining di website\n",
    "def shipdata():\n",
    "    global LOA , LPP , B , H , T\n",
    "    global DWT , NT , GT , LT\n",
    "    global NAME , REGISTER , IMO , vessel_type\n",
    "    global link\n",
    "    \n",
    "    \n",
    "    NAME = driver.find_element(By.XPATH,'/html/body/div/div/div/table/tbody/tr[2]/td[1]/span')\n",
    "    REGISTER = driver.find_element(By.XPATH,'/html/body/div/div/div/table/tbody/tr[1]/td[1]/span')\n",
    "    IMO = driver.find_element(By.XPATH,'/html/body/div/div/div/table/tbody/tr[3]/td[1]/span')\n",
    "    vessel_type = driver.find_element(By.XPATH,'/html/body/div/div/div/table/tbody/tr[6]/td[1]/span')\n",
    "    \n",
    "    #principal dimension\n",
    "    LOA = driver.find_element(By.XPATH,'/html/body/div/div/div/table/tbody/tr[8]/td[2]/span')\n",
    "    LPP = driver.find_element(By.XPATH,'/html/body/div/div/div/table/tbody/tr[9]/td[1]/span')\n",
    "    B = driver.find_element(By.XPATH,'/html/body/div/div/div/table/tbody/tr[9]/td[2]/span')\n",
    "    H = driver.find_element(By.XPATH,'/html/body/div/div/div/table/tbody/tr[10]/td[1]/span')\n",
    "    T = driver.find_element(By.XPATH,'/html/body/div/div/div/table/tbody/tr[11]/td[1]/span')\n",
    "    \n",
    "    #ship tonnage\n",
    "    GT = driver.find_element(By.XPATH,'/html/body/div/div/div/table/tbody/tr[7]/td[1]/span')\n",
    "    NT = driver.find_element(By.XPATH,'/html/body/div/div/div/table/tbody/tr[7]/td[2]/span')\n",
    "    DWT = driver.find_element(By.XPATH,'/html/body/div/div/div/table/tbody/tr[8]/td[1]/span')\n",
    "    \n",
    "    link = 'https://www.ccs.org.cn/ccswzen/internationalShipsList?columnid=201900002000000123&imono={}'.format(IMO.text)\n",
    "    \n",
    "    # print variable names and value\n",
    "\n",
    "\n"
   ]
  },
  {
   "cell_type": "code",
   "execution_count": 25,
   "id": "a219104a",
   "metadata": {},
   "outputs": [],
   "source": [
    "# Define the fieldnames for the CSV file\n",
    "fieldnames = ['NAME', 'REGISTER', 'IMO', 'TYPE', 'LOA', 'LPP', 'B', 'H', 'T',  'GT', 'NT', 'DWT', 'Link']"
   ]
  },
  {
   "cell_type": "code",
   "execution_count": 26,
   "id": "1b4268bb",
   "metadata": {},
   "outputs": [
    {
     "name": "stderr",
     "output_type": "stream",
     "text": [
      "Processing IMOs: 100%|██████████████████████████████████████████████| 999/999 [35:58<00:00,  2.16s/it, Ships Found =77]\n"
     ]
    },
    {
     "name": "stdout",
     "output_type": "stream",
     "text": [
      "Total Ships Found: 77\n"
     ]
    }
   ],
   "source": [
    "# Set up the webdriver\n",
    "driver = webdriver.Chrome()\n",
    "\n",
    "# Counters for ships found and total IMOs\n",
    "ship_count = 0\n",
    "total_imo = 0\n",
    "\n",
    "# Open the input file to get the total number of IMOs\n",
    "with open(read_path, newline='') as csvfile:\n",
    "    reader = csv.reader(csvfile)\n",
    "    total_imo = sum(1 for _ in reader)\n",
    "\n",
    "# Open the CSV file for writing\n",
    "with open(write_path, mode='w', newline='') as details_file:\n",
    "    writer = csv.DictWriter(details_file, fieldnames=fieldnames)\n",
    "    writer.writeheader()\n",
    "\n",
    "    # Create a progress bar\n",
    "    progress_bar = tqdm(total=total_imo, desc='Processing IMOs')\n",
    "\n",
    "    # Open the input file and loop through each vessel name\n",
    "    with open(read_path, newline='') as csvfile:\n",
    "        reader = csv.reader(csvfile)\n",
    "\n",
    "        for row in reader:\n",
    "            IMO = row[0]\n",
    "            progress_bar.update(1)\n",
    "            progress_bar.set_postfix({'Ships Found ': ship_count})\n",
    "            try:\n",
    "                search(IMO)\n",
    "\n",
    "                shipdata()\n",
    "                ship_count += 1\n",
    "            except:\n",
    "                continue\n",
    "\n",
    "            details_dict = {\n",
    "                'NAME': NAME.text, 'REGISTER': REGISTER.text, 'IMO': IMO.text,\n",
    "                'TYPE': vessel_type.text, 'LOA': LOA.text, 'LPP': LPP.text,\n",
    "                'B': B.text, 'H': H.text, 'T': T.text, 'GT': GT.text,\n",
    "                'NT': NT.text, 'DWT': DWT.text, 'Link': link\n",
    "            }\n",
    "            writer.writerow(details_dict)\n",
    "\n",
    "\n",
    "\n",
    "    # Close the progress bar\n",
    "    progress_bar.close()\n",
    "\n",
    "# Close the webdriver\n",
    "driver.quit()\n",
    "\n",
    "# Display the total number of ships found\n",
    "print('Total Ships Found:', ship_count)"
   ]
  },
  {
   "cell_type": "markdown",
   "id": "35e68a00",
   "metadata": {},
   "source": [
    "## testing cell"
   ]
  },
  {
   "cell_type": "code",
   "execution_count": 116,
   "id": "9aa01077",
   "metadata": {},
   "outputs": [
    {
     "name": "stdout",
     "output_type": "stream",
     "text": [
      "NAME: FU LONG\n",
      "REGISTER: 09X0135\n",
      "IMO: 9550735\n",
      "vessel_type: Bulk Carrier, Double Side Skin\n",
      "LOA: 96\n",
      "LPP: 89.8\n",
      "B: 16\n",
      "H: 16\n",
      "T: 16\n",
      "GT: 3,435\n",
      "NT: 1,704\n",
      "DWT: 5,230\n",
      "link: https://www.ccs.org.cn/ccswzen/internationalShipsList?columnid=201900002000000123&imono=9550735\n"
     ]
    }
   ],
   "source": [
    "# Set up the webdriver\n",
    "driver = webdriver.Chrome()\n",
    "\n",
    "driver.get(\"https://www.ccs.org.cn/ccswzen/internationalShipsList?columnid=201900002000000123\")\n",
    "\n",
    "IMO = '9550735'\n",
    "\n",
    "search(IMO)\n",
    "shipdata()\n",
    "\n"
   ]
  }
 ],
 "metadata": {
  "kernelspec": {
   "display_name": "Python 3 (ipykernel)",
   "language": "python",
   "name": "python3"
  },
  "language_info": {
   "codemirror_mode": {
    "name": "ipython",
    "version": 3
   },
   "file_extension": ".py",
   "mimetype": "text/x-python",
   "name": "python",
   "nbconvert_exporter": "python",
   "pygments_lexer": "ipython3",
   "version": "3.11.3"
  }
 },
 "nbformat": 4,
 "nbformat_minor": 5
}
