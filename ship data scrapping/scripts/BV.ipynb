{
 "cells": [
  {
   "cell_type": "code",
   "execution_count": 1,
   "id": "20c14e7a",
   "metadata": {},
   "outputs": [],
   "source": [
    "import os\n",
    "import time\n",
    "import csv\n",
    "import re\n",
    "from selenium import webdriver\n",
    "from selenium.webdriver.common.by import By\n",
    "from selenium.webdriver.common.keys import Keys\n",
    "from selenium.webdriver.support import expected_conditions as EC\n",
    "from selenium.common.exceptions import NoSuchElementException\n",
    "from selenium.webdriver.chrome.options import Options\n",
    "from selenium.webdriver.support.ui import WebDriverWait\n",
    "from selenium.webdriver.common.action_chains import ActionChains"
   ]
  },
  {
   "cell_type": "code",
   "execution_count": 2,
   "id": "7d1e726c",
   "metadata": {},
   "outputs": [],
   "source": [
    "#edit sesuai kebutuhan\n",
    "vessel_type = 'bulk carrier'\n",
    "filenum = '1'\n",
    "kelas = 'BV'"
   ]
  },
  {
   "cell_type": "code",
   "execution_count": 3,
   "id": "f396cef8",
   "metadata": {},
   "outputs": [],
   "source": [
    "#directory file csv\n",
    "read_path = 'C:/Users/abinp/Documents/ITS/side projects/new/ship data scrapping/input/{}/split_{}.csv'.format(vessel_type,filenum)\n",
    "write_path = 'C:/Users/abinp/Documents/ITS/side projects/new/ship data scrapping/output/{}/{}/{}.csv'.format(kelas,vessel_type,filenum)"
   ]
  },
  {
   "cell_type": "code",
   "execution_count": 4,
   "id": "7e83200d",
   "metadata": {},
   "outputs": [
    {
     "name": "stdout",
     "output_type": "stream",
     "text": [
      "CSV read file is not found\n",
      "exiting....\n",
      "CSV write file  is found, continuing...\n"
     ]
    }
   ],
   "source": [
    "# Check if input file exists\n",
    "if os.path.exists(read_path):\n",
    "    print(f\"CSV read file is found, continuing...\")\n",
    "else:\n",
    "    print(f\"CSV read file is not found\")\n",
    "    print('exiting....')\n",
    "    \n",
    "# Check if output file exists and create it if necessary\n",
    "if os.path.exists(write_path):\n",
    "    print(f\"CSV write file  is found, continuing...\")\n",
    "else:\n",
    "    print(f\"CSV write file is not found, creating one...\")\n",
    "    os.makedirs(os.path.dirname(write_path), exist_ok=True) # Create output directory if it doesn't exist\n",
    "    with open(write_path, 'w', newline='') as f:\n",
    "        writer = csv.writer(f)"
   ]
  },
  {
   "cell_type": "code",
   "execution_count": 5,
   "id": "bdae249c",
   "metadata": {},
   "outputs": [],
   "source": [
    "def search(IMO):\n",
    "    driver.get(\"https://marine-offshore.bureauveritas.com/bv-fleet/#/bv-fleet/\")\n",
    "\n",
    "    try:\n",
    "        #cookie button\n",
    "        cookie_button = WebDriverWait(driver, 10).until(EC.presence_of_element_located((By.XPATH, '/html/body/div[1]/div/div/div[2]/div[3]/div[1]/button[1]')))\n",
    "        actions = ActionChains(driver)\n",
    "        actions.move_to_element(cookie_button)\n",
    "        actions.click().perform()\n",
    "    except:\n",
    "        pass\n",
    "\n",
    "    #search bar\n",
    "    search_field = WebDriverWait(driver, 10).until(EC.presence_of_element_located((By.XPATH, '/html/body/div[2]/div/main/div/div/div[2]/div/app-root/div/app-ship-basic-search/div/div/form/fieldset/div[1]/div/div/div[1]/input')))\n",
    "    search_field.send_keys(IMO)\n",
    "\n",
    "    # search button\n",
    "    search_button = WebDriverWait(driver, 10).until(EC.presence_of_element_located((By.XPATH, '/html/body/div[2]/div/main/div/div/div[2]/div/app-root/div/app-ship-basic-search/div/div/form/fieldset/div[2]/div[1]/div/button')))\n",
    "    actions = ActionChains(driver)\n",
    "    actions.move_to_element(search_button)\n",
    "    actions.click().perform()\n",
    "\n",
    "    #ships button\n",
    "    ship_button = WebDriverWait(driver, 10).until(EC.presence_of_element_located((By.XPATH, '/html/body/div[2]/div/main/div/div/div[2]/div/app-root/div/app-ship-basic-search/div/div/div[2]/ul/li/div/div[1]/a[1]')))\n",
    "    actions = ActionChains(driver)\n",
    "    actions.move_to_element(ship_button)\n",
    "    actions.click().perform()\n"
   ]
  },
  {
   "cell_type": "code",
   "execution_count": 6,
   "id": "0e069f24",
   "metadata": {},
   "outputs": [],
   "source": [
    "def shipdata():\n",
    "    global LOA , LPP , B , H , T\n",
    "    global DWT , NT , GT , LT\n",
    "    global NAME , REGISTER , IMO , vessel_type\n",
    "    global link\n",
    "    \n",
    "    time.sleep(3)\n",
    "    \n",
    "    NAME = driver.find_element(By.XPATH,'/html/body/app-popup/div/div[2]/div[2]/app-ship-details/div/div/table[1]/tbody/tr[6]/td[2]')\n",
    "    REGISTER = driver.find_element(By.XPATH,'/html/body/app-popup/div/div[2]/div[2]/app-ship-details/div/div/table[1]/tbody/tr[2]/td[2]')\n",
    "    IMO = driver.find_element(By.XPATH,'/html/body/app-popup/div/div[2]/div[2]/app-ship-details/div/div/table[1]/tbody/tr[4]/td[2]')\n",
    "    vessel_type = driver.find_element(By.XPATH,'/html/body/app-popup/div/div[2]/div[2]/app-ship-details/div/div/table[1]/tbody/tr[10]/td[2]')\n",
    "    \n",
    "    #principal dimension\n",
    "    LOA = driver.find_element(By.XPATH,'/html/body/app-popup/div/div[2]/div[2]/app-ship-details/div/div/table[3]/tbody/tr[8]/td[2]')\n",
    "    LPP = driver.find_element(By.XPATH,'/html/body/app-popup/div/div[2]/div[2]/app-ship-details/div/div/table[3]/tbody/tr[10]/td[2]')\n",
    "    B = driver.find_element(By.XPATH,'/html/body/app-popup/div/div[2]/div[2]/app-ship-details/div/div/table[3]/tbody/tr[12]/td[2]')\n",
    "    H = driver.find_element(By.XPATH,'/html/body/app-popup/div/div[2]/div[2]/app-ship-details/div/div/table[3]/tbody/tr[14]/td[2]')\n",
    "    T = driver.find_element(By.XPATH,'/html/body/app-popup/div/div[2]/div[2]/app-ship-details/div/div/table[3]/tbody/tr[16]/td[2]')\n",
    "    \n",
    "    #ship tonnage\n",
    "    GT = driver.find_element(By.XPATH,'/html/body/app-popup/div/div[2]/div[2]/app-ship-details/div/div/table[3]/tbody/tr[2]/td[2]')\n",
    "    NT = driver.find_element(By.XPATH,'/html/body/app-popup/div/div[2]/div[2]/app-ship-details/div/div/table[3]/tbody/tr[4]/td[2]')\n",
    "    DWT = driver.find_element(By.XPATH,'/html/body/app-popup/div/div[2]/div[2]/app-ship-details/div/div/table[3]/tbody/tr[6]/td[2]')\n",
    "    \n",
    "    link = 'https://www.vesselfinder.com/vessels/details/{}'.format(IMO.text)\n",
    "    \n",
    "    \n",
    "    # Print all the variables\n",
    "    print(\"NAME:\", NAME.text)\n",
    "    print(\"REGISTER:\", REGISTER.text)\n",
    "    print(\"IMO:\", IMO.text)\n",
    "    print(\"vessel_type:\", vessel_type.text)\n",
    "    print(\"LOA:\", LOA.text)\n",
    "    print(\"LPP:\", LPP.text)\n",
    "    print(\"B:\", B.text)\n",
    "    print(\"H:\", H.text)\n",
    "    print(\"T:\", T.text)\n",
    "    print(\"GT:\", GT.text)\n",
    "    print(\"NT:\", NT.text)\n",
    "    print(\"DWT:\", DWT.text)\n",
    "    print(\"link:\", link)"
   ]
  },
  {
   "cell_type": "code",
   "execution_count": 7,
   "id": "491e2794",
   "metadata": {},
   "outputs": [
    {
     "ename": "TimeoutException",
     "evalue": "Message: \nStacktrace:\nBacktrace:\n\tGetHandleVerifier [0x0066A813+48355]\n\t(No symbol) [0x005FC4B1]\n\t(No symbol) [0x00505358]\n\t(No symbol) [0x005309A5]\n\t(No symbol) [0x00530B3B]\n\t(No symbol) [0x0055E232]\n\t(No symbol) [0x0054A784]\n\t(No symbol) [0x0055C922]\n\t(No symbol) [0x0054A536]\n\t(No symbol) [0x005282DC]\n\t(No symbol) [0x005293DD]\n\tGetHandleVerifier [0x008CAABD+2539405]\n\tGetHandleVerifier [0x0090A78F+2800735]\n\tGetHandleVerifier [0x0090456C+2775612]\n\tGetHandleVerifier [0x006F51E0+616112]\n\t(No symbol) [0x00605F8C]\n\t(No symbol) [0x00602328]\n\t(No symbol) [0x0060240B]\n\t(No symbol) [0x005F4FF7]\n\tBaseThreadInitThunk [0x75D27D59+25]\n\tRtlInitializeExceptionChain [0x7749B79B+107]\n\tRtlClearBits [0x7749B71F+191]\n",
     "output_type": "error",
     "traceback": [
      "\u001b[1;31m---------------------------------------------------------------------------\u001b[0m",
      "\u001b[1;31mTimeoutException\u001b[0m                          Traceback (most recent call last)",
      "Cell \u001b[1;32mIn[7], line 7\u001b[0m\n\u001b[0;32m      2\u001b[0m driver \u001b[38;5;241m=\u001b[39m webdriver\u001b[38;5;241m.\u001b[39mChrome()\n\u001b[0;32m      5\u001b[0m IMO \u001b[38;5;241m=\u001b[39m \u001b[38;5;124m'\u001b[39m\u001b[38;5;124m9116694\u001b[39m\u001b[38;5;124m'\u001b[39m\n\u001b[1;32m----> 7\u001b[0m \u001b[43msearch\u001b[49m\u001b[43m(\u001b[49m\u001b[43mIMO\u001b[49m\u001b[43m)\u001b[49m\n\u001b[0;32m      8\u001b[0m shipdata()\n",
      "Cell \u001b[1;32mIn[5], line 24\u001b[0m, in \u001b[0;36msearch\u001b[1;34m(IMO)\u001b[0m\n\u001b[0;32m     21\u001b[0m actions\u001b[38;5;241m.\u001b[39mclick()\u001b[38;5;241m.\u001b[39mperform()\n\u001b[0;32m     23\u001b[0m \u001b[38;5;66;03m#ships button\u001b[39;00m\n\u001b[1;32m---> 24\u001b[0m ship_button \u001b[38;5;241m=\u001b[39m \u001b[43mWebDriverWait\u001b[49m\u001b[43m(\u001b[49m\u001b[43mdriver\u001b[49m\u001b[43m,\u001b[49m\u001b[43m \u001b[49m\u001b[38;5;241;43m10\u001b[39;49m\u001b[43m)\u001b[49m\u001b[38;5;241;43m.\u001b[39;49m\u001b[43muntil\u001b[49m\u001b[43m(\u001b[49m\u001b[43mEC\u001b[49m\u001b[38;5;241;43m.\u001b[39;49m\u001b[43mpresence_of_element_located\u001b[49m\u001b[43m(\u001b[49m\u001b[43m(\u001b[49m\u001b[43mBy\u001b[49m\u001b[38;5;241;43m.\u001b[39;49m\u001b[43mXPATH\u001b[49m\u001b[43m,\u001b[49m\u001b[43m \u001b[49m\u001b[38;5;124;43m'\u001b[39;49m\u001b[38;5;124;43m/html/body/div[2]/div/main/div/div/div[2]/div/app-root/div/app-ship-basic-search/div/div/div[2]/ul/li/div/div[1]/a[1]\u001b[39;49m\u001b[38;5;124;43m'\u001b[39;49m\u001b[43m)\u001b[49m\u001b[43m)\u001b[49m\u001b[43m)\u001b[49m\n\u001b[0;32m     25\u001b[0m actions \u001b[38;5;241m=\u001b[39m ActionChains(driver)\n\u001b[0;32m     26\u001b[0m actions\u001b[38;5;241m.\u001b[39mmove_to_element(ship_button)\n",
      "File \u001b[1;32mc:\\users\\abinp\\appdata\\local\\programs\\python\\python38\\lib\\site-packages\\selenium\\webdriver\\support\\wait.py:95\u001b[0m, in \u001b[0;36mWebDriverWait.until\u001b[1;34m(self, method, message)\u001b[0m\n\u001b[0;32m     93\u001b[0m     \u001b[38;5;28;01mif\u001b[39;00m time\u001b[38;5;241m.\u001b[39mmonotonic() \u001b[38;5;241m>\u001b[39m end_time:\n\u001b[0;32m     94\u001b[0m         \u001b[38;5;28;01mbreak\u001b[39;00m\n\u001b[1;32m---> 95\u001b[0m \u001b[38;5;28;01mraise\u001b[39;00m TimeoutException(message, screen, stacktrace)\n",
      "\u001b[1;31mTimeoutException\u001b[0m: Message: \nStacktrace:\nBacktrace:\n\tGetHandleVerifier [0x0066A813+48355]\n\t(No symbol) [0x005FC4B1]\n\t(No symbol) [0x00505358]\n\t(No symbol) [0x005309A5]\n\t(No symbol) [0x00530B3B]\n\t(No symbol) [0x0055E232]\n\t(No symbol) [0x0054A784]\n\t(No symbol) [0x0055C922]\n\t(No symbol) [0x0054A536]\n\t(No symbol) [0x005282DC]\n\t(No symbol) [0x005293DD]\n\tGetHandleVerifier [0x008CAABD+2539405]\n\tGetHandleVerifier [0x0090A78F+2800735]\n\tGetHandleVerifier [0x0090456C+2775612]\n\tGetHandleVerifier [0x006F51E0+616112]\n\t(No symbol) [0x00605F8C]\n\t(No symbol) [0x00602328]\n\t(No symbol) [0x0060240B]\n\t(No symbol) [0x005F4FF7]\n\tBaseThreadInitThunk [0x75D27D59+25]\n\tRtlInitializeExceptionChain [0x7749B79B+107]\n\tRtlClearBits [0x7749B71F+191]\n"
     ]
    }
   ],
   "source": [
    "# Set up the webdriver\n",
    "driver = webdriver.Chrome()\n",
    "\n",
    "\n",
    "IMO = '9116694'\n",
    "\n",
    "search(IMO)\n",
    "shipdata()"
   ]
  },
  {
   "cell_type": "code",
   "execution_count": 7,
   "id": "8fa9b190",
   "metadata": {},
   "outputs": [],
   "source": [
    "# Define the fieldnames for the CSV file\n",
    "fieldnames = ['NAME', 'REGISTER', 'IMO', 'TYPE', 'LOA', 'LPP', 'B', 'H', 'T',  'GT', 'NT', 'DWT', 'Link']"
   ]
  },
  {
   "cell_type": "code",
   "execution_count": 9,
   "id": "e34ee683",
   "metadata": {},
   "outputs": [],
   "source": [
    "# Set up the webdriver\n",
    "driver = webdriver.Chrome()\n",
    "\n",
    "# Open the CSV file for writing\n",
    "with open(write_path, mode='w', newline='') as details_file:\n",
    "    writer = csv.DictWriter(details_file, fieldnames=fieldnames)\n",
    "    writer.writeheader()\n",
    "    \n",
    "    # Open the input file and loop through each vessel name\n",
    "    with open(read_path, newline='') as csvfile:\n",
    "        reader = csv.reader(csvfile)        \n",
    "        for row in reader:\n",
    "            IMO = row[0]\n",
    "            try:\n",
    "                search(IMO)\n",
    "                shipdata()\n",
    "            except:\n",
    "                continue\n",
    "                \n",
    "                           \n",
    "            details_dict = {'NAME': NAME.text, 'REGISTER': REGISTER.text, 'IMO': IMO.text, 'TYPE':  vessel_type.text, 'LOA': LOA.text, 'LPP': LPP.text, 'B': B.text, 'H': H.text, 'T': T.text, 'GT': GT.text, 'NT': NT.text, 'DWT': DWT.text, 'Link': link}\n",
    "            writer.writerow(details_dict)\n",
    "            print('ketemu IMO :',IMO.text)\n",
    "            "
   ]
  },
  {
   "cell_type": "code",
   "execution_count": null,
   "id": "9909c10a",
   "metadata": {},
   "outputs": [],
   "source": []
  }
 ],
 "metadata": {
  "kernelspec": {
   "display_name": "Python 3 (ipykernel)",
   "language": "python",
   "name": "python3"
  },
  "language_info": {
   "codemirror_mode": {
    "name": "ipython",
    "version": 3
   },
   "file_extension": ".py",
   "mimetype": "text/x-python",
   "name": "python",
   "nbconvert_exporter": "python",
   "pygments_lexer": "ipython3",
   "version": "3.10.9"
  }
 },
 "nbformat": 4,
 "nbformat_minor": 5
}
