{
 "cells": [
  {
   "cell_type": "code",
   "execution_count": 13,
   "id": "a65fb980",
   "metadata": {},
   "outputs": [],
   "source": [
    "import pandas as pd\n",
    "import os\n",
    "import yaml"
   ]
  },
  {
   "cell_type": "code",
   "execution_count": 14,
   "id": "9bfa9b22",
   "metadata": {},
   "outputs": [],
   "source": [
    "# Get the current working directory\n",
    "cwd = os.getcwd()\n",
    "project_dir = os.path.abspath(os.path.join(cwd, \"../\"))"
   ]
  },
  {
   "cell_type": "code",
   "execution_count": 15,
   "id": "5a1b4e7d",
   "metadata": {},
   "outputs": [],
   "source": [
    "# Construct the file and directory paths\n",
    "config = os.path.join(cwd, 'data config.yaml')\n",
    "write_path = os.path.join(cwd, 'output')"
   ]
  },
  {
   "cell_type": "code",
   "execution_count": 16,
   "id": "3b83ef67",
   "metadata": {},
   "outputs": [
    {
     "name": "stdout",
     "output_type": "stream",
     "text": [
      "bv\n"
     ]
    }
   ],
   "source": [
    "#config file read\n",
    "with open(config, 'r') as config_file:\n",
    "    config = yaml.safe_load(config_file)\n",
    "\n",
    "vessel_type = config['vessel_type']\n",
    "class_type = config['class']\n",
    "print(class_type)"
   ]
  },
  {
   "cell_type": "code",
   "execution_count": 17,
   "id": "c22779fe",
   "metadata": {},
   "outputs": [
    {
     "name": "stdout",
     "output_type": "stream",
     "text": [
      "read: C:\\Users\\abinp\\Documents\\ITS\\side projects\\new\\Data process/output/bv\\container.csv\n",
      "write: C:\\Users\\abinp\\Documents\\ITS\\side projects\\new\\imo scrapping/output\\container.csv\n"
     ]
    }
   ],
   "source": [
    "# Directory file csv\n",
    "read_path = os.path.join(project_dir,\"Data process/output/\",class_type,\"{}.csv\".format(vessel_type))\n",
    "write_path= os.path.join(project_dir,\"imo scrapping/output\",\"{}.csv\".format(vessel_type))\n",
    "\n",
    "print(\"read:\",read_path) #hasil scrapping\n",
    "print(\"write:\",write_path) #pure imo"
   ]
  },
  {
   "cell_type": "code",
   "execution_count": 18,
   "id": "2b04ae33",
   "metadata": {},
   "outputs": [
    {
     "ename": "NameError",
     "evalue": "name 'csv' is not defined",
     "output_type": "error",
     "traceback": [
      "\u001b[1;31m---------------------------------------------------------------------------\u001b[0m",
      "\u001b[1;31mNameError\u001b[0m                                 Traceback (most recent call last)",
      "Cell \u001b[1;32mIn[18], line 4\u001b[0m\n\u001b[0;32m      2\u001b[0m imo_list_read \u001b[38;5;241m=\u001b[39m []\n\u001b[0;32m      3\u001b[0m \u001b[38;5;28;01mwith\u001b[39;00m \u001b[38;5;28mopen\u001b[39m(read_path, \u001b[38;5;124m'\u001b[39m\u001b[38;5;124mr\u001b[39m\u001b[38;5;124m'\u001b[39m, newline\u001b[38;5;241m=\u001b[39m\u001b[38;5;124m'\u001b[39m\u001b[38;5;124m'\u001b[39m) \u001b[38;5;28;01mas\u001b[39;00m infile:\n\u001b[1;32m----> 4\u001b[0m     reader \u001b[38;5;241m=\u001b[39m \u001b[43mcsv\u001b[49m\u001b[38;5;241m.\u001b[39mDictReader(infile)\n\u001b[0;32m      5\u001b[0m     \u001b[38;5;28;01mfor\u001b[39;00m row \u001b[38;5;129;01min\u001b[39;00m reader:\n\u001b[0;32m      6\u001b[0m         imo_list_read\u001b[38;5;241m.\u001b[39mappend(row[\u001b[38;5;124m'\u001b[39m\u001b[38;5;124mIMO\u001b[39m\u001b[38;5;124m'\u001b[39m])\n",
      "\u001b[1;31mNameError\u001b[0m: name 'csv' is not defined"
     ]
    }
   ],
   "source": [
    "# Read the file on the read path and retrieve the IMO numbers\n",
    "imo_list_read = []\n",
    "with open(read_path, 'r', newline='') as infile:\n",
    "    reader = csv.DictReader(infile)\n",
    "    for row in reader:\n",
    "        imo_list_read.append(row['IMO'])\n",
    "\n",
    "# Read the file on the write path and remove similar IMO numbers\n",
    "imo_list_write = []\n",
    "with open(write_path, 'r', newline='') as infile:\n",
    "    reader = csv.reader(infile)\n",
    "    for row in reader:\n",
    "        imo_number = row[0]\n",
    "        if imo_number not in imo_list_read:\n",
    "            imo_list_write.append(imo_number)\n",
    "\n",
    "# Write the updated file with no similar IMO numbers and no empty lines\n",
    "with open(write_path, 'w', newline='') as outfile:\n",
    "    writer = csv.writer(outfile)\n",
    "    for imo_number in imo_list_write:\n",
    "        writer.writerow([imo_number])\n",
    "\n",
    "# Report the amount of IMO before and after the process\n",
    "before_count = len(imo_list_write) + len(imo_list_read)\n",
    "similar_count = len(imo_list_write)\n",
    "after_count = len(imo_list_read)\n",
    "\n",
    "print('vessel type :',vessel_type,'| class society :',class_type)\n",
    "print(\"Amount of IMO before comparison:\", before_count)\n",
    "print(\"Amount of similar IMO:\", after_count)\n",
    "print(\"Amount of IMO after the process:\", similar_count)"
   ]
  },
  {
   "cell_type": "code",
   "execution_count": null,
   "id": "a92fc322",
   "metadata": {},
   "outputs": [],
   "source": []
  }
 ],
 "metadata": {
  "kernelspec": {
   "display_name": "Python 3 (ipykernel)",
   "language": "python",
   "name": "python3"
  },
  "language_info": {
   "codemirror_mode": {
    "name": "ipython",
    "version": 3
   },
   "file_extension": ".py",
   "mimetype": "text/x-python",
   "name": "python",
   "nbconvert_exporter": "python",
   "pygments_lexer": "ipython3",
   "version": "3.8.0"
  }
 },
 "nbformat": 4,
 "nbformat_minor": 5
}
