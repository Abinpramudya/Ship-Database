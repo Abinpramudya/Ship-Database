{
 "cells": [
  {
   "cell_type": "code",
   "execution_count": 24,
   "id": "1560b123",
   "metadata": {},
   "outputs": [],
   "source": [
    "import os\n",
    "import time\n",
    "import csv\n",
    "from selenium import webdriver\n",
    "from selenium.webdriver.common.by import By\n",
    "from selenium.webdriver.common.keys import Keys"
   ]
  },
  {
   "cell_type": "code",
   "execution_count": 25,
   "id": "725c5566",
   "metadata": {},
   "outputs": [],
   "source": [
    "#edit sesuai kebutuhan\n",
    "vessel_type = 'bulk carrier'\n",
    "filenum = '1'\n",
    "kelas = 'DNV'"
   ]
  },
  {
   "cell_type": "code",
   "execution_count": 26,
   "id": "c1515fa1",
   "metadata": {},
   "outputs": [],
   "source": [
    "#directory file csv\n",
    "read_path = 'C:/Users/abinp/Documents/ITS/side projects/new/ship data scrapping/input/{}/split_{}.csv'.format(vessel_type,filenum)\n",
    "write_path = 'C:/Users/abinp/Documents/ITS/side projects/new/ship data scrapping/output/{}/{}/{}.csv'.format(kelas,vessel_type,filenum)"
   ]
  },
  {
   "cell_type": "code",
   "execution_count": 27,
   "id": "a3b753db",
   "metadata": {},
   "outputs": [
    {
     "name": "stdout",
     "output_type": "stream",
     "text": [
      "CSV read file 'C:/Users/abinp/Documents/ITS/side projects/new/ship data scrapping/input/bulk carrier/split_1.csv' is found, continuing...\n",
      "CSV write file 'C:/Users/abinp/Documents/ITS/side projects/new/ship data scrapping/output/bulk carrier/1.csv' is not found, creating one...\n"
     ]
    }
   ],
   "source": [
    "# Check if input file exists\n",
    "if os.path.exists(read_path):\n",
    "    print(f\"CSV read file '{read_path}' is found, continuing...\")\n",
    "else:\n",
    "    print(f\"CSV read file '{read_path}' is not found\")\n",
    "\n",
    "# Check if output file exists and create it if necessary\n",
    "if os.path.exists(write_path):\n",
    "    print(f\"CSV write file '{write_path}' is found, continuing...\")\n",
    "else:\n",
    "    print(f\"CSV write file '{write_path}' is not found, creating one...\")\n",
    "    os.makedirs(os.path.dirname(write_path), exist_ok=True) # Create output directory if it doesn't exist\n",
    "    with open(write_path, 'w', newline='') as f:\n",
    "        writer = csv.writer(f)"
   ]
  },
  {
   "cell_type": "code",
   "execution_count": 28,
   "id": "354006ce",
   "metadata": {},
   "outputs": [],
   "source": [
    "driver = webdriver.Chrome(executable_path=r\"chromedriver\")\n",
    "driver.get(\"https://vesselregister.dnv.com/vesselregister/\")"
   ]
  },
  {
   "cell_type": "code",
   "execution_count": 37,
   "id": "9d3b0b31",
   "metadata": {},
   "outputs": [
    {
     "name": "stdout",
     "output_type": "stream",
     "text": [
      "vessel found on IMO : 9486300\n",
      "vessel found on IMO : 9468619\n",
      "vessel found on IMO : 9524815\n"
     ]
    }
   ],
   "source": [
    "# Set up the webdriver\n",
    "driver = webdriver.Chrome()\n",
    "\n",
    "# Define the fieldnames for the CSV file\n",
    "fieldnames = ['Name', 'Loa', 'Lbp', 'Lload', 'Bext', 'B', 'D', 'Draught', 'GT (ITC 69)', 'NT (ITC 69)', 'DWT', 'GT (PRE 69)', 'Freeboard']\n",
    "\n",
    "# Open the CSV file for writing\n",
    "with open(write_path, mode='w', newline='') as details_file:\n",
    "    writer = csv.DictWriter(details_file, fieldnames=fieldnames)\n",
    "    writer.writeheader()\n",
    "\n",
    "    # Open the input file and loop through each vessel name\n",
    "    with open(read_path, newline='') as csvfile:\n",
    "        reader = csv.reader(csvfile)\n",
    "        next(reader)  # skip the first row (header)\n",
    "        for row in reader:\n",
    "            vessel_name = row[0]\n",
    "            driver.get('https://vesselregister.dnv.com/vesselregister/')\n",
    "\n",
    "            # Input the vessel name into the search field and press enter\n",
    "            search_field = driver.find_element(By.CLASS_NAME, 'ant-input.search-field')\n",
    "            search_field.send_keys(vessel_name)\n",
    "            search_field.send_keys(Keys.RETURN)\n",
    "\n",
    "            # Wait for the search results to load and click on the first vessel\n",
    "            time.sleep(2)  # adjust this if necessary\n",
    "            try:\n",
    "                first_vessel = driver.find_element(By.XPATH, '/html/body/div[1]/section/main/div/div[3]/div[2]/div/div/div/div/div/table/tbody/tr[2]/td[1]/a')\n",
    "                first_vessel.click()\n",
    "                csvfile = open(read_path, 'r') # Re-open the input file in read mode\n",
    "                lines = csvfile.readlines() # Read all the lines in the file\n",
    "                csvfile.close()\n",
    "                csvfile = open(read_path, 'w') # Re-open the input file in write mode\n",
    "                csvfile.writelines(lines[1:]) # Write all the lines except the first line\n",
    "                csvfile.close()\n",
    "                print(f\"vessel found on IMO : {vessel_name}\")\n",
    "\n",
    "            except:\n",
    "                continue\n",
    "        \n",
    "            # Click the collapse/expand button to show the vessel size/dimensions\n",
    "            time.sleep(5)\n",
    "            dimensions_btn = driver.find_element(By.XPATH, '/html/body/div/section/main/div/div[2]/div[8]')\n",
    "            dimensions_btn.click()\n",
    "        \n",
    "            # Scrape the vessel information and store it in a dictionary\n",
    "            time.sleep(5)  # adjust this if necessary\n",
    "            vessel_info = driver.find_element(By.XPATH, '/html/body/div/section/main/div/div[2]/div[8]/div[2]/div/div/div').text\n",
    "            vessel_name = driver.find_element(By.XPATH, '/html/body/div/section/main/div/div[1]/div[2]/div[1]/span[1]').text\n",
    "            details_dict = {'Name': vessel_name}\n",
    "            dimension_values = driver.find_elements(By.XPATH, '/html/body/div/section/main/div/div[2]/div[8]/div[2]/div/div/div/div')\n",
    "            for dim_value in dimension_values:\n",
    "                if ':' not in dim_value.text:\n",
    "                    continue\n",
    "                dim_name, dim_val = dim_value.text.split(':', maxsplit=1)\n",
    "                dim_name = dim_name.strip()\n",
    "                dim_val = dim_val.strip()\n",
    "                if dim_name in fieldnames:\n",
    "                    details_dict[dim_name] = dim_val\n",
    "\n",
    "\n",
    "            # Write the details to the CSV file\n",
    "            writer.writerow(details_dict)\n",
    "\n",
    "# Close the webdriver\n",
    "driver.quit()\n"
   ]
  },
  {
   "cell_type": "code",
   "execution_count": null,
   "id": "8b91f53c",
   "metadata": {},
   "outputs": [],
   "source": []
  }
 ],
 "metadata": {
  "kernelspec": {
   "display_name": "Python 3 (ipykernel)",
   "language": "python",
   "name": "python3"
  },
  "language_info": {
   "codemirror_mode": {
    "name": "ipython",
    "version": 3
   },
   "file_extension": ".py",
   "mimetype": "text/x-python",
   "name": "python",
   "nbconvert_exporter": "python",
   "pygments_lexer": "ipython3",
   "version": "3.11.3"
  }
 },
 "nbformat": 4,
 "nbformat_minor": 5
}
