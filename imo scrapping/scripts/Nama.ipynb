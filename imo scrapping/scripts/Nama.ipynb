{
 "cells": [
  {
   "cell_type": "code",
   "execution_count": 43,
   "id": "5a9852c1",
   "metadata": {},
   "outputs": [],
   "source": [
    "import os\n",
    "import re\n",
    "import csv\n",
    "from selenium import webdriver\n",
    "from selenium.webdriver.common.by import By\n",
    "from selenium.webdriver.support.ui import WebDriverWait\n",
    "from selenium.webdriver.support import expected_conditions as EC\n",
    "from selenium.common.exceptions import NoSuchElementException"
   ]
  },
  {
   "cell_type": "code",
   "execution_count": 44,
   "id": "76308547",
   "metadata": {},
   "outputs": [],
   "source": [
    "#user setup area\n",
    "highestDWT = 1000000 #change this for the cap\n",
    "vessel_type = 401 #401 bulk carrier , 402 general cargo , 403 container , 6 all tanker \n",
    "minYear = '1985'\n",
    "maxYear = '2022'\n",
    "flag = 'ID' #refer to vessel finder names"
   ]
  },
  {
   "cell_type": "code",
   "execution_count": 50,
   "id": "9e4ccca0",
   "metadata": {},
   "outputs": [],
   "source": [
    "filename = 'bulkcarrier.csv'\n",
    "directory ='C:/Users/abinp/Documents/ITS/side projects/new/imo scrapping/output/names/'\n",
    "csv_write = '{}{}'.format(directory,filename)"
   ]
  },
  {
   "cell_type": "code",
   "execution_count": 35,
   "id": "fc463937",
   "metadata": {},
   "outputs": [
    {
     "name": "stdout",
     "output_type": "stream",
     "text": [
      " Volume in drive C has no label.\n",
      " Volume Serial Number is A071-85E6\n",
      "\n",
      " Directory of C:\\Users\\abinp\\Documents\\ITS\\side projects\\new\\imo scrapping\\scripts\n",
      "\n",
      "21/04/2023  10:27    <DIR>          .\n",
      "20/04/2023  20:05    <DIR>          ..\n",
      "21/04/2023  10:27    <DIR>          .ipynb_checkpoints\n",
      "20/04/2023  21:48             2.806 csv splitter.ipynb\n",
      "20/04/2023  20:07            18.779 Imo kapal.ipynb\n",
      "21/04/2023  10:27            15.789 Nama.ipynb\n",
      "21/04/2023  10:27           483.404 Nama_ngapal 4.ipynb\n",
      "               4 File(s)        520.778 bytes\n",
      "               3 Dir(s)  22.654.926.848 bytes free\n"
     ]
    }
   ],
   "source": [
    "%ls\n",
    "link =''\n",
    "vessel_names = []\n",
    "minDW = -1000\n",
    "maxDW = 0"
   ]
  },
  {
   "cell_type": "code",
   "execution_count": 36,
   "id": "cf8e357f",
   "metadata": {},
   "outputs": [
    {
     "name": "stdout",
     "output_type": "stream",
     "text": [
      "https://www.vesselfinder.com/vessels?type=401&flag=ID&minDW=0&maxDW=1000000&minYear=1985&maxYear=2022&dir=1&sort=4\n"
     ]
    }
   ],
   "source": [
    "def changelink(min,max):\n",
    "    global minDW , maxDW , link\n",
    "    minDW = min + 1000\n",
    "    maxDW = max + 1000000\n",
    "    #https://www.vesselfinder.com/vessels?type=401&flag=ID&minDW=1000&maxDW=100000&minYear=1985&maxYear=2022\n",
    "    link = \"https://www.vesselfinder.com/vessels?type={}&flag={}&minDW={}&maxDW={}&minYear={}&maxYear={}&dir=1&sort=4\".format(vessel_type,flag,minDW,maxDW,minYear,maxYear)   \n",
    "changelink(minDW,maxDW)\n",
    "print(link)"
   ]
  },
  {
   "cell_type": "code",
   "execution_count": 37,
   "id": "714abf90",
   "metadata": {},
   "outputs": [],
   "source": [
    "# create webdriver instance using options\n",
    "driver = webdriver.Chrome(executable_path=r\"chromedriver\")\n",
    "driver.get(link)"
   ]
  },
  {
   "cell_type": "code",
   "execution_count": 38,
   "id": "1042c1d8",
   "metadata": {},
   "outputs": [
    {
     "name": "stdout",
     "output_type": "stream",
     "text": [
      "reaching end of range\n"
     ]
    }
   ],
   "source": [
    "while True:\n",
    "    names = driver.find_elements(By.CLASS_NAME, \"slna\")\n",
    "    for name in names:\n",
    "        vessel_names.append(name.text)\n",
    "    try:\n",
    "        next_page = driver.find_element(By.CLASS_NAME, \"pagination-next\")\n",
    "        if not next_page.is_enabled():\n",
    "            print(\"Out of pages\")\n",
    "            break\n",
    "        next_page.click()\n",
    "        \n",
    "    except NoSuchElementException:\n",
    "        if maxDW == highestDWT:\n",
    "            print(\"reaching end of range\")\n",
    "            break\n",
    "        else:\n",
    "            print(\"changing range |  min dw :{}   max dw: {}\".format(minDW,maxDW))\n",
    "            changelink(minDW,maxDW)\n",
    "            driver = webdriver.Chrome(executable_path=r\"chromedriver\")\n",
    "            driver.get(link)\n",
    "            continue"
   ]
  },
  {
   "cell_type": "code",
   "execution_count": 46,
   "id": "63cc3aee",
   "metadata": {},
   "outputs": [
    {
     "name": "stdout",
     "output_type": "stream",
     "text": [
      "['HABCO PIONEER', 'PUSRI INDONESIA 1', 'LUMOSO PROSPER', 'MV NAZIHA', 'KARUNIA', 'DK 02', 'DHARMA LAUTAN RUBY', 'CAHAYA MUSTIKA LAUT1', 'MBS BALURAN', 'AMANAH SULAWESI AMC', 'SINAR KINTAMANI', 'MANALAGI TISYA', 'ARFIANIE AYU', 'GOLDEN REJEKI', 'ASIAN WISDOM', 'KT 06', 'LUMOSO LESTARI', 'LUMOSO KARUNIA II', 'GUNALEILA', 'DEWI AMBARWATI', 'MUMTAZ', 'LUMOSO LANCAR', 'GOLDEN ROSE', 'MUNQIDZ', 'MANALAGI WANDA', 'MV PUTERI SEJATI', 'NOAH ASYERA', 'CHLOE', 'SAMUDRA SAKTI III', 'KT 02', 'MV. LUMOSO RAYA', 'FIRST KASIH', 'MV.MUHASYIR', 'KT 05', 'UNITAMA LILY', 'LUMOSO SURYA', '-SARTIKA BARUNA', 'LGH PROSPER', 'MANALAGI HITA', 'PANCARAN I 5505', 'KAMADIYA', 'PRIMA ANDALAN I', 'ANDHIKA ALISHA', 'DRY TRANSPORT', 'KM PUTERI KIRANA', 'LUMOSO KARUNIA VIII', 'ALIYAH PRATAMA', 'PERMATA CAROLINE', 'AMANAH MOROWALI AMC', 'MV.ARIMBI BARUNA', 'SRIKANDI INDONESIA19', 'MARTHA BARUNA', 'LUMOSO HAWARI', 'MANALAGI TARA', 'INDRANI', 'ANDHIKA PARAMESTI', 'ISA EXPRESS', 'LUMOSO AMAN', 'MV.ISA GOLDEN', 'LUMOSO KASIH', 'HAI KE 102', 'SURYAWATI', 'CHANDRA KIRANA', 'TITAN 41', 'FORUM', 'BULK BATAVIA', 'MARA', 'LUMOSO ALAM', 'MUBASYIR', 'PACIFIC BULK', 'MEUTIA BARUNA', 'MANALAGI YASA', 'MV.NAMEERA', 'RASUNA BARUNA', 'LUMOSO DAMAI', 'KARTINI SAMUDRA', 'MAXIMUS I', 'MV.ADHIGUNA TARAHAN', 'MANALAGI ASTI', 'PANCARAN VICTORY', 'PEONY LAUT', 'MARIA NASHWAH', 'KAREEM', 'KARUNIA GEMILANG I', 'LUMOSO PRATAMA', 'SARASWATI', 'KAYSAN', 'HI 01', 'LUMOSO BERKAT', 'TAMARK 01', 'MV SAMUDRA SAKTI I', 'AMETHYST', 'LUMOSO PERMAI', 'AURORA CHRISTINE', 'DHARMA LAUTAN INTAN', 'AMANAH HALMAHERA AMC', 'ALIYAH PERTIWI', 'MANALAGI ASTA', 'MV.NADHIF', 'MDM BROMO', 'DAIDAN MUSTIKAWATI', 'BERKAH 99', 'KARUNIA GEMILANG II', 'MONICA P', 'MANALAGI DASA', 'MV.INTAN BARUNA', 'MBS BUYAN', 'HI 02', 'CITRAWATI', 'DEWI SHINTA MANGGALA', 'TITAN 40', 'ANDHIKA KANISHKA', 'MV.ARLYN', 'MBS BULELENG', 'PANCARAN GLORY', 'AVERY CHIARA', 'MANALAGI SAMBA', 'DAIDAN PERTIWI', 'LUMOSO JAYA', 'GOLDEN ACE', 'HABCO AQUILA', 'NATASCHA', 'MV.RASHAD', 'ALIYAH PERMATA', 'MBS BRATAN', 'BARA ANUGERAH', 'VICTORIA I', 'ANDHIKA NARESWARI', 'HAMMADA', 'AZZAHRA', 'KARTINI BARUNA', 'MV.GOLDEN DESTINY', 'ANGGREK LAUT', 'ZALEHA FITRAT', 'NASHALINA', 'JHONI XLIX', 'MANALAGI VIRA', 'NUR AWLIYA', 'MV.MUHARRIK', 'MDM BATUR', 'MALAHAYATI BARUNA', 'ABDUL HAMID', 'LUMOSO KARUNIA IX', 'MANALAGI PRITA', 'KAYU EBONI', 'MV.UNIORDER', 'LUMOSO HARMONI', 'NUR ALLYA', 'DEWI SARASWATI', 'DK 03', 'ARFIANIE', 'HI 03', 'AMANAH KENDARI AMC', 'AMMAR', 'ANDHIKA ATHALIA', 'LUMOSO SAYANG', 'MANALAGI ENZI', 'SAMI', 'HABCO ANKAA', 'HABCO CARINA', 'ODETTE']\n"
     ]
    }
   ],
   "source": [
    "print(vessel_names)"
   ]
  },
  {
   "cell_type": "code",
   "execution_count": 47,
   "id": "25893eec",
   "metadata": {},
   "outputs": [],
   "source": [
    "duplicates = []\n",
    "for name in vessel_names:\n",
    "    if vessel_names.count(name) > 1:\n",
    "        duplicates.append(name)\n",
    "\n",
    "duplicates = list(set(duplicates))\n",
    "\n",
    "for name in duplicates:\n",
    "    print(\"Removing duplicates:\", name)\n",
    "    \n",
    "#clear duplicate\n",
    "clear_list = list(set(vessel_names))\n",
    "vessel_names = clear_list"
   ]
  },
  {
   "cell_type": "code",
   "execution_count": 48,
   "id": "1429f2ee",
   "metadata": {},
   "outputs": [
    {
     "data": {
      "text/plain": [
       "161"
      ]
     },
     "execution_count": 48,
     "metadata": {},
     "output_type": "execute_result"
    }
   ],
   "source": [
    "len(vessel_names)"
   ]
  },
  {
   "cell_type": "code",
   "execution_count": 51,
   "id": "ec22b6ca",
   "metadata": {},
   "outputs": [],
   "source": [
    "# assume the list of names is stored in a variable called \"vessel_names\"\n",
    "\n",
    "# open a new CSV file for writing\n",
    "with open(csv_write, 'w', newline='') as csvfile:\n",
    "    # create a CSV writer object\n",
    "    writer = csv.writer(csvfile)\n",
    "    \n",
    "    # write the header row (optional)\n",
    "    writer.writerow(['name'])\n",
    "\n",
    "    # write each name and its corresponding minDW and maxDW values to a new row in the CSV file\n",
    "    for i in range(0, len(vessel_names)):\n",
    "        name = vessel_names[i]\n",
    "        writer.writerow([name])\n"
   ]
  },
  {
   "cell_type": "code",
   "execution_count": null,
   "id": "657a08f5",
   "metadata": {},
   "outputs": [],
   "source": []
  }
 ],
 "metadata": {
  "kernelspec": {
   "display_name": "Python 3 (ipykernel)",
   "language": "python",
   "name": "python3"
  },
  "language_info": {
   "codemirror_mode": {
    "name": "ipython",
    "version": 3
   },
   "file_extension": ".py",
   "mimetype": "text/x-python",
   "name": "python",
   "nbconvert_exporter": "python",
   "pygments_lexer": "ipython3",
   "version": "3.11.3"
  }
 },
 "nbformat": 4,
 "nbformat_minor": 5
}
